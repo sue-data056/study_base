{
 "cells": [
  {
   "cell_type": "markdown",
   "metadata": {
    "slideshow": {
     "slide_type": "slide"
    }
   },
   "source": [
    "### HTML 웹 크롤링\n",
    "- 제조업 PMI 데이터 수집\n",
    "    - tradingeconomics 웹 서비스에서 아시아의 제조업 PMI 데이터를 수집하여 PMI 지표가 상승한 국가의 데이터를 출력\n",
    "    - `https://ko.tradingeconomics.com/`\n",
    "    - 지표 -> 사업 -> 제조업 PMI -> 아시아"
   ]
  },
  {
   "cell_type": "code",
   "execution_count": 1,
   "metadata": {},
   "outputs": [],
   "source": [
    "\n",
    "import requests\n",
    "from bs4 import BeautifulSoup"
   ]
  },
  {
   "cell_type": "markdown",
   "metadata": {},
   "source": [
    "1. 아시아 국가별 PMI 지수 데이터 수집"
   ]
  },
  {
   "cell_type": "code",
   "execution_count": 3,
   "metadata": {},
   "outputs": [
    {
     "name": "stdout",
     "output_type": "stream",
     "text": [
      "<Response [200]>\n"
     ]
    }
   ],
   "source": [
    "url = \"https://ko.tradingeconomics.com/country-list/manufacturing-pmi?continent=asia\"\n",
    "response = requests.get(url)\n",
    "print(response)\n",
    "soup = BeautifulSoup(response.content, \"html.parser\")"
   ]
  },
  {
   "cell_type": "code",
   "execution_count": 75,
   "metadata": {},
   "outputs": [],
   "source": [
    "ls = []\n",
    "for i in range(int(len(datas)/5)):\n",
    "    ls.append({\n",
    "        \"country\" : datas[(5*i)+0].text.strip(),\n",
    "        \"last\" : datas[(5*i)+1].text.strip(),\n",
    "        \"before\" : datas[(5*i)+2].text.strip(),\n",
    "        \"date\" : datas[(5*i)+3].text.strip()\n",
    "    })\n",
    "    \n",
    "df = pd.DataFrame(ls)"
   ]
  },
  {
   "cell_type": "code",
   "execution_count": 77,
   "metadata": {},
   "outputs": [
    {
     "data": {
      "text/html": [
       "<div>\n",
       "<style scoped>\n",
       "    .dataframe tbody tr th:only-of-type {\n",
       "        vertical-align: middle;\n",
       "    }\n",
       "\n",
       "    .dataframe tbody tr th {\n",
       "        vertical-align: top;\n",
       "    }\n",
       "\n",
       "    .dataframe thead th {\n",
       "        text-align: right;\n",
       "    }\n",
       "</style>\n",
       "<table border=\"1\" class=\"dataframe\">\n",
       "  <thead>\n",
       "    <tr style=\"text-align: right;\">\n",
       "      <th></th>\n",
       "      <th>country</th>\n",
       "      <th>last</th>\n",
       "      <th>before</th>\n",
       "      <th>date</th>\n",
       "    </tr>\n",
       "  </thead>\n",
       "  <tbody>\n",
       "    <tr>\n",
       "      <th>15</th>\n",
       "      <td>스리랑카</td>\n",
       "      <td>64.6</td>\n",
       "      <td>67.3</td>\n",
       "      <td>2020-07</td>\n",
       "    </tr>\n",
       "    <tr>\n",
       "      <th>16</th>\n",
       "      <td>대만</td>\n",
       "      <td>50.6</td>\n",
       "      <td>46.2</td>\n",
       "      <td>2020-07</td>\n",
       "    </tr>\n",
       "    <tr>\n",
       "      <th>17</th>\n",
       "      <td>태국</td>\n",
       "      <td>45.9</td>\n",
       "      <td>43.5</td>\n",
       "      <td>2020-07</td>\n",
       "    </tr>\n",
       "    <tr>\n",
       "      <th>18</th>\n",
       "      <td>아랍 에미리트</td>\n",
       "      <td>50.8</td>\n",
       "      <td>50.4</td>\n",
       "      <td>2020-07</td>\n",
       "    </tr>\n",
       "    <tr>\n",
       "      <th>19</th>\n",
       "      <td>베트남</td>\n",
       "      <td>47.6</td>\n",
       "      <td>51.1</td>\n",
       "      <td>2020-07</td>\n",
       "    </tr>\n",
       "  </tbody>\n",
       "</table>\n",
       "</div>"
      ],
      "text/plain": [
       "    country  last before     date\n",
       "15     스리랑카  64.6   67.3  2020-07\n",
       "16       대만  50.6   46.2  2020-07\n",
       "17       태국  45.9   43.5  2020-07\n",
       "18  아랍 에미리트  50.8   50.4  2020-07\n",
       "19      베트남  47.6   51.1  2020-07"
      ]
     },
     "execution_count": 77,
     "metadata": {},
     "output_type": "execute_result"
    }
   ],
   "source": [
    "df.tail()"
   ]
  },
  {
   "cell_type": "markdown",
   "metadata": {},
   "source": [
    "2. PMI 지수 변동률 컬럼 추가"
   ]
  },
  {
   "cell_type": "code",
   "execution_count": 82,
   "metadata": {},
   "outputs": [
    {
     "data": {
      "text/html": [
       "<div>\n",
       "<style scoped>\n",
       "    .dataframe tbody tr th:only-of-type {\n",
       "        vertical-align: middle;\n",
       "    }\n",
       "\n",
       "    .dataframe tbody tr th {\n",
       "        vertical-align: top;\n",
       "    }\n",
       "\n",
       "    .dataframe thead th {\n",
       "        text-align: right;\n",
       "    }\n",
       "</style>\n",
       "<table border=\"1\" class=\"dataframe\">\n",
       "  <thead>\n",
       "    <tr style=\"text-align: right;\">\n",
       "      <th></th>\n",
       "      <th>country</th>\n",
       "      <th>last</th>\n",
       "      <th>before</th>\n",
       "      <th>date</th>\n",
       "      <th>change</th>\n",
       "    </tr>\n",
       "  </thead>\n",
       "  <tbody>\n",
       "    <tr>\n",
       "      <th>15</th>\n",
       "      <td>스리랑카</td>\n",
       "      <td>64.6</td>\n",
       "      <td>67.3</td>\n",
       "      <td>2020-07</td>\n",
       "      <td>-2.7</td>\n",
       "    </tr>\n",
       "    <tr>\n",
       "      <th>16</th>\n",
       "      <td>대만</td>\n",
       "      <td>50.6</td>\n",
       "      <td>46.2</td>\n",
       "      <td>2020-07</td>\n",
       "      <td>4.4</td>\n",
       "    </tr>\n",
       "    <tr>\n",
       "      <th>17</th>\n",
       "      <td>태국</td>\n",
       "      <td>45.9</td>\n",
       "      <td>43.5</td>\n",
       "      <td>2020-07</td>\n",
       "      <td>2.4</td>\n",
       "    </tr>\n",
       "    <tr>\n",
       "      <th>18</th>\n",
       "      <td>아랍 에미리트</td>\n",
       "      <td>50.8</td>\n",
       "      <td>50.4</td>\n",
       "      <td>2020-07</td>\n",
       "      <td>0.4</td>\n",
       "    </tr>\n",
       "    <tr>\n",
       "      <th>19</th>\n",
       "      <td>베트남</td>\n",
       "      <td>47.6</td>\n",
       "      <td>51.1</td>\n",
       "      <td>2020-07</td>\n",
       "      <td>-3.5</td>\n",
       "    </tr>\n",
       "  </tbody>\n",
       "</table>\n",
       "</div>"
      ],
      "text/plain": [
       "    country  last before     date  change\n",
       "15     스리랑카  64.6   67.3  2020-07    -2.7\n",
       "16       대만  50.6   46.2  2020-07     4.4\n",
       "17       태국  45.9   43.5  2020-07     2.4\n",
       "18  아랍 에미리트  50.8   50.4  2020-07     0.4\n",
       "19      베트남  47.6   51.1  2020-07    -3.5"
      ]
     },
     "execution_count": 82,
     "metadata": {},
     "output_type": "execute_result"
    }
   ],
   "source": [
    "df[\"change\"] = df[\"last\"].astype(\"float64\") - df[\"before\"].astype(\"float64\")\n",
    "df.tail()"
   ]
  },
  {
   "cell_type": "markdown",
   "metadata": {},
   "source": [
    "3. 제조업 PMI가 이전 달보다 안 좋아진 국가리스트 출력"
   ]
  },
  {
   "cell_type": "code",
   "execution_count": 84,
   "metadata": {},
   "outputs": [
    {
     "data": {
      "text/html": [
       "<div>\n",
       "<style scoped>\n",
       "    .dataframe tbody tr th:only-of-type {\n",
       "        vertical-align: middle;\n",
       "    }\n",
       "\n",
       "    .dataframe tbody tr th {\n",
       "        vertical-align: top;\n",
       "    }\n",
       "\n",
       "    .dataframe thead th {\n",
       "        text-align: right;\n",
       "    }\n",
       "</style>\n",
       "<table border=\"1\" class=\"dataframe\">\n",
       "  <thead>\n",
       "    <tr style=\"text-align: right;\">\n",
       "      <th></th>\n",
       "      <th>country</th>\n",
       "      <th>last</th>\n",
       "      <th>before</th>\n",
       "      <th>date</th>\n",
       "      <th>change</th>\n",
       "    </tr>\n",
       "  </thead>\n",
       "  <tbody>\n",
       "    <tr>\n",
       "      <th>1</th>\n",
       "      <td>홍콩</td>\n",
       "      <td>44.5</td>\n",
       "      <td>49.6</td>\n",
       "      <td>2020-07</td>\n",
       "      <td>-5.1</td>\n",
       "    </tr>\n",
       "    <tr>\n",
       "      <th>2</th>\n",
       "      <td>인도</td>\n",
       "      <td>46</td>\n",
       "      <td>47.2</td>\n",
       "      <td>2020-07</td>\n",
       "      <td>-1.2</td>\n",
       "    </tr>\n",
       "    <tr>\n",
       "      <th>6</th>\n",
       "      <td>카자흐스탄</td>\n",
       "      <td>48</td>\n",
       "      <td>52.9</td>\n",
       "      <td>2020-07</td>\n",
       "      <td>-4.9</td>\n",
       "    </tr>\n",
       "    <tr>\n",
       "      <th>8</th>\n",
       "      <td>말레이시아</td>\n",
       "      <td>50</td>\n",
       "      <td>51</td>\n",
       "      <td>2020-07</td>\n",
       "      <td>-1.0</td>\n",
       "    </tr>\n",
       "    <tr>\n",
       "      <th>10</th>\n",
       "      <td>필리핀</td>\n",
       "      <td>48.4</td>\n",
       "      <td>49.7</td>\n",
       "      <td>2020-07</td>\n",
       "      <td>-1.3</td>\n",
       "    </tr>\n",
       "    <tr>\n",
       "      <th>15</th>\n",
       "      <td>스리랑카</td>\n",
       "      <td>64.6</td>\n",
       "      <td>67.3</td>\n",
       "      <td>2020-07</td>\n",
       "      <td>-2.7</td>\n",
       "    </tr>\n",
       "    <tr>\n",
       "      <th>19</th>\n",
       "      <td>베트남</td>\n",
       "      <td>47.6</td>\n",
       "      <td>51.1</td>\n",
       "      <td>2020-07</td>\n",
       "      <td>-3.5</td>\n",
       "    </tr>\n",
       "  </tbody>\n",
       "</table>\n",
       "</div>"
      ],
      "text/plain": [
       "   country  last before     date  change\n",
       "1       홍콩  44.5   49.6  2020-07    -5.1\n",
       "2       인도    46   47.2  2020-07    -1.2\n",
       "6    카자흐스탄    48   52.9  2020-07    -4.9\n",
       "8    말레이시아    50     51  2020-07    -1.0\n",
       "10     필리핀  48.4   49.7  2020-07    -1.3\n",
       "15    스리랑카  64.6   67.3  2020-07    -2.7\n",
       "19     베트남  47.6   51.1  2020-07    -3.5"
      ]
     },
     "execution_count": 84,
     "metadata": {},
     "output_type": "execute_result"
    }
   ],
   "source": [
    "df[df[\"change\"] < 0.0 ]"
   ]
  }
 ],
 "metadata": {
  "kernelspec": {
   "display_name": "Python 3",
   "language": "python",
   "name": "python3"
  },
  "language_info": {
   "codemirror_mode": {
    "name": "ipython",
    "version": 3
   },
   "file_extension": ".py",
   "mimetype": "text/x-python",
   "name": "python",
   "nbconvert_exporter": "python",
   "pygments_lexer": "ipython3",
   "version": "3.7.6"
  },
  "toc": {
   "base_numbering": 1,
   "nav_menu": {},
   "number_sections": true,
   "sideBar": true,
   "skip_h1_title": false,
   "title_cell": "Table of Contents",
   "title_sidebar": "Contents",
   "toc_cell": false,
   "toc_position": {},
   "toc_section_display": true,
   "toc_window_display": false
  },
  "varInspector": {
   "cols": {
    "lenName": 16,
    "lenType": 16,
    "lenVar": 40
   },
   "kernels_config": {
    "python": {
     "delete_cmd_postfix": "",
     "delete_cmd_prefix": "del ",
     "library": "var_list.py",
     "varRefreshCmd": "print(var_dic_list())"
    },
    "r": {
     "delete_cmd_postfix": ") ",
     "delete_cmd_prefix": "rm(",
     "library": "var_list.r",
     "varRefreshCmd": "cat(var_dic_list()) "
    }
   },
   "types_to_exclude": [
    "module",
    "function",
    "builtin_function_or_method",
    "instance",
    "_Feature"
   ],
   "window_display": false
  }
 },
 "nbformat": 4,
 "nbformat_minor": 4
}
