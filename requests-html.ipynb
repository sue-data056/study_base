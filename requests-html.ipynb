{
 "cells": [
  {
   "cell_type": "markdown",
   "metadata": {},
   "source": [
    "### HTML 데이터 파싱을 이용한 크롤링\n",
    "- 네이버 실시간 검색어 순위 \n",
    "    - HTML 포멧의 문자열을 가져오는 URL 찾음\n",
    "    - 요청 -> 응답(HTML 포멧(str)의 데이터를 저장)\n",
    "    - 데이터 파싱\n",
    "        - bs4 패키지의 BeautifulSoup 클래스를 이용해서 dom 객체를 생성\n",
    "        - dom 객체에서 우리가 원하는 데이터를 css-selector를 이용해서 수집\n",
    "        - 데이터 프레임으로 만들기"
   ]
  },
  {
   "cell_type": "markdown",
   "metadata": {},
   "source": [
    "### 네이버 연관검색어 가져오기"
   ]
  },
  {
   "cell_type": "code",
   "execution_count": 2,
   "metadata": {},
   "outputs": [],
   "source": [
    "import requests\n",
    "from bs4 import BeautifulSoup"
   ]
  },
  {
   "cell_type": "code",
   "execution_count": 6,
   "metadata": {},
   "outputs": [
    {
     "name": "stdout",
     "output_type": "stream",
     "text": [
      "https://search.naver.com/search.naver?sm=top_hty&fbm=1&ie=utf8&query=삼성전자\n"
     ]
    }
   ],
   "source": [
    "# 1. requests 이용하여 HTML 코드 문자열 데이터 가져오기\n",
    "\n",
    "query = \"삼성전자\"\n",
    "url = \"https://search.naver.com/search.naver?\\\n",
    "sm=top_hty&fbm=1&ie=utf8&query={}\".format(query)\n",
    "print(url)"
   ]
  },
  {
   "cell_type": "code",
   "execution_count": 17,
   "metadata": {},
   "outputs": [
    {
     "data": {
      "text/plain": [
       "<Response [200]>"
      ]
     },
     "execution_count": 17,
     "metadata": {},
     "output_type": "execute_result"
    }
   ],
   "source": [
    "response = requests.get(url)\n",
    "response"
   ]
  },
  {
   "cell_type": "code",
   "execution_count": 18,
   "metadata": {},
   "outputs": [],
   "source": [
    "# 2. BeautifulSoup을 이용하여 css selector를 사용할수 있는 객체로 파싱\n",
    "dom = BeautifulSoup(response.content, \"html.parser\")"
   ]
  },
  {
   "cell_type": "code",
   "execution_count": 19,
   "metadata": {},
   "outputs": [
    {
     "data": {
      "text/plain": [
       "10"
      ]
     },
     "execution_count": 19,
     "metadata": {},
     "output_type": "execute_result"
    }
   ],
   "source": [
    "# 3. css selector를 이용하여 원하는 데이터 수집\n",
    "# select : 여러개의 엘리먼트 객체들을 리스트로 가져옴\n",
    "# select_one : 하나의 엘리먼트 객체를 가져옴\n",
    "\n",
    "elements = dom.select(\"._related_keyword_ul > li\")\n",
    "len(elements) #len 찍어보면 몇개인지 알 수 있으니까\n",
    "\n",
    "# copy selector를 사용할 수 있음\n",
    "# copy selector를 사용하면 id가 나올 때까지 찾아주기 때문에 약가 긴편\n"
   ]
  },
  {
   "cell_type": "code",
   "execution_count": 23,
   "metadata": {},
   "outputs": [
    {
     "data": {
      "text/plain": [
       "(bs4.element.Tag,\n",
       " <li> <a data-area=\"*q\" data-idx=\"1\" href=\"?where=nexearch&amp;query=%EC%82%BC%EC%84%B1%EC%A0%84%EC%9E%90%EC%9A%B0&amp;ie=utf8&amp;sm=tab_she&amp;qdt=0\">삼성전자우</a> </li>,\n",
       " '삼성전자우')"
      ]
     },
     "execution_count": 23,
     "metadata": {},
     "output_type": "execute_result"
    }
   ],
   "source": [
    "type(elements[0]), elements[0], elements[0].text.strip()"
   ]
  },
  {
   "cell_type": "code",
   "execution_count": 24,
   "metadata": {},
   "outputs": [
    {
     "name": "stdout",
     "output_type": "stream",
     "text": [
      "['삼성전자우', '카카오', 'sk하이닉스', '삼성', '현대자동차', '삼성전자서비스센터', 'lg화학', '네이버', '코스피', '삼성sdi']\n"
     ]
    }
   ],
   "source": [
    "# keywords = []\n",
    "# for i in range(len(elements)):\n",
    "#     keywords.append(elements[i].text.strip())\n",
    "\n",
    "\n",
    "# print(keywords)  \n",
    "\n",
    "# 이런 코드는 좋은 코드가 아님"
   ]
  },
  {
   "cell_type": "code",
   "execution_count": 25,
   "metadata": {},
   "outputs": [
    {
     "data": {
      "text/plain": [
       "['삼성전자우',\n",
       " '카카오',\n",
       " 'sk하이닉스',\n",
       " '삼성',\n",
       " '현대자동차',\n",
       " '삼성전자서비스센터',\n",
       " 'lg화학',\n",
       " '네이버',\n",
       " '코스피',\n",
       " '삼성sdi']"
      ]
     },
     "execution_count": 25,
     "metadata": {},
     "output_type": "execute_result"
    }
   ],
   "source": [
    "# list comprehenshion을 사용하도록 하자\n",
    "[element.text.strip() for element in elements]"
   ]
  },
  {
   "cell_type": "code",
   "execution_count": 26,
   "metadata": {},
   "outputs": [],
   "source": [
    "# 함수로 만들어 봅시다\n",
    "\n",
    "def linked_words(query):\n",
    "    url = \"https://search.naver.com/search.naver?\\\n",
    "    sm=top_hty&fbm=1&ie=utf8&query={}\".format(query)\n",
    "    \n",
    "    response = requests.get(url)    \n",
    "    dom = BeautifulSoup(response.content, \"html.parser\")\n",
    "    elements = dom.select(\"._related_keyword_ul > li\")\n",
    "    \n",
    "    return [element.text.strip() for element in elements]"
   ]
  },
  {
   "cell_type": "code",
   "execution_count": 27,
   "metadata": {},
   "outputs": [
    {
     "data": {
      "text/plain": [
       "['와인에빠진귤친구들',\n",
       " '반자동커피머신',\n",
       " '스페인하숙커피머신',\n",
       " '가정용에스프레소머신추천',\n",
       " '카페박람회',\n",
       " '캡슐커피',\n",
       " '가정용커피머신추천',\n",
       " '스페인하숙커피',\n",
       " '전자동커피머신',\n",
       " '커피메이커']"
      ]
     },
     "execution_count": 27,
     "metadata": {},
     "output_type": "execute_result"
    }
   ],
   "source": [
    "linked_words(\"커피머신\")"
   ]
  },
  {
   "cell_type": "markdown",
   "metadata": {},
   "source": [
    "### 다음 기사 가져오기\n",
    "- 다음 뉴스 메인 페이지 15개의 기사 제목, 링크, 내용 가져오기"
   ]
  },
  {
   "cell_type": "code",
   "execution_count": 111,
   "metadata": {},
   "outputs": [
    {
     "data": {
      "text/plain": [
       "(15,\n",
       " <li>\n",
       " <a class=\"link_txt \" data-tiara-action-kind=\"ClickContent\" data-tiara-action-name=\"뉴스1탭_텍스트소재\" data-tiara-custom=\"c_id=hamny-20200824125600267\" data-tiara-id=\"hamny-20200824125600267\" data-tiara-imp_id=\"\" data-tiara-layer=\"txt\" data-tiara-ordnum=\"1\" href=\"https://v.daum.net/v/20200824125600267\">박능후 \"사랑제일교회 협조 있었다면 확진자 상당히 줄었을 것\"</a>\n",
       " </li>)"
      ]
     },
     "execution_count": 111,
     "metadata": {},
     "output_type": "execute_result"
    }
   ],
   "source": [
    "url = \"https://daum.net\"\n",
    "response = requests.get(url)\n",
    "dom = BeautifulSoup(response.content, \"html.parser\")\n",
    "elements = dom.select(\".list_txt > li\")\n",
    "len(elements), elements[0]"
   ]
  },
  {
   "cell_type": "code",
   "execution_count": 112,
   "metadata": {},
   "outputs": [],
   "source": [
    "datas = []\n",
    "\n",
    "for element in elements:\n",
    "    datas.append({\n",
    "        \"title\": element.text.strip(),\n",
    "        \"link\" : element.select_one('a').get(\"href\")  # a 태그 안에서 속성 값 href를 가져오겠다는 것\n",
    "    })"
   ]
  },
  {
   "cell_type": "code",
   "execution_count": 113,
   "metadata": {},
   "outputs": [
    {
     "data": {
      "text/html": [
       "<div>\n",
       "<style scoped>\n",
       "    .dataframe tbody tr th:only-of-type {\n",
       "        vertical-align: middle;\n",
       "    }\n",
       "\n",
       "    .dataframe tbody tr th {\n",
       "        vertical-align: top;\n",
       "    }\n",
       "\n",
       "    .dataframe thead th {\n",
       "        text-align: right;\n",
       "    }\n",
       "</style>\n",
       "<table border=\"1\" class=\"dataframe\">\n",
       "  <thead>\n",
       "    <tr style=\"text-align: right;\">\n",
       "      <th></th>\n",
       "      <th>title</th>\n",
       "      <th>link</th>\n",
       "    </tr>\n",
       "  </thead>\n",
       "  <tbody>\n",
       "    <tr>\n",
       "      <th>0</th>\n",
       "      <td>박능후 \"사랑제일교회 협조 있었다면 확진자 상당히 줄었을 것\"</td>\n",
       "      <td>https://v.daum.net/v/20200824125600267</td>\n",
       "    </tr>\n",
       "    <tr>\n",
       "      <th>1</th>\n",
       "      <td>'공백 최소화'라더니..수술 연기에 우는 환자들</td>\n",
       "      <td>https://v.daum.net/v/20200824125100170</td>\n",
       "    </tr>\n",
       "    <tr>\n",
       "      <th>2</th>\n",
       "      <td>국보 불상 2점은 어찌되나..보물 2점 국립박물관에 판 간송재단의 다음 행보는?</td>\n",
       "      <td>https://v.daum.net/v/20200824124745113</td>\n",
       "    </tr>\n",
       "    <tr>\n",
       "      <th>3</th>\n",
       "      <td>감염학회 \"코로나19 급증, 거리두기 3단계 격상 불가피\"</td>\n",
       "      <td>https://v.daum.net/v/20200824124121024</td>\n",
       "    </tr>\n",
       "    <tr>\n",
       "      <th>4</th>\n",
       "      <td>정규직 늘리랬더니 퇴직금잔치?..고용정보원 퇴직금 충당 10배 늘어</td>\n",
       "      <td>https://v.daum.net/v/20200824123900994</td>\n",
       "    </tr>\n",
       "    <tr>\n",
       "      <th>5</th>\n",
       "      <td>검찰 중간간부 인사 임박..형사·공판부 우대 이어갈듯</td>\n",
       "      <td>https://v.daum.net/v/20200824123726983</td>\n",
       "    </tr>\n",
       "    <tr>\n",
       "      <th>6</th>\n",
       "      <td>일본 \"지소미아 역내 평화에 기여..안정적 운용 중요\"</td>\n",
       "      <td>https://v.daum.net/v/20200824123554967</td>\n",
       "    </tr>\n",
       "    <tr>\n",
       "      <th>7</th>\n",
       "      <td>서울 시내버스 기사 3명 확진..5618번·6512번 지연운행 논의</td>\n",
       "      <td>https://v.daum.net/v/20200824123434948</td>\n",
       "    </tr>\n",
       "    <tr>\n",
       "      <th>8</th>\n",
       "      <td>상 받고도 부끄러워하는 중국 지방 공무원 '달팽이상'</td>\n",
       "      <td>https://v.daum.net/v/20200824123409940</td>\n",
       "    </tr>\n",
       "    <tr>\n",
       "      <th>9</th>\n",
       "      <td>거리두기 3단계 격상땐 실내외 10인이상 모임 금지..등교수업 중단</td>\n",
       "      <td>https://v.daum.net/v/20200824123206900</td>\n",
       "    </tr>\n",
       "    <tr>\n",
       "      <th>10</th>\n",
       "      <td>아이폰 수리비·보험료 10% 할인..'갑질' 애플 자진시정안</td>\n",
       "      <td>https://v.daum.net/v/20200824123225907</td>\n",
       "    </tr>\n",
       "    <tr>\n",
       "      <th>11</th>\n",
       "      <td>통일부 \"개성고려인삼무역회사와 물물교환 사업 철회\"</td>\n",
       "      <td>https://v.daum.net/v/20200824122534766</td>\n",
       "    </tr>\n",
       "    <tr>\n",
       "      <th>12</th>\n",
       "      <td>장례식 참석 귀국 시 며느리·사위도 격리 면제</td>\n",
       "      <td>https://v.daum.net/v/20200824121939619</td>\n",
       "    </tr>\n",
       "    <tr>\n",
       "      <th>13</th>\n",
       "      <td>테슬라 '배터리 데이' 한 달 앞으로..무슨 얘기 나올까 '주목'</td>\n",
       "      <td>https://v.daum.net/v/20200824122156688</td>\n",
       "    </tr>\n",
       "    <tr>\n",
       "      <th>14</th>\n",
       "      <td>정부 \"이번주 코로나19 중환자 늘 것..중증까지 7일 걸려\"</td>\n",
       "      <td>https://v.daum.net/v/20200824121431513</td>\n",
       "    </tr>\n",
       "  </tbody>\n",
       "</table>\n",
       "</div>"
      ],
      "text/plain": [
       "                                           title  \\\n",
       "0             박능후 \"사랑제일교회 협조 있었다면 확진자 상당히 줄었을 것\"   \n",
       "1                     '공백 최소화'라더니..수술 연기에 우는 환자들   \n",
       "2   국보 불상 2점은 어찌되나..보물 2점 국립박물관에 판 간송재단의 다음 행보는?   \n",
       "3               감염학회 \"코로나19 급증, 거리두기 3단계 격상 불가피\"   \n",
       "4          정규직 늘리랬더니 퇴직금잔치?..고용정보원 퇴직금 충당 10배 늘어   \n",
       "5                  검찰 중간간부 인사 임박..형사·공판부 우대 이어갈듯   \n",
       "6                 일본 \"지소미아 역내 평화에 기여..안정적 운용 중요\"   \n",
       "7          서울 시내버스 기사 3명 확진..5618번·6512번 지연운행 논의   \n",
       "8                  상 받고도 부끄러워하는 중국 지방 공무원 '달팽이상'   \n",
       "9          거리두기 3단계 격상땐 실내외 10인이상 모임 금지..등교수업 중단   \n",
       "10             아이폰 수리비·보험료 10% 할인..'갑질' 애플 자진시정안   \n",
       "11                  통일부 \"개성고려인삼무역회사와 물물교환 사업 철회\"   \n",
       "12                     장례식 참석 귀국 시 며느리·사위도 격리 면제   \n",
       "13          테슬라 '배터리 데이' 한 달 앞으로..무슨 얘기 나올까 '주목'   \n",
       "14            정부 \"이번주 코로나19 중환자 늘 것..중증까지 7일 걸려\"   \n",
       "\n",
       "                                      link  \n",
       "0   https://v.daum.net/v/20200824125600267  \n",
       "1   https://v.daum.net/v/20200824125100170  \n",
       "2   https://v.daum.net/v/20200824124745113  \n",
       "3   https://v.daum.net/v/20200824124121024  \n",
       "4   https://v.daum.net/v/20200824123900994  \n",
       "5   https://v.daum.net/v/20200824123726983  \n",
       "6   https://v.daum.net/v/20200824123554967  \n",
       "7   https://v.daum.net/v/20200824123434948  \n",
       "8   https://v.daum.net/v/20200824123409940  \n",
       "9   https://v.daum.net/v/20200824123206900  \n",
       "10  https://v.daum.net/v/20200824123225907  \n",
       "11  https://v.daum.net/v/20200824122534766  \n",
       "12  https://v.daum.net/v/20200824121939619  \n",
       "13  https://v.daum.net/v/20200824122156688  \n",
       "14  https://v.daum.net/v/20200824121431513  "
      ]
     },
     "execution_count": 113,
     "metadata": {},
     "output_type": "execute_result"
    }
   ],
   "source": [
    "news = pd.DataFrame(datas)\n",
    "news"
   ]
  },
  {
   "cell_type": "code",
   "execution_count": 123,
   "metadata": {},
   "outputs": [],
   "source": [
    "def get_content(link):\n",
    "    response = requests.get(link)\n",
    "    dom = BeautifulSoup(response.content, \"html.parser\")\n",
    "    divs = dom.select(\"#harmonyContainer > section > p\")[1:-2]\n",
    "    return \"\".join([div.text for div in divs])"
   ]
  },
  {
   "cell_type": "code",
   "execution_count": 124,
   "metadata": {},
   "outputs": [],
   "source": [
    "news[\"content\"] = news[\"link\"].apply(get_content)"
   ]
  },
  {
   "cell_type": "code",
   "execution_count": 126,
   "metadata": {},
   "outputs": [
    {
     "data": {
      "text/html": [
       "<div>\n",
       "<style scoped>\n",
       "    .dataframe tbody tr th:only-of-type {\n",
       "        vertical-align: middle;\n",
       "    }\n",
       "\n",
       "    .dataframe tbody tr th {\n",
       "        vertical-align: top;\n",
       "    }\n",
       "\n",
       "    .dataframe thead th {\n",
       "        text-align: right;\n",
       "    }\n",
       "</style>\n",
       "<table border=\"1\" class=\"dataframe\">\n",
       "  <thead>\n",
       "    <tr style=\"text-align: right;\">\n",
       "      <th></th>\n",
       "      <th>title</th>\n",
       "      <th>link</th>\n",
       "      <th>content</th>\n",
       "    </tr>\n",
       "  </thead>\n",
       "  <tbody>\n",
       "    <tr>\n",
       "      <th>0</th>\n",
       "      <td>박능후 \"사랑제일교회 협조 있었다면 확진자 상당히 줄었을 것\"</td>\n",
       "      <td>https://v.daum.net/v/20200824125600267</td>\n",
       "      <td>박 장관은 이날 오전 2019년 회계연도 결산을 위해 열린 국회 예산결산특별위원회 ...</td>\n",
       "    </tr>\n",
       "    <tr>\n",
       "      <th>1</th>\n",
       "      <td>'공백 최소화'라더니..수술 연기에 우는 환자들</td>\n",
       "      <td>https://v.daum.net/v/20200824125100170</td>\n",
       "      <td>하지만 집단휴진이 신종 코로나바이러스 감염증(코로나19)의 전국적인 재확산과 맞물리...</td>\n",
       "    </tr>\n",
       "    <tr>\n",
       "      <th>2</th>\n",
       "      <td>국보 불상 2점은 어찌되나..보물 2점 국립박물관에 판 간송재단의 다음 행보는?</td>\n",
       "      <td>https://v.daum.net/v/20200824124745113</td>\n",
       "      <td>국보 불상 2점은 어찌되나. 지난 5월 간송 전형필(1906~1962)의 후손이 경...</td>\n",
       "    </tr>\n",
       "    <tr>\n",
       "      <th>3</th>\n",
       "      <td>감염학회 \"코로나19 급증, 거리두기 3단계 격상 불가피\"</td>\n",
       "      <td>https://v.daum.net/v/20200824124121024</td>\n",
       "      <td>학회는 24일 성명을 통해 \"지난 23일 0시를 기준으로 전국적인 사회적 거리두기 ...</td>\n",
       "    </tr>\n",
       "    <tr>\n",
       "      <th>4</th>\n",
       "      <td>정규직 늘리랬더니 퇴직금잔치?..고용정보원 퇴직금 충당 10배 늘어</td>\n",
       "      <td>https://v.daum.net/v/20200824123900994</td>\n",
       "      <td>하지만 이종배 의원이 8월 결산국회를 맞아 분석한 바에 따르면, 고용정보원이 작년 ...</td>\n",
       "    </tr>\n",
       "    <tr>\n",
       "      <th>5</th>\n",
       "      <td>검찰 중간간부 인사 임박..형사·공판부 우대 이어갈듯</td>\n",
       "      <td>https://v.daum.net/v/20200824123726983</td>\n",
       "      <td>법무부는 24일 오전 10시 정부과천청사에서 검찰인사위 회의를 열었다. 이날 회의에...</td>\n",
       "    </tr>\n",
       "    <tr>\n",
       "      <th>6</th>\n",
       "      <td>일본 \"지소미아 역내 평화에 기여..안정적 운용 중요\"</td>\n",
       "      <td>https://v.daum.net/v/20200824123554967</td>\n",
       "      <td>일본 정부 대변인인 스가 요시히데(菅義偉) 관방장관은 이날 정례 브리핑에서 한국 정...</td>\n",
       "    </tr>\n",
       "    <tr>\n",
       "      <th>7</th>\n",
       "      <td>서울 시내버스 기사 3명 확진..5618번·6512번 지연운행 논의</td>\n",
       "      <td>https://v.daum.net/v/20200824123434948</td>\n",
       "      <td>24일 서울시에 따르면 보성운수 소속 버스 기사 3명이 21∼23일 잇따라 코로나1...</td>\n",
       "    </tr>\n",
       "    <tr>\n",
       "      <th>8</th>\n",
       "      <td>상 받고도 부끄러워하는 중국 지방 공무원 '달팽이상'</td>\n",
       "      <td>https://v.daum.net/v/20200824123409940</td>\n",
       "      <td>다른 시상식과 달리 수상자들은 상을 받을 때 고개를 들지 못했다. 업무 추진이 너무...</td>\n",
       "    </tr>\n",
       "    <tr>\n",
       "      <th>9</th>\n",
       "      <td>거리두기 3단계 격상땐 실내외 10인이상 모임 금지..등교수업 중단</td>\n",
       "      <td>https://v.daum.net/v/20200824123206900</td>\n",
       "      <td>윤태호 보건복지부 중앙사고수습본부 방역총괄반장은 24일 중앙재난안전대책본부 정례 브...</td>\n",
       "    </tr>\n",
       "    <tr>\n",
       "      <th>10</th>\n",
       "      <td>아이폰 수리비·보험료 10% 할인..'갑질' 애플 자진시정안</td>\n",
       "      <td>https://v.daum.net/v/20200824123225907</td>\n",
       "      <td>공정위는 24일 애플과 협의해 마련한 거래상 지위 남용 관련 잠정 동의의결안(자진시...</td>\n",
       "    </tr>\n",
       "    <tr>\n",
       "      <th>11</th>\n",
       "      <td>통일부 \"개성고려인삼무역회사와 물물교환 사업 철회\"</td>\n",
       "      <td>https://v.daum.net/v/20200824122534766</td>\n",
       "      <td>통일부는 이날 국회 정보위원회 비공개 업무보고에서 이같이 밝혔다고 정보위 여야 간사...</td>\n",
       "    </tr>\n",
       "    <tr>\n",
       "      <th>12</th>\n",
       "      <td>장례식 참석 귀국 시 며느리·사위도 격리 면제</td>\n",
       "      <td>https://v.daum.net/v/20200824121939619</td>\n",
       "      <td>중앙재난안전대책본부는 24일 회의에서 해외입국자 격리면제 제도 개선 방안을 논의했다...</td>\n",
       "    </tr>\n",
       "    <tr>\n",
       "      <th>13</th>\n",
       "      <td>테슬라 '배터리 데이' 한 달 앞으로..무슨 얘기 나올까 '주목'</td>\n",
       "      <td>https://v.daum.net/v/20200824122156688</td>\n",
       "      <td>24일 외신 및 업계에 따르면 테슬라는 다음달 22일(현지시간·한국시간 23일) 배...</td>\n",
       "    </tr>\n",
       "    <tr>\n",
       "      <th>14</th>\n",
       "      <td>정부 \"이번주 코로나19 중환자 늘 것..중증까지 7일 걸려\"</td>\n",
       "      <td>https://v.daum.net/v/20200824121431513</td>\n",
       "      <td>윤태호 중앙사고수습본부(중수본) 방역총괄반장은 24일 오전 정부세종청사에서 코로나1...</td>\n",
       "    </tr>\n",
       "  </tbody>\n",
       "</table>\n",
       "</div>"
      ],
      "text/plain": [
       "                                           title  \\\n",
       "0             박능후 \"사랑제일교회 협조 있었다면 확진자 상당히 줄었을 것\"   \n",
       "1                     '공백 최소화'라더니..수술 연기에 우는 환자들   \n",
       "2   국보 불상 2점은 어찌되나..보물 2점 국립박물관에 판 간송재단의 다음 행보는?   \n",
       "3               감염학회 \"코로나19 급증, 거리두기 3단계 격상 불가피\"   \n",
       "4          정규직 늘리랬더니 퇴직금잔치?..고용정보원 퇴직금 충당 10배 늘어   \n",
       "5                  검찰 중간간부 인사 임박..형사·공판부 우대 이어갈듯   \n",
       "6                 일본 \"지소미아 역내 평화에 기여..안정적 운용 중요\"   \n",
       "7          서울 시내버스 기사 3명 확진..5618번·6512번 지연운행 논의   \n",
       "8                  상 받고도 부끄러워하는 중국 지방 공무원 '달팽이상'   \n",
       "9          거리두기 3단계 격상땐 실내외 10인이상 모임 금지..등교수업 중단   \n",
       "10             아이폰 수리비·보험료 10% 할인..'갑질' 애플 자진시정안   \n",
       "11                  통일부 \"개성고려인삼무역회사와 물물교환 사업 철회\"   \n",
       "12                     장례식 참석 귀국 시 며느리·사위도 격리 면제   \n",
       "13          테슬라 '배터리 데이' 한 달 앞으로..무슨 얘기 나올까 '주목'   \n",
       "14            정부 \"이번주 코로나19 중환자 늘 것..중증까지 7일 걸려\"   \n",
       "\n",
       "                                      link  \\\n",
       "0   https://v.daum.net/v/20200824125600267   \n",
       "1   https://v.daum.net/v/20200824125100170   \n",
       "2   https://v.daum.net/v/20200824124745113   \n",
       "3   https://v.daum.net/v/20200824124121024   \n",
       "4   https://v.daum.net/v/20200824123900994   \n",
       "5   https://v.daum.net/v/20200824123726983   \n",
       "6   https://v.daum.net/v/20200824123554967   \n",
       "7   https://v.daum.net/v/20200824123434948   \n",
       "8   https://v.daum.net/v/20200824123409940   \n",
       "9   https://v.daum.net/v/20200824123206900   \n",
       "10  https://v.daum.net/v/20200824123225907   \n",
       "11  https://v.daum.net/v/20200824122534766   \n",
       "12  https://v.daum.net/v/20200824121939619   \n",
       "13  https://v.daum.net/v/20200824122156688   \n",
       "14  https://v.daum.net/v/20200824121431513   \n",
       "\n",
       "                                              content  \n",
       "0   박 장관은 이날 오전 2019년 회계연도 결산을 위해 열린 국회 예산결산특별위원회 ...  \n",
       "1   하지만 집단휴진이 신종 코로나바이러스 감염증(코로나19)의 전국적인 재확산과 맞물리...  \n",
       "2   국보 불상 2점은 어찌되나. 지난 5월 간송 전형필(1906~1962)의 후손이 경...  \n",
       "3   학회는 24일 성명을 통해 \"지난 23일 0시를 기준으로 전국적인 사회적 거리두기 ...  \n",
       "4   하지만 이종배 의원이 8월 결산국회를 맞아 분석한 바에 따르면, 고용정보원이 작년 ...  \n",
       "5   법무부는 24일 오전 10시 정부과천청사에서 검찰인사위 회의를 열었다. 이날 회의에...  \n",
       "6   일본 정부 대변인인 스가 요시히데(菅義偉) 관방장관은 이날 정례 브리핑에서 한국 정...  \n",
       "7   24일 서울시에 따르면 보성운수 소속 버스 기사 3명이 21∼23일 잇따라 코로나1...  \n",
       "8   다른 시상식과 달리 수상자들은 상을 받을 때 고개를 들지 못했다. 업무 추진이 너무...  \n",
       "9   윤태호 보건복지부 중앙사고수습본부 방역총괄반장은 24일 중앙재난안전대책본부 정례 브...  \n",
       "10  공정위는 24일 애플과 협의해 마련한 거래상 지위 남용 관련 잠정 동의의결안(자진시...  \n",
       "11  통일부는 이날 국회 정보위원회 비공개 업무보고에서 이같이 밝혔다고 정보위 여야 간사...  \n",
       "12  중앙재난안전대책본부는 24일 회의에서 해외입국자 격리면제 제도 개선 방안을 논의했다...  \n",
       "13  24일 외신 및 업계에 따르면 테슬라는 다음달 22일(현지시간·한국시간 23일) 배...  \n",
       "14  윤태호 중앙사고수습본부(중수본) 방역총괄반장은 24일 오전 정부세종청사에서 코로나1...  "
      ]
     },
     "execution_count": 126,
     "metadata": {},
     "output_type": "execute_result"
    }
   ],
   "source": [
    "news"
   ]
  },
  {
   "cell_type": "markdown",
   "metadata": {},
   "source": [
    "### Gmarket 베스트 상품 200개 크롤링\n",
    "- 상품명, 원가, 판매가\n",
    "- 썸네일 이미지"
   ]
  },
  {
   "cell_type": "code",
   "execution_count": 147,
   "metadata": {},
   "outputs": [],
   "source": [
    "response = requests.get(\"http://corners.gmarket.co.kr/Bestsellers\")\n",
    "dom = BeautifulSoup(response.content, \"html.parser\")"
   ]
  },
  {
   "cell_type": "code",
   "execution_count": 159,
   "metadata": {},
   "outputs": [],
   "source": [
    "selector = \"#gBestWrap > div > div:nth-of-type(5) > div:nth-of-type(3) > ul > li\"\n",
    "elements = dom.select(selector)"
   ]
  },
  {
   "cell_type": "code",
   "execution_count": 160,
   "metadata": {},
   "outputs": [
    {
     "data": {
      "text/plain": [
       "0"
      ]
     },
     "execution_count": 160,
     "metadata": {},
     "output_type": "execute_result"
    }
   ],
   "source": [
    "len(elements)"
   ]
  },
  {
   "cell_type": "code",
   "execution_count": null,
   "metadata": {},
   "outputs": [],
   "source": [
    "# stream = True : 데이터를 가져올 때 잘게 쪼개서 가져온다는 것"
   ]
  },
  {
   "cell_type": "markdown",
   "metadata": {},
   "source": [
    "#### Quiz\n",
    "- 다음 실시간 검색어 순위 데이터 수집\n",
    "- https://daum.net\n",
    "- 네이버 실시간 검색어와 다음 실시간 검색어 중복 키워드 출력"
   ]
  },
  {
   "cell_type": "code",
   "execution_count": 28,
   "metadata": {},
   "outputs": [
    {
     "data": {
      "text/plain": [
       "<Response [200]>"
      ]
     },
     "execution_count": 28,
     "metadata": {},
     "output_type": "execute_result"
    }
   ],
   "source": [
    "response = requests.get(\"https://daum.net\")\n",
    "response"
   ]
  },
  {
   "cell_type": "code",
   "execution_count": 30,
   "metadata": {},
   "outputs": [],
   "source": [
    "dom = BeautifulSoup(response.content, \"html.parser\")"
   ]
  },
  {
   "cell_type": "code",
   "execution_count": 33,
   "metadata": {},
   "outputs": [
    {
     "data": {
      "text/plain": [
       "10"
      ]
     },
     "execution_count": 33,
     "metadata": {},
     "output_type": "execute_result"
    }
   ],
   "source": [
    "elements = dom.select(\".realtime_part > .list_hotissue.issue_row > li\")\n",
    "len(elements)"
   ]
  },
  {
   "cell_type": "code",
   "execution_count": 35,
   "metadata": {},
   "outputs": [
    {
     "name": "stdout",
     "output_type": "stream",
     "text": [
      "1위 수능 시간표\n"
     ]
    }
   ],
   "source": [
    "rank = elements[0].select_one(\".ir_wa\").text\n",
    "keyword = elements[0].select_one(\".link_issue\").text\n",
    "print(rank, keyword)"
   ]
  },
  {
   "cell_type": "code",
   "execution_count": 36,
   "metadata": {},
   "outputs": [
    {
     "data": {
      "text/html": [
       "<div>\n",
       "<style scoped>\n",
       "    .dataframe tbody tr th:only-of-type {\n",
       "        vertical-align: middle;\n",
       "    }\n",
       "\n",
       "    .dataframe tbody tr th {\n",
       "        vertical-align: top;\n",
       "    }\n",
       "\n",
       "    .dataframe thead th {\n",
       "        text-align: right;\n",
       "    }\n",
       "</style>\n",
       "<table border=\"1\" class=\"dataframe\">\n",
       "  <thead>\n",
       "    <tr style=\"text-align: right;\">\n",
       "      <th></th>\n",
       "      <th>keyword</th>\n",
       "      <th>rank</th>\n",
       "    </tr>\n",
       "  </thead>\n",
       "  <tbody>\n",
       "    <tr>\n",
       "      <th>8</th>\n",
       "      <td>수능 수학</td>\n",
       "      <td>9위</td>\n",
       "    </tr>\n",
       "    <tr>\n",
       "      <th>9</th>\n",
       "      <td>수능 국어</td>\n",
       "      <td>10위</td>\n",
       "    </tr>\n",
       "  </tbody>\n",
       "</table>\n",
       "</div>"
      ],
      "text/plain": [
       "  keyword rank\n",
       "8   수능 수학   9위\n",
       "9   수능 국어  10위"
      ]
     },
     "execution_count": 36,
     "metadata": {},
     "output_type": "execute_result"
    }
   ],
   "source": [
    "datas = []\n",
    "\n",
    "for element in elements:\n",
    "    datas.append({\n",
    "        \"rank\": element.select_one(\".ir_wa\").text,\n",
    "        \"keyword\": element.select_one(\".link_issue\").text,\n",
    "    })\n",
    "    \n",
    "daum_keywords = pd.DataFrame(datas)\n",
    "daum_keywords.tail(2)"
   ]
  },
  {
   "cell_type": "code",
   "execution_count": 38,
   "metadata": {},
   "outputs": [],
   "source": [
    "naver_df = naver_keywords()\n",
    "daum_df = pd.DataFrame(datas)"
   ]
  },
  {
   "cell_type": "code",
   "execution_count": 42,
   "metadata": {},
   "outputs": [
    {
     "data": {
      "text/plain": [
       "{'구본영', '김경수', '수능 국어', '수능 수학', '수능 시간표', '수능 영어', '유리 오빠', '이문정'}"
      ]
     },
     "execution_count": 42,
     "metadata": {},
     "output_type": "execute_result"
    }
   ],
   "source": [
    "set(naver_df[\"keyword\"]) & set(daum_df[\"keyword\"])"
   ]
  }
 ],
 "metadata": {
  "kernelspec": {
   "display_name": "Python 3",
   "language": "python",
   "name": "python3"
  },
  "language_info": {
   "codemirror_mode": {
    "name": "ipython",
    "version": 3
   },
   "file_extension": ".py",
   "mimetype": "text/x-python",
   "name": "python",
   "nbconvert_exporter": "python",
   "pygments_lexer": "ipython3",
   "version": "3.7.6"
  },
  "toc": {
   "base_numbering": 1,
   "nav_menu": {},
   "number_sections": true,
   "sideBar": true,
   "skip_h1_title": false,
   "title_cell": "Table of Contents",
   "title_sidebar": "Contents",
   "toc_cell": false,
   "toc_position": {},
   "toc_section_display": true,
   "toc_window_display": false
  },
  "varInspector": {
   "cols": {
    "lenName": 16,
    "lenType": 16,
    "lenVar": 40
   },
   "kernels_config": {
    "python": {
     "delete_cmd_postfix": "",
     "delete_cmd_prefix": "del ",
     "library": "var_list.py",
     "varRefreshCmd": "print(var_dic_list())"
    },
    "r": {
     "delete_cmd_postfix": ") ",
     "delete_cmd_prefix": "rm(",
     "library": "var_list.r",
     "varRefreshCmd": "cat(var_dic_list()) "
    }
   },
   "types_to_exclude": [
    "module",
    "function",
    "builtin_function_or_method",
    "instance",
    "_Feature"
   ],
   "window_display": false
  }
 },
 "nbformat": 4,
 "nbformat_minor": 2
}
