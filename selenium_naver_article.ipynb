{
 "cells": [
  {
   "cell_type": "markdown",
   "metadata": {},
   "source": [
    "## 네이버 아티클 selenium "
   ]
  },
  {
   "cell_type": "code",
   "execution_count": 14,
   "metadata": {},
   "outputs": [],
   "source": [
    "category = {\n",
    "    100 : \"정치\",\n",
    "    101 : \"경제\",\n",
    "    102 : \"사회\",\n",
    "    103 : \"생활/문화\",\n",
    "    104 : \"세계\",\n",
    "    105 : \"IT/과학\",\n",
    "}\n",
    "category, date, page = 100, 20200826, 1\n",
    "\n",
    "url = \"https://news.naver.com/main/list.nhn?\\\n",
    "mode=LSD&mid=sec&sid1={}&date={}&page={}\".format(category, date, page)"
   ]
  },
  {
   "cell_type": "code",
   "execution_count": 15,
   "metadata": {},
   "outputs": [
    {
     "name": "stdout",
     "output_type": "stream",
     "text": [
      "https://news.naver.com/main/list.nhn?mode=LSD&mid=sec&sid1=100&date=20200826&page=1\n"
     ]
    }
   ],
   "source": [
    "print(url)"
   ]
  },
  {
   "cell_type": "code",
   "execution_count": 16,
   "metadata": {},
   "outputs": [],
   "source": [
    "driver = webdriver.Chrome()\n",
    "driver.get(url)"
   ]
  },
  {
   "cell_type": "code",
   "execution_count": 17,
   "metadata": {
    "scrolled": true
   },
   "outputs": [
    {
     "data": {
      "text/plain": [
       "20"
      ]
     },
     "execution_count": 17,
     "metadata": {},
     "output_type": "execute_result"
    }
   ],
   "source": [
    "articles = driver.find_elements_by_css_selector(\".list_body > ul > li\")\n",
    "len(articles)"
   ]
  },
  {
   "cell_type": "code",
   "execution_count": 19,
   "metadata": {},
   "outputs": [
    {
     "name": "stdout",
     "output_type": "stream",
     "text": [
      "https://news.naver.com/main/read.nhn?mode=LSD&mid=sec&sid1=100&oid=421&aid=0004834408\n"
     ]
    },
    {
     "data": {
      "text/plain": [
       "('모두발언하는 정세균 총리', None)"
      ]
     },
     "execution_count": 19,
     "metadata": {},
     "output_type": "execute_result"
    }
   ],
   "source": [
    "title = articles[0].find_element_by_css_selector(\"dt:not(.photo) > a\").text #photo가 없는 dt만\n",
    "link = articles[0].find_element_by_css_selector(\"dt:not(.photo) > a\")\\\n",
    ".get_attribute(\"href\")\n",
    "title, print(link)"
   ]
  },
  {
   "cell_type": "code",
   "execution_count": 20,
   "metadata": {},
   "outputs": [],
   "source": [
    "response = requests.get(link)\n",
    "dom = BeautifulSoup(response.content, \"html.parser\")"
   ]
  },
  {
   "cell_type": "code",
   "execution_count": 22,
   "metadata": {},
   "outputs": [
    {
     "data": {
      "text/plain": [
       "'(서울=뉴스1) 임세영 기자 = 정세균 국무총리가 26일 오전 서울 세종로 정부서울청사에서 열린 신종 코로나바이러스 감염증(코로나19) 대응 중앙재난안전대책본부회의 겸 제8호 태풍 바비(BAVI) 대처상황 점검회의에서 모두발언을 하고 있다. 이날 정 총리는 의사들을 향해 “환자 생명을 담보로 한 집단행동은 국민이 용납하지 않을것” 이라며 “즉시 진료 업무에 복귀하라”고 촉구했다. 2020.8.26/뉴스1seiyu@news1.kr'"
      ]
     },
     "execution_count": 22,
     "metadata": {},
     "output_type": "execute_result"
    }
   ],
   "source": [
    "content = dom.select_one(\"#articleBodyContents\").text\\\n",
    ".replace(\"\\n\", \"\").replace(\"\\'\", \"\").replace(\"- \", \"\").split(\"{}\")[1].split(\"▶\")[0]\n",
    "content"
   ]
  },
  {
   "cell_type": "code",
   "execution_count": 23,
   "metadata": {},
   "outputs": [],
   "source": [
    "def get_articles(category, date, page):\n",
    "    \n",
    "    url = \"https://news.naver.com/main/list.nhn?mode=LSD&mid=sec&sid1={}&date={}&page={}\"\\\n",
    "    .format(category, date, page)\n",
    "    options = webdriver.ChromeOptions()\n",
    "    options.add_argument(\"headless\")\n",
    "    driver = webdriver.Chrome(options=options)\n",
    "    driver.get(url)\n",
    "    articles = driver.find_elements_by_css_selector(\".list_body > ul > li\")\n",
    "    \n",
    "    datas = []\n",
    "    for article in articles:\n",
    "        title = article.find_element_by_css_selector(\"dt:not(.photo) > a\").text\n",
    "        link = article.find_element_by_css_selector(\"dt:not(.photo) > a\").get_attribute(\"href\")\n",
    "        response = requests.get(link)\n",
    "        dom = BeautifulSoup(response.content, \"html.parser\")\n",
    "        content = dom.select_one(\"#articleBodyContents\").text.replace(\"\\n\", \"\").replace(\"\\'\", \"\").replace(\"- \", \"\").split(\"{}\")[1].strip()\n",
    "        datas.append({\n",
    "            \"title\": title,\n",
    "            \"link\": link,\n",
    "            \"content\": content,\n",
    "            \"category\": category,\n",
    "        })\n",
    "    driver.quit()\n",
    "    \n",
    "    return pd.DataFrame(datas)"
   ]
  },
  {
   "cell_type": "code",
   "execution_count": 26,
   "metadata": {},
   "outputs": [],
   "source": [
    "categories = {\n",
    "    100: \"정치\",\n",
    "    101: \"경제\"\n",
    "}"
   ]
  },
  {
   "cell_type": "code",
   "execution_count": 27,
   "metadata": {},
   "outputs": [
    {
     "name": "stdout",
     "output_type": "stream",
     "text": [
      "정치 1 2 3 4 5 \n",
      "경제 1 2 3 4 5 \n"
     ]
    },
    {
     "data": {
      "text/html": [
       "<div>\n",
       "<style scoped>\n",
       "    .dataframe tbody tr th:only-of-type {\n",
       "        vertical-align: middle;\n",
       "    }\n",
       "\n",
       "    .dataframe tbody tr th {\n",
       "        vertical-align: top;\n",
       "    }\n",
       "\n",
       "    .dataframe thead th {\n",
       "        text-align: right;\n",
       "    }\n",
       "</style>\n",
       "<table border=\"1\" class=\"dataframe\">\n",
       "  <thead>\n",
       "    <tr style=\"text-align: right;\">\n",
       "      <th></th>\n",
       "      <th>title</th>\n",
       "      <th>link</th>\n",
       "      <th>content</th>\n",
       "      <th>category</th>\n",
       "    </tr>\n",
       "  </thead>\n",
       "  <tbody>\n",
       "    <tr>\n",
       "      <th>195</th>\n",
       "      <td>남다른감자탕 ㈜보하라, 2019 독서경영 우수 직장으로 선정</td>\n",
       "      <td>https://news.naver.com/main/read.nhn?mode=LSD&amp;...</td>\n",
       "      <td>건강감자탕브랜드 남다른감자탕을 운영하는 ㈜보하라는 문화체육관광부에서 주최하는 201...</td>\n",
       "      <td>101</td>\n",
       "    </tr>\n",
       "    <tr>\n",
       "      <th>196</th>\n",
       "      <td>기아차 신차 출시 한 달 앞서 공개, 왜?</td>\n",
       "      <td>https://news.naver.com/main/read.nhn?mode=LSD&amp;...</td>\n",
       "      <td>【 앵커멘트 】   기아차가 오늘 K5 신차를 공개했습니다.  보통 출시 직전에 오...</td>\n",
       "      <td>101</td>\n",
       "    </tr>\n",
       "    <tr>\n",
       "      <th>197</th>\n",
       "      <td>광역전철 운행도 감축 … 시민 불편 가중</td>\n",
       "      <td>https://news.naver.com/main/read.nhn?mode=LSD&amp;...</td>\n",
       "      <td>철도노조 총파업 이틀째 / 1호선 등 평시 대비 82% 운행 / 출퇴근길 승객 몰려...</td>\n",
       "      <td>101</td>\n",
       "    </tr>\n",
       "    <tr>\n",
       "      <th>198</th>\n",
       "      <td>캐세이퍼시픽항공, 동남아 6개 도시 비즈니스석 특가</td>\n",
       "      <td>https://news.naver.com/main/read.nhn?mode=LSD&amp;...</td>\n",
       "      <td>캐세이퍼시픽항공이 연말연시 여행을 계획하고 있는 이들을 위해 동남아 6개 인기 도시...</td>\n",
       "      <td>101</td>\n",
       "    </tr>\n",
       "    <tr>\n",
       "      <th>199</th>\n",
       "      <td>코엑스-독일농업협회 글로벌 푸드테크전시회 개최키로</td>\n",
       "      <td>https://news.naver.com/main/read.nhn?mode=LSD&amp;...</td>\n",
       "      <td>(서울=연합뉴스) 코엑스와 독일농업협회가 21일 오후 서울 강남구 삼성동 코엑스 그...</td>\n",
       "      <td>101</td>\n",
       "    </tr>\n",
       "  </tbody>\n",
       "</table>\n",
       "</div>"
      ],
      "text/plain": [
       "                                 title  \\\n",
       "195  남다른감자탕 ㈜보하라, 2019 독서경영 우수 직장으로 선정   \n",
       "196            기아차 신차 출시 한 달 앞서 공개, 왜?   \n",
       "197             광역전철 운행도 감축 … 시민 불편 가중   \n",
       "198       캐세이퍼시픽항공, 동남아 6개 도시 비즈니스석 특가   \n",
       "199        코엑스-독일농업협회 글로벌 푸드테크전시회 개최키로   \n",
       "\n",
       "                                                  link  \\\n",
       "195  https://news.naver.com/main/read.nhn?mode=LSD&...   \n",
       "196  https://news.naver.com/main/read.nhn?mode=LSD&...   \n",
       "197  https://news.naver.com/main/read.nhn?mode=LSD&...   \n",
       "198  https://news.naver.com/main/read.nhn?mode=LSD&...   \n",
       "199  https://news.naver.com/main/read.nhn?mode=LSD&...   \n",
       "\n",
       "                                               content  category  \n",
       "195  건강감자탕브랜드 남다른감자탕을 운영하는 ㈜보하라는 문화체육관광부에서 주최하는 201...       101  \n",
       "196  【 앵커멘트 】   기아차가 오늘 K5 신차를 공개했습니다.  보통 출시 직전에 오...       101  \n",
       "197  철도노조 총파업 이틀째 / 1호선 등 평시 대비 82% 운행 / 출퇴근길 승객 몰려...       101  \n",
       "198  캐세이퍼시픽항공이 연말연시 여행을 계획하고 있는 이들을 위해 동남아 6개 인기 도시...       101  \n",
       "199  (서울=연합뉴스) 코엑스와 독일농업협회가 21일 오후 서울 강남구 삼성동 코엑스 그...       101  "
      ]
     },
     "execution_count": 27,
     "metadata": {},
     "output_type": "execute_result"
    }
   ],
   "source": [
    "dfs = []\n",
    "date = 20191121\n",
    "\n",
    "for category in categories:\n",
    "    print(categories[category], end=\" \") # categories[category] => value 반환\n",
    "    for page in range(1, 6):\n",
    "        print(page, end=\" \")\n",
    "        df = get_articles(category, date, page)\n",
    "        dfs.append(df)\n",
    "    print()\n",
    "    \n",
    "articles_df = pd.concat(dfs, ignore_index=True) # 리스트에다가 쭉 df 집어넣고 concat하면 하나로 합쳐짐\n",
    "articles_df.tail()"
   ]
  },
  {
   "cell_type": "code",
   "execution_count": 28,
   "metadata": {},
   "outputs": [],
   "source": [
    "articles_df.to_csv(\"article.csv\", index=False, encoding=\"utf-8-sig\")"
   ]
  },
  {
   "cell_type": "code",
   "execution_count": 29,
   "metadata": {},
   "outputs": [],
   "source": [
    "driver.quit()"
   ]
  }
 ],
 "metadata": {
  "kernelspec": {
   "display_name": "Python 3",
   "language": "python",
   "name": "python3"
  },
  "language_info": {
   "codemirror_mode": {
    "name": "ipython",
    "version": 3
   },
   "file_extension": ".py",
   "mimetype": "text/x-python",
   "name": "python",
   "nbconvert_exporter": "python",
   "pygments_lexer": "ipython3",
   "version": "3.7.6"
  },
  "toc": {
   "base_numbering": 1,
   "nav_menu": {},
   "number_sections": true,
   "sideBar": true,
   "skip_h1_title": false,
   "title_cell": "Table of Contents",
   "title_sidebar": "Contents",
   "toc_cell": false,
   "toc_position": {},
   "toc_section_display": true,
   "toc_window_display": false
  },
  "varInspector": {
   "cols": {
    "lenName": 16,
    "lenType": 16,
    "lenVar": 40
   },
   "kernels_config": {
    "python": {
     "delete_cmd_postfix": "",
     "delete_cmd_prefix": "del ",
     "library": "var_list.py",
     "varRefreshCmd": "print(var_dic_list())"
    },
    "r": {
     "delete_cmd_postfix": ") ",
     "delete_cmd_prefix": "rm(",
     "library": "var_list.r",
     "varRefreshCmd": "cat(var_dic_list()) "
    }
   },
   "types_to_exclude": [
    "module",
    "function",
    "builtin_function_or_method",
    "instance",
    "_Feature"
   ],
   "window_display": false
  }
 },
 "nbformat": 4,
 "nbformat_minor": 2
}
