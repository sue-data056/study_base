{
 "cells": [
  {
   "cell_type": "markdown",
   "metadata": {
    "toc": true
   },
   "source": [
    "<h1>Table of Contents<span class=\"tocSkip\"></span></h1>\n",
    "<div class=\"toc\"><ul class=\"toc-item\"><li><span><a href=\"#Crawling-Coupang-Item-Package\" data-toc-modified-id=\"Crawling-Coupang-Item-Package-1\"><span class=\"toc-item-num\">1&nbsp;&nbsp;</span>Crawling Coupang Item Package</a></span><ul class=\"toc-item\"><li><span><a href=\"#1.-coupang-모듈-만들기\" data-toc-modified-id=\"1.-coupang-모듈-만들기-1.1\"><span class=\"toc-item-num\">1.1&nbsp;&nbsp;</span>1. coupang 모듈 만들기</a></span></li><li><span><a href=\"#2.-setup.py-파일-생성\" data-toc-modified-id=\"2.-setup.py-파일-생성-1.2\"><span class=\"toc-item-num\">1.2&nbsp;&nbsp;</span>2. setup.py 파일 생성</a></span></li><li><span><a href=\"#3.-패키지-설치\" data-toc-modified-id=\"3.-패키지-설치-1.3\"><span class=\"toc-item-num\">1.3&nbsp;&nbsp;</span>3. 패키지 설치</a></span></li><li><span><a href=\"#4.-패키지-설치-확인\" data-toc-modified-id=\"4.-패키지-설치-확인-1.4\"><span class=\"toc-item-num\">1.4&nbsp;&nbsp;</span>4. 패키지 설치 확인</a></span></li><li><span><a href=\"#5.-패키지-사용\" data-toc-modified-id=\"5.-패키지-사용-1.5\"><span class=\"toc-item-num\">1.5&nbsp;&nbsp;</span>5. 패키지 사용</a></span><ul class=\"toc-item\"><li><span><a href=\"#1.-객체-생성\" data-toc-modified-id=\"1.-객체-생성-1.5.1\"><span class=\"toc-item-num\">1.5.1&nbsp;&nbsp;</span>1. 객체 생성</a></span></li><li><span><a href=\"#2.-페이지-이동\" data-toc-modified-id=\"2.-페이지-이동-1.5.2\"><span class=\"toc-item-num\">1.5.2&nbsp;&nbsp;</span>2. 페이지 이동</a></span></li><li><span><a href=\"#3.-현재-페이지-크롤링\" data-toc-modified-id=\"3.-현재-페이지-크롤링-1.5.3\"><span class=\"toc-item-num\">1.5.3&nbsp;&nbsp;</span>3. 현재 페이지 크롤링</a></span></li><li><span><a href=\"#4.-키워드-변경\" data-toc-modified-id=\"4.-키워드-변경-1.5.4\"><span class=\"toc-item-num\">1.5.4&nbsp;&nbsp;</span>4. 키워드 변경</a></span></li><li><span><a href=\"#5.-시작-페이지와-끝-페이지를-입력하면-그-페이지에-해당되는-데이터를-크롤링\" data-toc-modified-id=\"5.-시작-페이지와-끝-페이지를-입력하면-그-페이지에-해당되는-데이터를-크롤링-1.5.5\"><span class=\"toc-item-num\">1.5.5&nbsp;&nbsp;</span>5. 시작 페이지와 끝 페이지를 입력하면 그 페이지에 해당되는 데이터를 크롤링</a></span></li><li><span><a href=\"#6.-객체-안에-있는-썸네일-링크의-이미지-저장\" data-toc-modified-id=\"6.-객체-안에-있는-썸네일-링크의-이미지-저장-1.5.6\"><span class=\"toc-item-num\">1.5.6&nbsp;&nbsp;</span>6. 객체 안에 있는 썸네일 링크의 이미지 저장</a></span></li><li><span><a href=\"#7.-webdriver-객체-닫기\" data-toc-modified-id=\"7.-webdriver-객체-닫기-1.5.7\"><span class=\"toc-item-num\">1.5.7&nbsp;&nbsp;</span>7. webdriver 객체 닫기</a></span></li></ul></li></ul></li></ul></div>"
   ]
  },
  {
   "cell_type": "markdown",
   "metadata": {},
   "source": [
    "## Crawling Coupang Item Package\n",
    "- 시작 페이지와 종료 페이지와 키워드를 입력하여 아이템을 크롤링하는 모듈 만들기\n",
    "\n",
    "- 크롤링하는 아이템 컬럼들\n",
    "    - 제목\n",
    "    - 가격\n",
    "    - 평점 : 없으면 0\n",
    "    - 평점수 : 없으면 0\n",
    "    - 로켓배송여부 : true, false 데이터만 \n",
    "    - 아이템 링크\n",
    "    - 이미지 썸네일 링크\n",
    "\n",
    "- 모듈에 있어야 하는 기능들\n",
    "    - 아이템 정보 크롤링\n",
    "    - 페이지 이동\n",
    "    - 키워드 변경\n",
    "    - 여러 페이지 크롤링 \n",
    "    - 시작과 끝페이지, 키워드 입력하면 여러 페이지 크롤링\n",
    "    - 크롤링한 썸네일 이미지 및 데이터 프레임 저장\n"
   ]
  },
  {
   "cell_type": "markdown",
   "metadata": {},
   "source": [
    "### 1. coupang 모듈 만들기"
   ]
  },
  {
   "cell_type": "code",
   "execution_count": 1,
   "metadata": {},
   "outputs": [
    {
     "name": "stdout",
     "output_type": "stream",
     "text": [
      "Overwriting coupang.py\n"
     ]
    }
   ],
   "source": [
    "%%writefile coupang.py\n",
    "\n",
    "import requests\n",
    "import os \n",
    "import pandas as pd\n",
    "from selenium import webdriver\n",
    "from fake_useragent import UserAgent\n",
    "\n",
    "class Coupang:\n",
    "\n",
    "    def __init__(self, keyword):\n",
    "\n",
    "        # 크롬 웹 드라이버 객체 생성\n",
    "        options = webdriver.ChromeOptions()\n",
    "        options.add_argument(\"user-agent={}\".format(UserAgent().chrome)) # user-agent 생성\n",
    "        self.driver = webdriver.Chrome(options=options)\n",
    "\n",
    "        # 생성자 함수에서 변수 선언\n",
    "        self.__keyword = keyword\n",
    "\n",
    "        # 키워드 입력 값이 있으면 페이지 이동\n",
    "        url = \"https://www.coupang.com/np/search?component=&q={}&channel=user\".format(keyword)\n",
    "        self.driver.get(url)\n",
    "\n",
    "        # 결과 데이터 저장하는 변수 선언\n",
    "        self.result_df = None\n",
    "\n",
    "    def __download(self, path, title, link):\n",
    "        \n",
    "        title = title.replace(\"/\", \"\") # path 지정에는 혹시라도 / 가 들어가면 안되니까\n",
    "        \n",
    "        # datas 디렉토리가 없으면 생성\n",
    "        if not os.path.exists(\"./{}\".format(path)):\n",
    "            os.makedirs(\"./{}\".format(path))\n",
    "        \n",
    "        # 다운로드\n",
    "        headers = {'User-Agent': UserAgent().chrome}\n",
    "        response = requests.get(link, headers=headers)\n",
    "        with open(\"./{}/{}\".format(path, title), \"wb\") as f:  # 검색명마다 디렉토리 생성해서 저장\n",
    "            f.write(response.content)\n",
    "    \n",
    "    def save(self, path=\"datas\"):\n",
    "        titles = self.result_df[\"title\"]\n",
    "        links = self.result_df[\"thumnail_link\"]\n",
    "        for title, link in zip(titles, links):\n",
    "            self.__download(path, title + \".png\", link)\n",
    "        self.result_df.to_csv(\"./{}/{}.csv\".format(path, self.keyword), index=False)\n",
    "\n",
    "    def crawling_one_page(self):\n",
    "        elements = self.driver.find_elements_by_css_selector(\".search-product\")\n",
    "        datas = []\n",
    "        for element in elements:\n",
    "            data = {\n",
    "                \"title\": element.find_element_by_css_selector(\".name\").text,\n",
    "                \"price\": element.find_element_by_css_selector(\".price-value\").text,\n",
    "                \"thumnail_link\": element.find_element_by_css_selector(\".search-product-wrap-img\").get_attribute(\"src\"),\n",
    "                \"is_rocket\": element.get_attribute(\"data-is-rocket\"),\n",
    "                \"link\": element.find_element_by_css_selector(\"a.search-product-link\").get_attribute(\"href\"),\n",
    "            }\n",
    "\n",
    "            try:\n",
    "                data[\"rating\"] = element.find_element_by_css_selector(\n",
    "                    \".other-info\").text.split(\"\\n\")[0]\n",
    "                data[\"rating_count\"] = element.find_element_by_css_selector(\n",
    "                    \".other-info\").text.split(\"\\n\")[1][1:-1]\n",
    "            except:\n",
    "                data[\"rating\"] = data[\"rating_count\"] = \"\"\n",
    "\n",
    "            datas.append(data)\n",
    "\n",
    "        df = pd.DataFrame(datas)\n",
    "        df[\"is_rocket\"][df[\"is_rocket\"] == \"\"] = \"false\"\n",
    "        df[\"rating_count\"][df[\"rating_count\"] == \"\"] = \"0\"\n",
    "        df[\"rating\"][df[\"rating\"] == \"\"] = \"0\"\n",
    "        \n",
    "        self.result_df = df\n",
    "        self.result_df = self.result_df[[\"title\", \"price\", \"rating\", \"rating_count\", \"is_rocket\", \"link\", \"thumnail_link\"]]\n",
    "        \n",
    "        return self.result_df\n",
    "    \n",
    "    def move_page(self, page):\n",
    "        url = \"https://www.coupang.com/np/search?q={}&channel=user&eventCategory=SRP&sorter=scoreDesc&listSize=36&isPriceRange=false&rating=0&page={}&rocketAll=false\".format(\n",
    "            self.keyword, page)\n",
    "        self.driver.get(url)\n",
    "\n",
    "    def close(self):\n",
    "        self.driver.close()\n",
    "\n",
    "    def run(self, start, end, keyword=None):\n",
    "        if keyword:\n",
    "            self.keyword_setter(keyword)\n",
    "        dfs = []\n",
    "        for page in range(start, end+1):\n",
    "            print(\"keyword:{}, page:{} crawling ...\".format(self.keyword, page))\n",
    "            self.move_page(page)\n",
    "            df = self.crawling_one_page()\n",
    "            dfs.append(df)\n",
    "        self.result_df = pd.concat(dfs, ignore_index=True, sort=False)\n",
    "        return self.result_df\n",
    "\n",
    "    def keyword_getter(self):\n",
    "        return self.__keyword\n",
    "\n",
    "    def keyword_setter(self, keyword):\n",
    "        self.__keyword = keyword\n",
    "        url = \"https://www.coupang.com/np/search?q={}&channel=recent\".format(\n",
    "            self.__keyword)\n",
    "        self.driver.get(url)\n",
    "\n",
    "    keyword = property(keyword_getter, keyword_setter)\n",
    "    \n",
    "    def __repr__(self):\n",
    "        return \"<Coupang keyword={}>\".format(self.keyword)"
   ]
  },
  {
   "cell_type": "markdown",
   "metadata": {},
   "source": [
    "### 2. setup.py 파일 생성"
   ]
  },
  {
   "cell_type": "code",
   "execution_count": 2,
   "metadata": {},
   "outputs": [
    {
     "name": "stdout",
     "output_type": "stream",
     "text": [
      "Overwriting setup.py\n"
     ]
    }
   ],
   "source": [
    "%%writefile setup.py\n",
    "\n",
    "from setuptools import setup, find_packages\n",
    "\n",
    "setup(\n",
    "    name='dss.coupang',\n",
    "    packages=find_packages(),\n",
    "    include_package_data=True,\n",
    "    version=\"0.0.1\",\n",
    "    author='Fast Campus, inc.',\n",
    "    author_email=\"pdj1224@gmail.com\",\n",
    "    zip_safe=False,\n",
    ")"
   ]
  },
  {
   "cell_type": "markdown",
   "metadata": {},
   "source": [
    "### 3. 패키지 설치"
   ]
  },
  {
   "cell_type": "code",
   "execution_count": 3,
   "metadata": {},
   "outputs": [
    {
     "name": "stdout",
     "output_type": "stream",
     "text": [
      "running develop\n",
      "running egg_info\n",
      "writing dss.coupang.egg-info/PKG-INFO\n",
      "writing dependency_links to dss.coupang.egg-info/dependency_links.txt\n",
      "writing top-level names to dss.coupang.egg-info/top_level.txt\n",
      "reading manifest file 'dss.coupang.egg-info/SOURCES.txt'\n",
      "writing manifest file 'dss.coupang.egg-info/SOURCES.txt'\n",
      "running build_ext\n",
      "Creating /usr/local/anaconda3/lib/python3.7/site-packages/dss.coupang.egg-link (link to .)\n",
      "Adding dss.coupang 0.0.1 to easy-install.pth file\n",
      "\n",
      "Installed /Users/rada/Documents/lecture/dss/dss_14/quiz/online_quiz\n",
      "Processing dependencies for dss.coupang==0.0.1\n",
      "Finished processing dependencies for dss.coupang==0.0.1\n"
     ]
    }
   ],
   "source": [
    "!python setup.py develop"
   ]
  },
  {
   "cell_type": "markdown",
   "metadata": {},
   "source": [
    "### 4. 패키지 설치 확인"
   ]
  },
  {
   "cell_type": "code",
   "execution_count": 4,
   "metadata": {},
   "outputs": [
    {
     "name": "stdout",
     "output_type": "stream",
     "text": [
      "dss.coupang                       0.0.1               /Users/rada/Documents/lecture/dss/dss_14/quiz/online_quiz\r\n",
      "dssf.coupang                      0.0.1               \r\n"
     ]
    }
   ],
   "source": [
    "!pip list | grep coupang"
   ]
  },
  {
   "cell_type": "markdown",
   "metadata": {},
   "source": [
    "### 5. 패키지 사용"
   ]
  },
  {
   "cell_type": "code",
   "execution_count": 5,
   "metadata": {},
   "outputs": [],
   "source": [
    "import coupang as cp"
   ]
  },
  {
   "cell_type": "markdown",
   "metadata": {},
   "source": [
    "#### 1. 객체 생성"
   ]
  },
  {
   "cell_type": "code",
   "execution_count": 6,
   "metadata": {},
   "outputs": [
    {
     "data": {
      "text/plain": [
       "<Coupang keyword=bts>"
      ]
     },
     "execution_count": 6,
     "metadata": {},
     "output_type": "execute_result"
    }
   ],
   "source": [
    "coupang = cp.Coupang(\"bts\")\n",
    "coupang"
   ]
  },
  {
   "cell_type": "markdown",
   "metadata": {},
   "source": [
    "#### 2. 페이지 이동"
   ]
  },
  {
   "cell_type": "code",
   "execution_count": 7,
   "metadata": {},
   "outputs": [],
   "source": [
    "coupang.move_page(17)"
   ]
  },
  {
   "cell_type": "markdown",
   "metadata": {},
   "source": [
    "#### 3. 현재 페이지 크롤링\n",
    "    - 결과를 데이터 프레임으로 리턴"
   ]
  },
  {
   "cell_type": "code",
   "execution_count": 8,
   "metadata": {},
   "outputs": [
    {
     "data": {
      "text/html": [
       "<div>\n",
       "<style scoped>\n",
       "    .dataframe tbody tr th:only-of-type {\n",
       "        vertical-align: middle;\n",
       "    }\n",
       "\n",
       "    .dataframe tbody tr th {\n",
       "        vertical-align: top;\n",
       "    }\n",
       "\n",
       "    .dataframe thead th {\n",
       "        text-align: right;\n",
       "    }\n",
       "</style>\n",
       "<table border=\"1\" class=\"dataframe\">\n",
       "  <thead>\n",
       "    <tr style=\"text-align: right;\">\n",
       "      <th></th>\n",
       "      <th>title</th>\n",
       "      <th>price</th>\n",
       "      <th>rating</th>\n",
       "      <th>rating_count</th>\n",
       "      <th>is_rocket</th>\n",
       "      <th>link</th>\n",
       "      <th>thumnail_link</th>\n",
       "    </tr>\n",
       "  </thead>\n",
       "  <tbody>\n",
       "    <tr>\n",
       "      <th>34</th>\n",
       "      <td>BTS 진 목베개 목쿠션</td>\n",
       "      <td>19,100</td>\n",
       "      <td>0</td>\n",
       "      <td>0</td>\n",
       "      <td>false</td>\n",
       "      <td>https://www.coupang.com/vp/products/1980461176...</td>\n",
       "      <td>https://thumbnail6.coupangcdn.com/thumbnails/r...</td>\n",
       "    </tr>\n",
       "    <tr>\n",
       "      <th>35</th>\n",
       "      <td>LG Q7 BTS EDITION 케이스 Q727 LN_PPRS 플립 LG Q7 BT...</td>\n",
       "      <td>33,330</td>\n",
       "      <td>0</td>\n",
       "      <td>0</td>\n",
       "      <td>false</td>\n",
       "      <td>https://www.coupang.com/vp/products/214817387?...</td>\n",
       "      <td>https://thumbnail7.coupangcdn.com/thumbnails/r...</td>\n",
       "    </tr>\n",
       "  </tbody>\n",
       "</table>\n",
       "</div>"
      ],
      "text/plain": [
       "                                                title   price rating  \\\n",
       "34                                      BTS 진 목베개 목쿠션  19,100      0   \n",
       "35  LG Q7 BTS EDITION 케이스 Q727 LN_PPRS 플립 LG Q7 BT...  33,330      0   \n",
       "\n",
       "   rating_count is_rocket                                               link  \\\n",
       "34            0     false  https://www.coupang.com/vp/products/1980461176...   \n",
       "35            0     false  https://www.coupang.com/vp/products/214817387?...   \n",
       "\n",
       "                                        thumnail_link  \n",
       "34  https://thumbnail6.coupangcdn.com/thumbnails/r...  \n",
       "35  https://thumbnail7.coupangcdn.com/thumbnails/r...  "
      ]
     },
     "execution_count": 8,
     "metadata": {},
     "output_type": "execute_result"
    }
   ],
   "source": [
    "coupang.crawling_one_page()\n",
    "coupang.result_df.tail(2)"
   ]
  },
  {
   "cell_type": "markdown",
   "metadata": {},
   "source": [
    "#### 4. 키워드 변경\n",
    "    - 객체의 변수를 변경하면 다른 키워드로 검색\n",
    "    - 키워드가 변경된 후에는 1페이지로 이동 "
   ]
  },
  {
   "cell_type": "code",
   "execution_count": 9,
   "metadata": {},
   "outputs": [],
   "source": [
    "coupang.keyword = \"여름옷\""
   ]
  },
  {
   "cell_type": "code",
   "execution_count": 10,
   "metadata": {},
   "outputs": [
    {
     "data": {
      "text/html": [
       "<div>\n",
       "<style scoped>\n",
       "    .dataframe tbody tr th:only-of-type {\n",
       "        vertical-align: middle;\n",
       "    }\n",
       "\n",
       "    .dataframe tbody tr th {\n",
       "        vertical-align: top;\n",
       "    }\n",
       "\n",
       "    .dataframe thead th {\n",
       "        text-align: right;\n",
       "    }\n",
       "</style>\n",
       "<table border=\"1\" class=\"dataframe\">\n",
       "  <thead>\n",
       "    <tr style=\"text-align: right;\">\n",
       "      <th></th>\n",
       "      <th>title</th>\n",
       "      <th>price</th>\n",
       "      <th>rating</th>\n",
       "      <th>rating_count</th>\n",
       "      <th>is_rocket</th>\n",
       "      <th>link</th>\n",
       "      <th>thumnail_link</th>\n",
       "    </tr>\n",
       "  </thead>\n",
       "  <tbody>\n",
       "    <tr>\n",
       "      <th>38</th>\n",
       "      <td>캐럿 여성 주름 드레스</td>\n",
       "      <td>21,900</td>\n",
       "      <td>4.5</td>\n",
       "      <td>9</td>\n",
       "      <td>true</td>\n",
       "      <td>https://www.coupang.com/vp/products/1658677679...</td>\n",
       "      <td>https://thumbnail10.coupangcdn.com/thumbnails/...</td>\n",
       "    </tr>\n",
       "    <tr>\n",
       "      <th>39</th>\n",
       "      <td>데일로엔 여성용 미키 브이넥 반팔 티셔츠</td>\n",
       "      <td>15,900</td>\n",
       "      <td>4.5</td>\n",
       "      <td>79</td>\n",
       "      <td>false</td>\n",
       "      <td>https://www.coupang.com/vp/products/1353322288...</td>\n",
       "      <td>https://thumbnail7.coupangcdn.com/thumbnails/r...</td>\n",
       "    </tr>\n",
       "  </tbody>\n",
       "</table>\n",
       "</div>"
      ],
      "text/plain": [
       "                     title   price rating rating_count is_rocket  \\\n",
       "38            캐럿 여성 주름 드레스  21,900    4.5            9      true   \n",
       "39  데일로엔 여성용 미키 브이넥 반팔 티셔츠  15,900    4.5           79     false   \n",
       "\n",
       "                                                 link  \\\n",
       "38  https://www.coupang.com/vp/products/1658677679...   \n",
       "39  https://www.coupang.com/vp/products/1353322288...   \n",
       "\n",
       "                                        thumnail_link  \n",
       "38  https://thumbnail10.coupangcdn.com/thumbnails/...  \n",
       "39  https://thumbnail7.coupangcdn.com/thumbnails/r...  "
      ]
     },
     "execution_count": 10,
     "metadata": {},
     "output_type": "execute_result"
    }
   ],
   "source": [
    "coupang.crawling_one_page()\n",
    "coupang.result_df.tail(2)"
   ]
  },
  {
   "cell_type": "markdown",
   "metadata": {},
   "source": [
    "#### 5. 시작 페이지와 끝 페이지를 입력하면 그 페이지에 해당되는 데이터를 크롤링\n",
    "    - 키워드는 입력하면 해당 키워드로 크롤링하고, 입력되지 않으면 객체 안에 있는 키워드 변수로 크롤링"
   ]
  },
  {
   "cell_type": "code",
   "execution_count": 11,
   "metadata": {},
   "outputs": [
    {
     "name": "stdout",
     "output_type": "stream",
     "text": [
      "keyword:여름옷, page:9 crawling ...\n",
      "keyword:여름옷, page:10 crawling ...\n",
      "keyword:여름옷, page:11 crawling ...\n"
     ]
    },
    {
     "data": {
      "text/html": [
       "<div>\n",
       "<style scoped>\n",
       "    .dataframe tbody tr th:only-of-type {\n",
       "        vertical-align: middle;\n",
       "    }\n",
       "\n",
       "    .dataframe tbody tr th {\n",
       "        vertical-align: top;\n",
       "    }\n",
       "\n",
       "    .dataframe thead th {\n",
       "        text-align: right;\n",
       "    }\n",
       "</style>\n",
       "<table border=\"1\" class=\"dataframe\">\n",
       "  <thead>\n",
       "    <tr style=\"text-align: right;\">\n",
       "      <th></th>\n",
       "      <th>title</th>\n",
       "      <th>price</th>\n",
       "      <th>rating</th>\n",
       "      <th>rating_count</th>\n",
       "      <th>is_rocket</th>\n",
       "      <th>link</th>\n",
       "      <th>thumnail_link</th>\n",
       "    </tr>\n",
       "  </thead>\n",
       "  <tbody>\n",
       "    <tr>\n",
       "      <th>106</th>\n",
       "      <td>빼빼 스모크밴딩 오프숄더 블라우스</td>\n",
       "      <td>19,900</td>\n",
       "      <td>4.5</td>\n",
       "      <td>37</td>\n",
       "      <td>true</td>\n",
       "      <td>https://www.coupang.com/vp/products/1568844118...</td>\n",
       "      <td>https://thumbnail7.coupangcdn.com/thumbnails/r...</td>\n",
       "    </tr>\n",
       "    <tr>\n",
       "      <th>107</th>\n",
       "      <td>엔비룩 클래식 밴딩 원피스</td>\n",
       "      <td>27,000</td>\n",
       "      <td>5.0</td>\n",
       "      <td>2</td>\n",
       "      <td>true</td>\n",
       "      <td>https://www.coupang.com/vp/products/1775635316...</td>\n",
       "      <td>https://thumbnail10.coupangcdn.com/thumbnails/...</td>\n",
       "    </tr>\n",
       "  </tbody>\n",
       "</table>\n",
       "</div>"
      ],
      "text/plain": [
       "                  title   price rating rating_count is_rocket  \\\n",
       "106  빼빼 스모크밴딩 오프숄더 블라우스  19,900    4.5           37      true   \n",
       "107      엔비룩 클래식 밴딩 원피스  27,000    5.0            2      true   \n",
       "\n",
       "                                                  link  \\\n",
       "106  https://www.coupang.com/vp/products/1568844118...   \n",
       "107  https://www.coupang.com/vp/products/1775635316...   \n",
       "\n",
       "                                         thumnail_link  \n",
       "106  https://thumbnail7.coupangcdn.com/thumbnails/r...  \n",
       "107  https://thumbnail10.coupangcdn.com/thumbnails/...  "
      ]
     },
     "execution_count": 11,
     "metadata": {},
     "output_type": "execute_result"
    }
   ],
   "source": [
    "coupang.run(9, 11)\n",
    "coupang.result_df.tail(2)"
   ]
  },
  {
   "cell_type": "code",
   "execution_count": 12,
   "metadata": {},
   "outputs": [
    {
     "name": "stdout",
     "output_type": "stream",
     "text": [
      "keyword:선풍기, page:19 crawling ...\n",
      "keyword:선풍기, page:20 crawling ...\n",
      "keyword:선풍기, page:21 crawling ...\n"
     ]
    },
    {
     "data": {
      "text/html": [
       "<div>\n",
       "<style scoped>\n",
       "    .dataframe tbody tr th:only-of-type {\n",
       "        vertical-align: middle;\n",
       "    }\n",
       "\n",
       "    .dataframe tbody tr th {\n",
       "        vertical-align: top;\n",
       "    }\n",
       "\n",
       "    .dataframe thead th {\n",
       "        text-align: right;\n",
       "    }\n",
       "</style>\n",
       "<table border=\"1\" class=\"dataframe\">\n",
       "  <thead>\n",
       "    <tr style=\"text-align: right;\">\n",
       "      <th></th>\n",
       "      <th>title</th>\n",
       "      <th>price</th>\n",
       "      <th>rating</th>\n",
       "      <th>rating_count</th>\n",
       "      <th>is_rocket</th>\n",
       "      <th>link</th>\n",
       "      <th>thumnail_link</th>\n",
       "    </tr>\n",
       "  </thead>\n",
       "  <tbody>\n",
       "    <tr>\n",
       "      <th>106</th>\n",
       "      <td>제이닉스 51cm 3엽 대형 메탈 선풍기 JY-MF20, 단일 색상</td>\n",
       "      <td>47,800</td>\n",
       "      <td>4.5</td>\n",
       "      <td>2</td>\n",
       "      <td>false</td>\n",
       "      <td>https://www.coupang.com/vp/products/1487733699...</td>\n",
       "      <td>https://thumbnail8.coupangcdn.com/thumbnails/r...</td>\n",
       "    </tr>\n",
       "    <tr>\n",
       "      <th>107</th>\n",
       "      <td>[ALY_4855634] (주문선택 : 8인치-12V) 차량용 선풍기 차량 작은선풍...</td>\n",
       "      <td>28,030</td>\n",
       "      <td>0</td>\n",
       "      <td>0</td>\n",
       "      <td>false</td>\n",
       "      <td>https://www.coupang.com/vp/products/1945294945...</td>\n",
       "      <td>https://thumbnail10.coupangcdn.com/thumbnails/...</td>\n",
       "    </tr>\n",
       "  </tbody>\n",
       "</table>\n",
       "</div>"
      ],
      "text/plain": [
       "                                                 title   price rating  \\\n",
       "106              제이닉스 51cm 3엽 대형 메탈 선풍기 JY-MF20, 단일 색상  47,800    4.5   \n",
       "107  [ALY_4855634] (주문선택 : 8인치-12V) 차량용 선풍기 차량 작은선풍...  28,030      0   \n",
       "\n",
       "    rating_count is_rocket                                               link  \\\n",
       "106            2     false  https://www.coupang.com/vp/products/1487733699...   \n",
       "107            0     false  https://www.coupang.com/vp/products/1945294945...   \n",
       "\n",
       "                                         thumnail_link  \n",
       "106  https://thumbnail8.coupangcdn.com/thumbnails/r...  \n",
       "107  https://thumbnail10.coupangcdn.com/thumbnails/...  "
      ]
     },
     "execution_count": 12,
     "metadata": {},
     "output_type": "execute_result"
    }
   ],
   "source": [
    "coupang.run(19, 21, \"선풍기\")\n",
    "coupang.result_df.tail(2)"
   ]
  },
  {
   "cell_type": "markdown",
   "metadata": {},
   "source": [
    "#### 6. 객체 안에 있는 썸네일 링크의 이미지 저장"
   ]
  },
  {
   "cell_type": "code",
   "execution_count": 13,
   "metadata": {},
   "outputs": [],
   "source": [
    "path = \"datas\""
   ]
  },
  {
   "cell_type": "code",
   "execution_count": 14,
   "metadata": {},
   "outputs": [],
   "source": [
    "coupang.save(path)"
   ]
  },
  {
   "cell_type": "code",
   "execution_count": 15,
   "metadata": {},
   "outputs": [
    {
     "data": {
      "text/plain": [
       "(162,\n",
       " ['한솔일렉트로닉스 공업용 선풍기, HS-AJ205(20인치).png',\n",
       "  '홍진테크사파이어 인더스트리얼 메탈 선풍기 HJ-12M, 브론즈(HJ-12MB).png'])"
      ]
     },
     "execution_count": 15,
     "metadata": {},
     "output_type": "execute_result"
    }
   ],
   "source": [
    "files = !ls datas\n",
    "len(files), files[-2:]"
   ]
  },
  {
   "cell_type": "code",
   "execution_count": 16,
   "metadata": {},
   "outputs": [],
   "source": [
    "from PIL import Image as pli"
   ]
  },
  {
   "cell_type": "code",
   "execution_count": 17,
   "metadata": {},
   "outputs": [
    {
     "data": {
      "text/plain": [
       "'./datas/BDO 비디오 휴대용 충전식 유모차선풍기, D1, 블루.png'"
      ]
     },
     "execution_count": 17,
     "metadata": {},
     "output_type": "execute_result"
    }
   ],
   "source": [
    "\"./{}/{}\".format(path, files[0])"
   ]
  },
  {
   "cell_type": "code",
   "execution_count": 18,
   "metadata": {},
   "outputs": [
    {
     "data": {
      "image/png": "[encoded data removed]",
      "text/plain": [
       "<PIL.GifImagePlugin.GifImageFile image mode=L size=1x1 at 0x1A24EDF690>"
      ]
     },
     "execution_count": 18,
     "metadata": {},
     "output_type": "execute_result"
    }
   ],
   "source": [
    "pli.open(\"./{}/{}\".format(path, files[10]))"
   ]
  },
  {
   "cell_type": "code",
   "execution_count": 19,
   "metadata": {},
   "outputs": [
    {
     "data": {
      "text/html": [
       "<div>\n",
       "<style scoped>\n",
       "    .dataframe tbody tr th:only-of-type {\n",
       "        vertical-align: middle;\n",
       "    }\n",
       "\n",
       "    .dataframe tbody tr th {\n",
       "        vertical-align: top;\n",
       "    }\n",
       "\n",
       "    .dataframe thead th {\n",
       "        text-align: right;\n",
       "    }\n",
       "</style>\n",
       "<table border=\"1\" class=\"dataframe\">\n",
       "  <thead>\n",
       "    <tr style=\"text-align: right;\">\n",
       "      <th></th>\n",
       "      <th>title</th>\n",
       "      <th>price</th>\n",
       "      <th>rating</th>\n",
       "      <th>rating_count</th>\n",
       "      <th>is_rocket</th>\n",
       "      <th>link</th>\n",
       "      <th>thumnail_link</th>\n",
       "    </tr>\n",
       "  </thead>\n",
       "  <tbody>\n",
       "    <tr>\n",
       "      <th>106</th>\n",
       "      <td>제이닉스 51cm 3엽 대형 메탈 선풍기 JY-MF20, 단일 색상</td>\n",
       "      <td>47,800</td>\n",
       "      <td>4.5</td>\n",
       "      <td>2</td>\n",
       "      <td>False</td>\n",
       "      <td>https://www.coupang.com/vp/products/1487733699...</td>\n",
       "      <td>https://thumbnail8.coupangcdn.com/thumbnails/r...</td>\n",
       "    </tr>\n",
       "    <tr>\n",
       "      <th>107</th>\n",
       "      <td>[ALY_4855634] (주문선택 : 8인치-12V) 차량용 선풍기 차량 작은선풍...</td>\n",
       "      <td>28,030</td>\n",
       "      <td>0.0</td>\n",
       "      <td>0</td>\n",
       "      <td>False</td>\n",
       "      <td>https://www.coupang.com/vp/products/1945294945...</td>\n",
       "      <td>https://thumbnail10.coupangcdn.com/thumbnails/...</td>\n",
       "    </tr>\n",
       "  </tbody>\n",
       "</table>\n",
       "</div>"
      ],
      "text/plain": [
       "                                                 title   price  rating  \\\n",
       "106              제이닉스 51cm 3엽 대형 메탈 선풍기 JY-MF20, 단일 색상  47,800     4.5   \n",
       "107  [ALY_4855634] (주문선택 : 8인치-12V) 차량용 선풍기 차량 작은선풍...  28,030     0.0   \n",
       "\n",
       "     rating_count  is_rocket  \\\n",
       "106             2      False   \n",
       "107             0      False   \n",
       "\n",
       "                                                  link  \\\n",
       "106  https://www.coupang.com/vp/products/1487733699...   \n",
       "107  https://www.coupang.com/vp/products/1945294945...   \n",
       "\n",
       "                                         thumnail_link  \n",
       "106  https://thumbnail8.coupangcdn.com/thumbnails/r...  \n",
       "107  https://thumbnail10.coupangcdn.com/thumbnails/...  "
      ]
     },
     "execution_count": 19,
     "metadata": {},
     "output_type": "execute_result"
    }
   ],
   "source": [
    "# 저장된 csv 파일 확인\n",
    "df = pd.read_csv(\"./{}/{}.csv\".format(path, coupang.keyword))\n",
    "df.tail(2)"
   ]
  },
  {
   "cell_type": "markdown",
   "metadata": {},
   "source": [
    "#### 7. webdriver 객체 닫기"
   ]
  },
  {
   "cell_type": "code",
   "execution_count": 20,
   "metadata": {},
   "outputs": [],
   "source": [
    "coupang.close()"
   ]
  },
  {
   "cell_type": "code",
   "execution_count": 21,
   "metadata": {},
   "outputs": [],
   "source": [
    "# 패키지 삭제"
   ]
  },
  {
   "cell_type": "code",
   "execution_count": 22,
   "metadata": {},
   "outputs": [
    {
     "name": "stdout",
     "output_type": "stream",
     "text": [
      "Found existing installation: dss.coupang 0.0.1\n",
      "Uninstalling dss.coupang-0.0.1:\n",
      "  Successfully uninstalled dss.coupang-0.0.1\n"
     ]
    }
   ],
   "source": [
    "!pip uninstall dss.coupang -y"
   ]
  },
  {
   "cell_type": "code",
   "execution_count": 23,
   "metadata": {},
   "outputs": [],
   "source": [
    "!pip list | grep coupang"
   ]
  }
 ],
 "metadata": {
  "kernelspec": {
   "display_name": "Python 3",
   "language": "python",
   "name": "python3"
  },
  "language_info": {
   "codemirror_mode": {
    "name": "ipython",
    "version": 3
   },
   "file_extension": ".py",
   "mimetype": "text/x-python",
   "name": "python",
   "nbconvert_exporter": "python",
   "pygments_lexer": "ipython3",
   "version": "3.7.6"
  },
  "toc": {
   "base_numbering": 1,
   "nav_menu": {},
   "number_sections": true,
   "sideBar": true,
   "skip_h1_title": true,
   "title_cell": "Table of Contents",
   "title_sidebar": "Contents",
   "toc_cell": true,
   "toc_position": {},
   "toc_section_display": true,
   "toc_window_display": true
  },
  "varInspector": {
   "cols": {
    "lenName": 16,
    "lenType": 16,
    "lenVar": 40
   },
   "kernels_config": {
    "python": {
     "delete_cmd_postfix": "",
     "delete_cmd_prefix": "del ",
     "library": "var_list.py",
     "varRefreshCmd": "print(var_dic_list())"
    },
    "r": {
     "delete_cmd_postfix": ") ",
     "delete_cmd_prefix": "rm(",
     "library": "var_list.r",
     "varRefreshCmd": "cat(var_dic_list()) "
    }
   },
   "types_to_exclude": [
    "module",
    "function",
    "builtin_function_or_method",
    "instance",
    "_Feature"
   ],
   "window_display": false
  }
 },
 "nbformat": 4,
 "nbformat_minor": 4
}
