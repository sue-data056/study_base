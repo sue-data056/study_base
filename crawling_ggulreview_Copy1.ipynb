{
 "cells": [
  {
   "cell_type": "markdown",
   "metadata": {},
   "source": [
    "### 꿀리뷰\n",
    "- 꿀리뷰 사이트에서 카테고리별 상품의 제품명, 전체평점, 최저가 데이터를 수집\n",
    "- https://www.ggulreview.com/"
   ]
  },
  {
   "cell_type": "code",
   "execution_count": 20,
   "metadata": {},
   "outputs": [],
   "source": [
    "from selenium import webdriver\n",
    "import time"
   ]
  },
  {
   "cell_type": "code",
   "execution_count": 1,
   "metadata": {
    "ExecuteTime": {
     "end_time": "2020-09-04T07:32:42.918330Z",
     "start_time": "2020-09-04T07:32:42.878895Z"
    }
   },
   "outputs": [],
   "source": [
    "class Ggulreview:\n",
    "\n",
    "    def __init__(self, category=\"laptops\"):\n",
    "        self.category = category\n",
    "        url = \"https://www.ggulreview.com/p/{}\".format(self.category)\n",
    "        options = webdriver.ChromeOptions()\n",
    "        options.add_argument(\"headless\")\n",
    "        self.driver = webdriver.Chrome(options=options)\n",
    "        self.driver.get(url)\n",
    "        self.driver.set_window_size(1020, 2160) # 사이즈를 키워야 다 보이는 듯\n",
    "        \n",
    "        self.category_ls = None\n",
    "        self.product_ls = None\n",
    "        self.more_ls = None\n",
    "\n",
    "    def category_list(self):\n",
    "        self.driver.find_element_by_css_selector(\"#outer-container > div >\\\n",
    "         div:nth-child(3) > div > button\").click()\n",
    "        time.sleep(2)\n",
    "        categorys = self.driver.find_elements_by_css_selector('#page-wrap > ul >\\\n",
    "         li:not(:nth-child(1)):not(:nth-child(2)) > a')\n",
    "\n",
    "        category_ls = {}\n",
    "\n",
    "        for category in categorys:\n",
    "            category_ls[category.text] = category.get_attribute(\"href\").split('p/')[1]\n",
    "        self.category_ls = category_ls\n",
    "        return self.category_ls\n",
    "    \n",
    "\n",
    "    def change_category(self, category):\n",
    "        self.category = category       \n",
    "        url = \"https://www.ggulreview.com/p/{}\".format(self.category)\n",
    "        self.driver.get(url)\n",
    "\n",
    "    def __more(self):\n",
    "        self.driver.find_element_by_css_selector(\"#__next > div > main >\\\n",
    "        div:nth-child(7) > div > div > a > span\").click()\n",
    "        time.sleep(3)\n",
    "        products_more = self.driver.find_elements_by_css_selector('#__next > div >\\\n",
    "        main > div:nth-child(7) > div > ul li')\n",
    "\n",
    "        more_ls = []\n",
    "        \n",
    "        for product_more in products_more:\n",
    "            more_ls.append({\n",
    "                '제품명': product_more.find_element_by_css_selector(\"a > div.product-list-item__desc > div:nth-child(1) > h3\").text,\n",
    "                '전체 평점': product_more.find_element_by_css_selector(\"a > div.product-list-item__desc > div:nth-child(2) > div.product-list-item__desc__eval > span\").text,\n",
    "                '최저가': product_more.find_element_by_css_selector(\"a > div.product-list-item__desc > div.product-list-item__desc__price-wrapper > span.product-list-item__desc__price\").text\n",
    "                })\n",
    "        self.more_ls = more_ls\n",
    "        return self.more_ls\n",
    "\n",
    "    def crawling(self):\n",
    "        products = self.driver.find_elements_by_css_selector(\"#__next > \\\n",
    "        div > main > div:nth-child(7) > div > ul li\")\n",
    "\n",
    "        product_ls = []\n",
    "        for product in products:\n",
    "            product_ls.append({\n",
    "                '제품명': product.find_element_by_css_selector(\"a > div.product-list-item__desc > div:nth-child(1) > h3\").text,\n",
    "                '전체 평점': product.find_element_by_css_selector(\"a > div.product-list-item__desc > div:nth-child(2) > div.product-list-item__desc__eval > span\").text,\n",
    "                '최저가': product.find_element_by_css_selector(\"a > div.product-list-item__desc > div.product-list-item__desc__price-wrapper > span.product-list-item__desc__price\").text\n",
    "                })\n",
    "        self.product_ls = product_ls\n",
    "        return self.product_ls\n",
    "\n",
    "    def close(self):\n",
    "        self.driver.quit()\n",
    "        "
   ]
  },
  {
   "cell_type": "code",
   "execution_count": 2,
   "metadata": {
    "ExecuteTime": {
     "end_time": "2020-09-04T07:32:48.398569Z",
     "start_time": "2020-09-04T07:32:44.795321Z"
    }
   },
   "outputs": [],
   "source": [
    "# 객체 생성\n",
    "gr = Ggulreview()"
   ]
  },
  {
   "cell_type": "code",
   "execution_count": 3,
   "metadata": {
    "ExecuteTime": {
     "end_time": "2020-09-04T07:32:58.187113Z",
     "start_time": "2020-09-04T07:32:58.179688Z"
    }
   },
   "outputs": [
    {
     "data": {
      "text/plain": [
       "'laptops'"
      ]
     },
     "execution_count": 3,
     "metadata": {},
     "output_type": "execute_result"
    }
   ],
   "source": [
    "# 현재 카테고리\n",
    "gr.category"
   ]
  },
  {
   "cell_type": "code",
   "execution_count": 4,
   "metadata": {
    "ExecuteTime": {
     "end_time": "2020-09-04T07:33:02.557505Z",
     "start_time": "2020-09-04T07:33:00.019901Z"
    }
   },
   "outputs": [
    {
     "data": {
      "text/plain": [
       "{'노트북': 'laptops',\n",
       " '무선 청소기': 'cordless-vacuums',\n",
       " '로봇 청소기': 'robotic-vacuums',\n",
       " 'TV': 'televisions',\n",
       " '믹서기': 'blenders',\n",
       " '전기밥솥': 'rice-cookers',\n",
       " '에어프라이어': 'air-fryers',\n",
       " '공기청정기': 'air-purifiers',\n",
       " '건조기': 'dryers',\n",
       " '식기 세척기': 'dishwashers',\n",
       " '냉장고': 'refrigerators',\n",
       " '빔 프로젝터': 'projectors',\n",
       " '모니터': 'monitors',\n",
       " '가습기': 'humidifiers',\n",
       " '에어컨': 'air-conditioners',\n",
       " '선풍기': 'fans',\n",
       " '제습기': 'dehumidifiers'}"
      ]
     },
     "execution_count": 4,
     "metadata": {},
     "output_type": "execute_result"
    }
   ],
   "source": [
    "# 카테고리 리스트 출력\n",
    "gr.category_list()"
   ]
  },
  {
   "cell_type": "code",
   "execution_count": 37,
   "metadata": {
    "ExecuteTime": {
     "end_time": "2020-09-03T23:43:05.366242Z",
     "start_time": "2020-09-03T23:43:04.440004Z"
    }
   },
   "outputs": [],
   "source": [
    "# 선풍기로 카테고리 변경\n",
    "gr.change_category(\"fans\")"
   ]
  },
  {
   "cell_type": "code",
   "execution_count": 38,
   "metadata": {
    "ExecuteTime": {
     "end_time": "2020-09-03T23:43:05.927611Z",
     "start_time": "2020-09-03T23:43:05.919360Z"
    }
   },
   "outputs": [
    {
     "data": {
      "text/plain": [
       "'fans'"
      ]
     },
     "execution_count": 38,
     "metadata": {},
     "output_type": "execute_result"
    }
   ],
   "source": [
    "gr.category"
   ]
  },
  {
   "cell_type": "code",
   "execution_count": 39,
   "metadata": {
    "ExecuteTime": {
     "end_time": "2020-09-03T23:43:08.650649Z",
     "start_time": "2020-09-03T23:43:07.615362Z"
    }
   },
   "outputs": [
    {
     "data": {
      "text/plain": [
       "[{'제품명': '발뮤다 그린팬S 무선', '전체 평점': '4.6', '최저가': '370,000원'},\n",
       " {'제품명': '한일전기 아기바람 ABFL-1470RTDC', '전체 평점': '4.2', '최저가': '140,000원'},\n",
       " {'제품명': '한일전기 아기바람 ABFL-1460RDC', '전체 평점': '4.2', '최저가': '120,000원'},\n",
       " {'제품명': '샤오미 스마트미 3세대 무선', '전체 평점': '4.0', '최저가': '70,000원'},\n",
       " {'제품명': '르젠 TR 입체회전', '전체 평점': '4.2', '최저가': '70,000원'},\n",
       " {'제품명': '신일산업 SIF-PRC12NX 무선', '전체 평점': '4.2', '최저가': '200,000원'},\n",
       " {'제품명': '신일산업 SIF-P14CPK', '전체 평점': '4.1', '최저가': '80,000원'},\n",
       " {'제품명': '신일산업 SIF-14SMA', '전체 평점': '4.1', '최저가': '40,000원'},\n",
       " {'제품명': '르젠 LZEF-DC180', '전체 평점': '4.0', '최저가': '50,000원'},\n",
       " {'제품명': '르젠 DC 스마트', '전체 평점': '3.9', '최저가': '60,000원'},\n",
       " {'제품명': '한경희생활과학 HEDF-8010TR', '전체 평점': '3.9', '최저가': '70,000원'},\n",
       " {'제품명': '신일산업 SIF-16LPP', '전체 평점': '3.9', '최저가': '60,000원'},\n",
       " {'제품명': '보국전자 BKF-30DCB90', '전체 평점': '3.9', '최저가': '140,000원'},\n",
       " {'제품명': '한일전기 EFe-492R', '전체 평점': '3.9', '최저가': '50,000원'},\n",
       " {'제품명': '샤오미 스마트미 2세대', '전체 평점': '3.8', '최저가': '60,000원'}]"
      ]
     },
     "execution_count": 39,
     "metadata": {},
     "output_type": "execute_result"
    }
   ],
   "source": [
    "# 데이터 수집\n",
    "gr.crawling()"
   ]
  },
  {
   "cell_type": "code",
   "execution_count": 40,
   "metadata": {
    "ExecuteTime": {
     "end_time": "2020-09-03T23:43:10.532246Z",
     "start_time": "2020-09-03T23:43:09.812051Z"
    }
   },
   "outputs": [
    {
     "data": {
      "text/html": [
       "<div>\n",
       "<style scoped>\n",
       "    .dataframe tbody tr th:only-of-type {\n",
       "        vertical-align: middle;\n",
       "    }\n",
       "\n",
       "    .dataframe tbody tr th {\n",
       "        vertical-align: top;\n",
       "    }\n",
       "\n",
       "    .dataframe thead th {\n",
       "        text-align: right;\n",
       "    }\n",
       "</style>\n",
       "<table border=\"1\" class=\"dataframe\">\n",
       "  <thead>\n",
       "    <tr style=\"text-align: right;\">\n",
       "      <th></th>\n",
       "      <th>제품명</th>\n",
       "      <th>전체 평점</th>\n",
       "      <th>최저가</th>\n",
       "    </tr>\n",
       "  </thead>\n",
       "  <tbody>\n",
       "    <tr>\n",
       "      <th>0</th>\n",
       "      <td>발뮤다 그린팬S 무선</td>\n",
       "      <td>4.6</td>\n",
       "      <td>370,000원</td>\n",
       "    </tr>\n",
       "    <tr>\n",
       "      <th>1</th>\n",
       "      <td>한일전기 아기바람 ABFL-1470RTDC</td>\n",
       "      <td>4.2</td>\n",
       "      <td>140,000원</td>\n",
       "    </tr>\n",
       "    <tr>\n",
       "      <th>2</th>\n",
       "      <td>한일전기 아기바람 ABFL-1460RDC</td>\n",
       "      <td>4.2</td>\n",
       "      <td>120,000원</td>\n",
       "    </tr>\n",
       "    <tr>\n",
       "      <th>3</th>\n",
       "      <td>샤오미 스마트미 3세대 무선</td>\n",
       "      <td>4.0</td>\n",
       "      <td>70,000원</td>\n",
       "    </tr>\n",
       "    <tr>\n",
       "      <th>4</th>\n",
       "      <td>르젠 TR 입체회전</td>\n",
       "      <td>4.2</td>\n",
       "      <td>70,000원</td>\n",
       "    </tr>\n",
       "  </tbody>\n",
       "</table>\n",
       "</div>"
      ],
      "text/plain": [
       "                       제품명 전체 평점       최저가\n",
       "0              발뮤다 그린팬S 무선   4.6  370,000원\n",
       "1  한일전기 아기바람 ABFL-1470RTDC   4.2  140,000원\n",
       "2   한일전기 아기바람 ABFL-1460RDC   4.2  120,000원\n",
       "3          샤오미 스마트미 3세대 무선   4.0   70,000원\n",
       "4               르젠 TR 입체회전   4.2   70,000원"
      ]
     },
     "execution_count": 40,
     "metadata": {},
     "output_type": "execute_result"
    }
   ],
   "source": [
    "# 수집된 데이터 확인\n",
    "pd.DataFrame(gr.crawling()).head()"
   ]
  },
  {
   "cell_type": "code",
   "execution_count": 41,
   "metadata": {
    "ExecuteTime": {
     "end_time": "2020-09-03T23:43:16.724404Z",
     "start_time": "2020-09-03T23:43:11.460596Z"
    }
   },
   "outputs": [
    {
     "data": {
      "text/plain": [
       "[{'제품명': '발뮤다 그린팬S 무선', '전체 평점': '4.6', '최저가': '370,000원'},\n",
       " {'제품명': '한일전기 아기바람 ABFL-1470RTDC', '전체 평점': '4.2', '최저가': '140,000원'},\n",
       " {'제품명': '한일전기 아기바람 ABFL-1460RDC', '전체 평점': '4.2', '최저가': '120,000원'},\n",
       " {'제품명': '샤오미 스마트미 3세대 무선', '전체 평점': '4.0', '최저가': '70,000원'},\n",
       " {'제품명': '르젠 TR 입체회전', '전체 평점': '4.2', '최저가': '70,000원'},\n",
       " {'제품명': '신일산업 SIF-PRC12NX 무선', '전체 평점': '4.2', '최저가': '200,000원'},\n",
       " {'제품명': '신일산업 SIF-P14CPK', '전체 평점': '4.1', '최저가': '80,000원'},\n",
       " {'제품명': '신일산업 SIF-14SMA', '전체 평점': '4.1', '최저가': '40,000원'},\n",
       " {'제품명': '르젠 LZEF-DC180', '전체 평점': '4.0', '최저가': '50,000원'},\n",
       " {'제품명': '르젠 DC 스마트', '전체 평점': '3.9', '최저가': '60,000원'},\n",
       " {'제품명': '한경희생활과학 HEDF-8010TR', '전체 평점': '3.9', '최저가': '70,000원'},\n",
       " {'제품명': '신일산업 SIF-16LPP', '전체 평점': '3.9', '최저가': '60,000원'},\n",
       " {'제품명': '보국전자 BKF-30DCB90', '전체 평점': '3.9', '최저가': '140,000원'},\n",
       " {'제품명': '한일전기 EFe-492R', '전체 평점': '3.9', '최저가': '50,000원'},\n",
       " {'제품명': '샤오미 스마트미 2세대', '전체 평점': '3.8', '최저가': '60,000원'},\n",
       " {'제품명': '신일산업 SIF-14CEM', '전체 평점': '3.7', '최저가': '50,000원'},\n",
       " {'제품명': '파세코 PDF-MP7141AW', '전체 평점': '-', '최저가': '60,000원'},\n",
       " {'제품명': '유니맥스 UMF-R5314LDC', '전체 평점': '-', '최저가': '50,000원'},\n",
       " {'제품명': '삼성전자 SFN-M35RSBL', '전체 평점': '-', '최저가': '100,000원'},\n",
       " {'제품명': '대웅 모닝컴 DWF-RF4015WS', '전체 평점': '-', '최저가': '30,000원'},\n",
       " {'제품명': '한일전기 DCF-710R', '전체 평점': '-', '최저가': '70,000원'},\n",
       " {'제품명': '신일산업 SIF-14HKR', '전체 평점': '-', '최저가': '70,000원'},\n",
       " {'제품명': '신일산업 SIF-FR161', '전체 평점': '-', '최저가': '60,000원'},\n",
       " {'제품명': '신일산업 SIF-S16YO', '전체 평점': '-', '최저가': '100,000원'},\n",
       " {'제품명': '신일산업 SIF-BZ14R', '전체 평점': '-', '최저가': '140,000원'},\n",
       " {'제품명': '삼성전자 SFN-M35GFGB', '전체 평점': '-', '최저가': '70,000원'},\n",
       " {'제품명': '한일전기 EFe-432', '전체 평점': '-', '최저가': '40,000원'},\n",
       " {'제품명': '한일전기 EFE-510R', '전체 평점': '-', '최저가': '60,000원'},\n",
       " {'제품명': '신일산업 SIF-14HKW', '전체 평점': '-', '최저가': '60,000원'},\n",
       " {'제품명': '신일산업 SIF-PFP14CH', '전체 평점': '-', '최저가': '100,000원'}]"
      ]
     },
     "execution_count": 41,
     "metadata": {},
     "output_type": "execute_result"
    }
   ],
   "source": [
    "# 더보기\n",
    "gr._Ggulreview__more()"
   ]
  },
  {
   "cell_type": "code",
   "execution_count": 42,
   "metadata": {
    "ExecuteTime": {
     "end_time": "2020-09-03T23:43:20.242952Z",
     "start_time": "2020-09-03T23:43:20.135877Z"
    }
   },
   "outputs": [],
   "source": [
    "# 브라우져 닫기\n",
    "gr.close()"
   ]
  }
 ],
 "metadata": {
  "kernelspec": {
   "display_name": "Python 3",
   "language": "python",
   "name": "python3"
  },
  "language_info": {
   "codemirror_mode": {
    "name": "ipython",
    "version": 3
   },
   "file_extension": ".py",
   "mimetype": "text/x-python",
   "name": "python",
   "nbconvert_exporter": "python",
   "pygments_lexer": "ipython3",
   "version": "3.7.6"
  },
  "toc": {
   "base_numbering": 1,
   "nav_menu": {},
   "number_sections": true,
   "sideBar": true,
   "skip_h1_title": true,
   "title_cell": "Table of Contents",
   "title_sidebar": "Contents",
   "toc_cell": false,
   "toc_position": {},
   "toc_section_display": true,
   "toc_window_display": true
  },
  "varInspector": {
   "cols": {
    "lenName": 16,
    "lenType": 16,
    "lenVar": 40
   },
   "kernels_config": {
    "python": {
     "delete_cmd_postfix": "",
     "delete_cmd_prefix": "del ",
     "library": "var_list.py",
     "varRefreshCmd": "print(var_dic_list())"
    },
    "r": {
     "delete_cmd_postfix": ") ",
     "delete_cmd_prefix": "rm(",
     "library": "var_list.r",
     "varRefreshCmd": "cat(var_dic_list()) "
    }
   },
   "types_to_exclude": [
    "module",
    "function",
    "builtin_function_or_method",
    "instance",
    "_Feature"
   ],
   "window_display": false
  }
 },
 "nbformat": 4,
 "nbformat_minor": 4
}
