{
 "cells": [
  {
   "cell_type": "markdown",
   "metadata": {},
   "source": [
    "# 시범지역 예측 모델링 및 선정"
   ]
  },
  {
   "cell_type": "markdown",
   "metadata": {},
   "source": [
    "## 데이터 로드 및 전처리¶"
   ]
  },
  {
   "cell_type": "code",
   "execution_count": 2,
   "metadata": {
    "ExecuteTime": {
     "end_time": "2020-09-26T14:11:40.270589Z",
     "start_time": "2020-09-26T14:09:00.176634Z"
    }
   },
   "outputs": [],
   "source": [
    "seoul_survey = pd.read_excel('4. 2018 서베이 가구원(원시자료와 부호화 지침서).xlsx')\n",
    "food_survey = pd.read_excel('2019 식품소비행태조사_주구입자(배포용).xlsx')"
   ]
  },
  {
   "cell_type": "markdown",
   "metadata": {},
   "source": [
    "## 서울서베이 변수처리"
   ]
  },
  {
   "cell_type": "code",
   "execution_count": 3,
   "metadata": {
    "ExecuteTime": {
     "end_time": "2020-09-26T14:12:10.222935Z",
     "start_time": "2020-09-26T14:12:10.212353Z"
    }
   },
   "outputs": [],
   "source": [
    "seoul_survey_cleared = seoul_survey.loc[:,['ID','DE1','DE2','ADQ3_6','house','GU','AQ10']]\n",
    "seoul_survey_cleared.columns = ['ID','gender','age','income','house','gu','WTP']"
   ]
  },
  {
   "cell_type": "code",
   "execution_count": null,
   "metadata": {
    "ExecuteTime": {
     "end_time": "2020-09-26T14:13:47.757486Z",
     "start_time": "2020-09-26T14:13:47.724310Z"
    }
   },
   "outputs": [],
   "source": [
    "# 구별로 정리\n",
    "mygu = seoul_survey_cleared.groupby(['ID']).mean()['gu'].reset_index(drop=True)"
   ]
  },
  {
   "cell_type": "code",
   "execution_count": 7,
   "metadata": {
    "ExecuteTime": {
     "end_time": "2020-09-26T14:13:47.757486Z",
     "start_time": "2020-09-26T14:13:47.724310Z"
    }
   },
   "outputs": [],
   "source": [
    "# 가구별 df 생성\n",
    "seoul_survey_id = seoul_survey_cleared.groupby(\"ID\").mean()\n",
    "seoul_survey_id['gu'] = mygu"
   ]
  },
  {
   "cell_type": "code",
   "execution_count": 8,
   "metadata": {
    "ExecuteTime": {
     "end_time": "2020-09-26T14:14:58.200976Z",
     "start_time": "2020-09-26T14:14:58.157904Z"
    }
   },
   "outputs": [],
   "source": [
    "# income 전처리\n",
    "myincome1 = list(range(1,20))\n",
    "myincome2 = list(range(50,1000,50))\n",
    "\n",
    "seoul_survey_cleared['income'] = seoul_survey_cleared['income'].apply(lambda row: row*50)\n",
    "seoul_survey_id['income'] = seoul_survey_cleared.groupby(['ID'],as_index=False).sum()['income']"
   ]
  },
  {
   "cell_type": "code",
   "execution_count": 9,
   "metadata": {
    "ExecuteTime": {
     "end_time": "2020-09-26T14:15:02.737366Z",
     "start_time": "2020-09-26T14:15:02.659977Z"
    }
   },
   "outputs": [],
   "source": [
    "# 동거인 연령대 전처리\n",
    "temp = seoul_survey_cleared.pivot_table(index = \"ID\", columns = \"age\", aggfunc = \"size\").fillna(0)\n",
    "juvenile = temp.iloc[:,:2].sum(axis=1)\n",
    "adult = temp.iloc[:,2:].sum(axis=1)\n",
    "\n",
    "juvenile_cleared = pd.DataFrame(juvenile).reset_index(drop=True)\n",
    "adult_cleared = pd.DataFrame(adult).reset_index(drop=True)\n",
    "\n",
    "seoul_survey_id['juvenile'] = juvenile_cleared\n",
    "seoul_survey_id['adult'] = adult_cleared"
   ]
  },
  {
   "cell_type": "code",
   "execution_count": 10,
   "metadata": {
    "ExecuteTime": {
     "end_time": "2020-09-26T14:15:07.016439Z",
     "start_time": "2020-09-26T14:15:06.992256Z"
    }
   },
   "outputs": [],
   "source": [
    "# willing to pay maximum value\n",
    "seoul_survey_id['pay'] = seoul_survey_cleared.groupby(['ID'], as_index=False).max()['WTP']"
   ]
  },
  {
   "cell_type": "code",
   "execution_count": 11,
   "metadata": {
    "ExecuteTime": {
     "end_time": "2020-09-26T14:15:11.972760Z",
     "start_time": "2020-09-26T14:15:11.939680Z"
    }
   },
   "outputs": [],
   "source": [
    "# 가구형태 처리\n",
    "house_count = seoul_survey_cleared.groupby(['ID']).mean()['house'].reset_index()\n",
    "seoul_survey_id['house'] = house_count['house']"
   ]
  },
  {
   "cell_type": "markdown",
   "metadata": {},
   "source": [
    "## 식품소비행태조사 변수처리"
   ]
  },
  {
   "cell_type": "code",
   "execution_count": 12,
   "metadata": {
    "ExecuteTime": {
     "end_time": "2020-09-26T14:15:28.953472Z",
     "start_time": "2020-09-26T14:15:28.946114Z"
    }
   },
   "outputs": [],
   "source": [
    "# NaN 0으로 처리\n",
    "food_survey[\"G10\"] = food_survey[\"G10\"].fillna(0)"
   ]
  },
  {
   "cell_type": "code",
   "execution_count": 13,
   "metadata": {
    "ExecuteTime": {
     "end_time": "2020-09-26T14:15:33.228959Z",
     "start_time": "2020-09-26T14:15:33.187196Z"
    }
   },
   "outputs": [],
   "source": [
    "# G10문항 결측값 드랍, 컬럼네임 짓기\n",
    "food_survey_cleared = food_survey[food_survey['G10']!=0].iloc[:,1:]\n",
    "food_survey_cleared = food_survey_cleared.loc[:,['지역','SQ2','K2','K1','BA2','BA3','G10']]\n",
    "food_survey_cleared.columns = ['region','gender','juvenile','adult','income','house','baedal']"
   ]
  },
  {
   "cell_type": "code",
   "execution_count": 14,
   "metadata": {
    "ExecuteTime": {
     "end_time": "2020-09-26T14:15:37.235856Z",
     "start_time": "2020-09-26T14:15:37.228919Z"
    }
   },
   "outputs": [],
   "source": [
    "change_delivery = {\n",
    "    1:1, 2:1, 3:2, 4:2, 5:3, 6:3, 7:4, 8:4\n",
    "}\n",
    "food_survey_cleared[\"baedal\"] = food_survey_cleared[\"baedal\"].apply(lambda x : change_delivery[x])"
   ]
  },
  {
   "cell_type": "code",
   "execution_count": 15,
   "metadata": {
    "ExecuteTime": {
     "end_time": "2020-09-26T14:15:42.402295Z",
     "start_time": "2020-09-26T14:15:42.396805Z"
    }
   },
   "outputs": [],
   "source": [
    "mydata = food_survey_cleared.iloc[:,1:].values"
   ]
  },
  {
   "cell_type": "code",
   "execution_count": 16,
   "metadata": {
    "ExecuteTime": {
     "end_time": "2020-09-26T14:16:00.069070Z",
     "start_time": "2020-09-26T14:15:50.638257Z"
    }
   },
   "outputs": [],
   "source": [
    "from tensorflow.keras.models import Sequential\n",
    "from tensorflow.keras.layers import Dense, LSTM, Embedding\n",
    "from tensorflow.keras.preprocessing.sequence import pad_sequences\n",
    "from tensorflow.keras.utils import to_categorical\n",
    "from tensorflow.keras.callbacks import EarlyStopping, ModelCheckpoint\n",
    "from tensorflow.keras.models import load_model\n",
    "from sklearn.model_selection import train_test_split\n",
    "import tensorflow as tf"
   ]
  },
  {
   "cell_type": "markdown",
   "metadata": {},
   "source": [
    "## 예측 모델링 : 딥러닝"
   ]
  },
  {
   "cell_type": "code",
   "execution_count": 17,
   "metadata": {
    "ExecuteTime": {
     "end_time": "2020-09-26T14:16:37.921305Z",
     "start_time": "2020-09-26T14:16:37.906697Z"
    }
   },
   "outputs": [],
   "source": [
    "y = mydata[:,-1]\n",
    "X = mydata[:,:-1]\n",
    "\n",
    "X_train , X_test , y_train , y_test = train_test_split(X, y, test_size=0.2, random_state=42)\n",
    "\n",
    "y_train = to_categorical(y_train, num_classes=5)\n",
    "y_test = to_categorical(y_test, num_classes=5)"
   ]
  },
  {
   "cell_type": "code",
   "execution_count": 18,
   "metadata": {
    "ExecuteTime": {
     "end_time": "2020-09-26T14:17:27.753510Z",
     "start_time": "2020-09-26T14:17:27.250794Z"
    }
   },
   "outputs": [],
   "source": [
    "model = Sequential()\n",
    "model.add(Embedding(2216, 100))\n",
    "model.add(LSTM(128))\n",
    "model.add(Dense(5, activation='softmax'))"
   ]
  },
  {
   "cell_type": "code",
   "execution_count": 19,
   "metadata": {
    "ExecuteTime": {
     "end_time": "2020-09-26T14:17:31.758971Z",
     "start_time": "2020-09-26T14:17:31.744365Z"
    }
   },
   "outputs": [],
   "source": [
    "model.compile(loss='categorical_crossentropy', optimizer='adam', metrics=['acc'])"
   ]
  },
  {
   "cell_type": "code",
   "execution_count": 20,
   "metadata": {
    "ExecuteTime": {
     "end_time": "2020-09-26T14:17:35.418693Z",
     "start_time": "2020-09-26T14:17:35.413592Z"
    }
   },
   "outputs": [],
   "source": [
    "es = EarlyStopping(monitor='val_loss', mode='min', verbose=1, patience=4)\n",
    "mc = ModelCheckpoint('best_model.h5', monitor='val_acc', mode='max', verbose=1, save_best_only=True)"
   ]
  },
  {
   "cell_type": "code",
   "execution_count": 21,
   "metadata": {
    "ExecuteTime": {
     "end_time": "2020-09-26T14:17:51.661997Z",
     "start_time": "2020-09-26T14:17:38.639365Z"
    },
    "collapsed": true
   },
   "outputs": [
    {
     "name": "stdout",
     "output_type": "stream",
     "text": [
      "Epoch 1/50\n",
      "7/7 [==============================] - ETA: 0s - loss: 1.5529 - acc: 0.5333\n",
      "Epoch 00001: val_acc improved from -inf to 0.60586, saving model to best_model.h5\n",
      "7/7 [==============================] - 1s 153ms/step - loss: 1.5529 - acc: 0.5333 - val_loss: 1.4617 - val_acc: 0.6059\n",
      "Epoch 2/50\n",
      "7/7 [==============================] - ETA: 0s - loss: 1.3500 - acc: 0.6179\n",
      "Epoch 00002: val_acc did not improve from 0.60586\n",
      "7/7 [==============================] - 0s 40ms/step - loss: 1.3500 - acc: 0.6179 - val_loss: 1.1442 - val_acc: 0.6059\n",
      "Epoch 3/50\n",
      "7/7 [==============================] - ETA: 0s - loss: 1.0016 - acc: 0.6179\n",
      "Epoch 00003: val_acc did not improve from 0.60586\n",
      "7/7 [==============================] - 0s 38ms/step - loss: 1.0016 - acc: 0.6179 - val_loss: 0.9142 - val_acc: 0.6059\n",
      "Epoch 4/50\n",
      "7/7 [==============================] - ETA: 0s - loss: 0.9298 - acc: 0.6179\n",
      "Epoch 00004: val_acc did not improve from 0.60586\n",
      "7/7 [==============================] - 0s 39ms/step - loss: 0.9298 - acc: 0.6179 - val_loss: 0.9027 - val_acc: 0.6059\n",
      "Epoch 5/50\n",
      "7/7 [==============================] - ETA: 0s - loss: 0.8922 - acc: 0.6179\n",
      "Epoch 00005: val_acc did not improve from 0.60586\n",
      "7/7 [==============================] - 0s 37ms/step - loss: 0.8922 - acc: 0.6179 - val_loss: 0.8507 - val_acc: 0.6059\n",
      "Epoch 6/50\n",
      "7/7 [==============================] - ETA: 0s - loss: 0.8661 - acc: 0.6179\n",
      "Epoch 00006: val_acc did not improve from 0.60586\n",
      "7/7 [==============================] - 0s 40ms/step - loss: 0.8661 - acc: 0.6179 - val_loss: 0.8551 - val_acc: 0.6059\n",
      "Epoch 7/50\n",
      "7/7 [==============================] - ETA: 0s - loss: 0.8582 - acc: 0.6179\n",
      "Epoch 00007: val_acc did not improve from 0.60586\n",
      "7/7 [==============================] - 0s 41ms/step - loss: 0.8582 - acc: 0.6179 - val_loss: 0.8355 - val_acc: 0.6059\n",
      "Epoch 8/50\n",
      "7/7 [==============================] - ETA: 0s - loss: 0.8467 - acc: 0.6191\n",
      "Epoch 00008: val_acc improved from 0.60586 to 0.61261, saving model to best_model.h5\n",
      "7/7 [==============================] - 0s 49ms/step - loss: 0.8467 - acc: 0.6191 - val_loss: 0.8275 - val_acc: 0.6126\n",
      "Epoch 9/50\n",
      "7/7 [==============================] - ETA: 0s - loss: 0.8439 - acc: 0.6315\n",
      "Epoch 00009: val_acc improved from 0.61261 to 0.61937, saving model to best_model.h5\n",
      "7/7 [==============================] - 0s 45ms/step - loss: 0.8439 - acc: 0.6315 - val_loss: 0.8247 - val_acc: 0.6194\n",
      "Epoch 10/50\n",
      "7/7 [==============================] - ETA: 0s - loss: 0.8387 - acc: 0.6383\n",
      "Epoch 00010: val_acc improved from 0.61937 to 0.62162, saving model to best_model.h5\n",
      "7/7 [==============================] - 0s 45ms/step - loss: 0.8387 - acc: 0.6383 - val_loss: 0.8211 - val_acc: 0.6216\n",
      "Epoch 11/50\n",
      "7/7 [==============================] - ETA: 0s - loss: 0.8351 - acc: 0.6332\n",
      "Epoch 00011: val_acc did not improve from 0.62162\n",
      "7/7 [==============================] - 0s 39ms/step - loss: 0.8351 - acc: 0.6332 - val_loss: 0.8206 - val_acc: 0.6194\n",
      "Epoch 12/50\n",
      "7/7 [==============================] - ETA: 0s - loss: 0.8338 - acc: 0.6315\n",
      "Epoch 00012: val_acc did not improve from 0.62162\n",
      "7/7 [==============================] - 0s 37ms/step - loss: 0.8338 - acc: 0.6315 - val_loss: 0.8210 - val_acc: 0.6194\n",
      "Epoch 13/50\n",
      "7/7 [==============================] - ETA: 0s - loss: 0.8326 - acc: 0.6321\n",
      "Epoch 00013: val_acc did not improve from 0.62162\n",
      "7/7 [==============================] - 0s 38ms/step - loss: 0.8326 - acc: 0.6321 - val_loss: 0.8191 - val_acc: 0.6126\n",
      "Epoch 14/50\n",
      "7/7 [==============================] - ETA: 0s - loss: 0.8321 - acc: 0.6287\n",
      "Epoch 00014: val_acc did not improve from 0.62162\n",
      "7/7 [==============================] - 0s 38ms/step - loss: 0.8321 - acc: 0.6287 - val_loss: 0.8203 - val_acc: 0.6216\n",
      "Epoch 15/50\n",
      "7/7 [==============================] - ETA: 0s - loss: 0.8293 - acc: 0.6360\n",
      "Epoch 00015: val_acc did not improve from 0.62162\n",
      "7/7 [==============================] - 0s 35ms/step - loss: 0.8293 - acc: 0.6360 - val_loss: 0.8193 - val_acc: 0.6149\n",
      "Epoch 16/50\n",
      "7/7 [==============================] - ETA: 0s - loss: 0.8318 - acc: 0.6337\n",
      "Epoch 00016: val_acc did not improve from 0.62162\n",
      "7/7 [==============================] - 0s 40ms/step - loss: 0.8318 - acc: 0.6337 - val_loss: 0.8203 - val_acc: 0.6216\n",
      "Epoch 17/50\n",
      "7/7 [==============================] - ETA: 0s - loss: 0.8277 - acc: 0.6343\n",
      "Epoch 00017: val_acc did not improve from 0.62162\n",
      "7/7 [==============================] - 0s 39ms/step - loss: 0.8277 - acc: 0.6343 - val_loss: 0.8184 - val_acc: 0.6149\n",
      "Epoch 18/50\n",
      "7/7 [==============================] - ETA: 0s - loss: 0.8286 - acc: 0.6321\n",
      "Epoch 00018: val_acc improved from 0.62162 to 0.62387, saving model to best_model.h5\n",
      "7/7 [==============================] - 0s 46ms/step - loss: 0.8286 - acc: 0.6321 - val_loss: 0.8209 - val_acc: 0.6239\n",
      "Epoch 19/50\n",
      "7/7 [==============================] - ETA: 0s - loss: 0.8282 - acc: 0.6321\n",
      "Epoch 00019: val_acc did not improve from 0.62387\n",
      "7/7 [==============================] - 0s 38ms/step - loss: 0.8282 - acc: 0.6321 - val_loss: 0.8178 - val_acc: 0.6171\n",
      "Epoch 20/50\n",
      "7/7 [==============================] - ETA: 0s - loss: 0.8261 - acc: 0.6371\n",
      "Epoch 00020: val_acc did not improve from 0.62387\n",
      "7/7 [==============================] - 0s 38ms/step - loss: 0.8261 - acc: 0.6371 - val_loss: 0.8191 - val_acc: 0.6216\n",
      "Epoch 21/50\n",
      "7/7 [==============================] - ETA: 0s - loss: 0.8260 - acc: 0.6377\n",
      "Epoch 00021: val_acc did not improve from 0.62387\n",
      "7/7 [==============================] - 0s 40ms/step - loss: 0.8260 - acc: 0.6377 - val_loss: 0.8188 - val_acc: 0.6194\n",
      "Epoch 22/50\n",
      "7/7 [==============================] - ETA: 0s - loss: 0.8256 - acc: 0.6383\n",
      "Epoch 00022: val_acc improved from 0.62387 to 0.63063, saving model to best_model.h5\n",
      "7/7 [==============================] - 0s 45ms/step - loss: 0.8256 - acc: 0.6383 - val_loss: 0.8172 - val_acc: 0.6306\n",
      "Epoch 23/50\n",
      "7/7 [==============================] - ETA: 0s - loss: 0.8263 - acc: 0.6304\n",
      "Epoch 00023: val_acc did not improve from 0.63063\n",
      "7/7 [==============================] - 0s 39ms/step - loss: 0.8263 - acc: 0.6304 - val_loss: 0.8213 - val_acc: 0.6216\n",
      "Epoch 24/50\n",
      "7/7 [==============================] - ETA: 0s - loss: 0.8243 - acc: 0.6354\n",
      "Epoch 00024: val_acc did not improve from 0.63063\n",
      "7/7 [==============================] - 0s 44ms/step - loss: 0.8243 - acc: 0.6354 - val_loss: 0.8164 - val_acc: 0.6306\n",
      "Epoch 25/50\n",
      "7/7 [==============================] - ETA: 0s - loss: 0.8262 - acc: 0.6360\n",
      "Epoch 00025: val_acc did not improve from 0.63063\n",
      "7/7 [==============================] - 0s 37ms/step - loss: 0.8262 - acc: 0.6360 - val_loss: 0.8200 - val_acc: 0.6194\n",
      "Epoch 26/50\n",
      "7/7 [==============================] - ETA: 0s - loss: 0.8248 - acc: 0.6388\n",
      "Epoch 00026: val_acc did not improve from 0.63063\n",
      "7/7 [==============================] - 0s 38ms/step - loss: 0.8248 - acc: 0.6388 - val_loss: 0.8169 - val_acc: 0.6306\n",
      "Epoch 27/50\n",
      "7/7 [==============================] - ETA: 0s - loss: 0.8260 - acc: 0.6326\n",
      "Epoch 00027: val_acc did not improve from 0.63063\n",
      "7/7 [==============================] - 0s 38ms/step - loss: 0.8260 - acc: 0.6326 - val_loss: 0.8207 - val_acc: 0.6216\n",
      "Epoch 28/50\n",
      "7/7 [==============================] - ETA: 0s - loss: 0.8271 - acc: 0.6360\n",
      "Epoch 00028: val_acc did not improve from 0.63063\n",
      "7/7 [==============================] - 0s 37ms/step - loss: 0.8271 - acc: 0.6360 - val_loss: 0.8182 - val_acc: 0.6306\n",
      "Epoch 00028: early stopping\n"
     ]
    }
   ],
   "source": [
    "history = model.fit(X_train, y_train, batch_size=256, epochs=50, callbacks=[es, mc], validation_data=(X_test, y_test))"
   ]
  },
  {
   "cell_type": "code",
   "execution_count": 22,
   "metadata": {
    "ExecuteTime": {
     "end_time": "2020-09-26T14:19:41.323996Z",
     "start_time": "2020-09-26T14:19:40.289630Z"
    }
   },
   "outputs": [
    {
     "name": "stdout",
     "output_type": "stream",
     "text": [
      "14/14 [==============================] - 0s 4ms/step - loss: 0.8172 - acc: 0.6306\n",
      "\n",
      " 테스트 정확도: 0.6306\n"
     ]
    }
   ],
   "source": [
    "loaded_model = load_model('best_model.h5')\n",
    "print(\"\\n 테스트 정확도: %.4f\" % (loaded_model.evaluate(X_test, y_test)[1]))"
   ]
  },
  {
   "cell_type": "code",
   "execution_count": 24,
   "metadata": {
    "ExecuteTime": {
     "end_time": "2020-09-26T14:20:35.295558Z",
     "start_time": "2020-09-26T14:20:34.982612Z"
    }
   },
   "outputs": [
    {
     "data": {
      "image/png": "[encoded data removed]",
      "text/plain": [
       "<Figure size 432x288 with 1 Axes>"
      ]
     },
     "metadata": {
      "image/png": {
       "height": 277,
       "width": 385
      },
      "needs_background": "light"
     },
     "output_type": "display_data"
    }
   ],
   "source": [
    "import matplotlib.pyplot as plt\n",
    "epochs = range(1, len(history.history['acc']) + 1)\n",
    "plt.plot(epochs, history.history['loss'])\n",
    "plt.plot(epochs, history.history['val_loss'])\n",
    "plt.title('model loss')\n",
    "plt.ylabel('loss')\n",
    "plt.xlabel('epoch')\n",
    "plt.legend(['train', 'test'], loc='upper left')\n",
    "plt.show()"
   ]
  },
  {
   "cell_type": "markdown",
   "metadata": {},
   "source": [
    "## 예측 모델링 : 머신러닝"
   ]
  },
  {
   "cell_type": "markdown",
   "metadata": {},
   "source": [
    "- 동일한 파일 전처리를 위해 다시 import 후 전처리"
   ]
  },
  {
   "cell_type": "code",
   "execution_count": 157,
   "metadata": {
    "ExecuteTime": {
     "end_time": "2020-09-27T03:26:52.125141Z",
     "start_time": "2020-09-27T03:26:52.085463Z"
    }
   },
   "outputs": [],
   "source": [
    "food_df = pd.read_csv(\"food_survey.csv\")\n",
    "seoul_df = pd.read_csv(\"seoul_survey 3.csv\")"
   ]
  },
  {
   "cell_type": "code",
   "execution_count": 158,
   "metadata": {
    "ExecuteTime": {
     "end_time": "2020-09-27T03:26:53.282600Z",
     "start_time": "2020-09-27T03:26:53.269865Z"
    }
   },
   "outputs": [],
   "source": [
    "food_df.drop(\"Unnamed: 0\", axis=1, inplace=True)\n",
    "seoul_df.drop(\"Unnamed: 0\", axis=1, inplace=True)"
   ]
  },
  {
   "cell_type": "code",
   "execution_count": 168,
   "metadata": {
    "ExecuteTime": {
     "end_time": "2020-09-27T03:31:15.404771Z",
     "start_time": "2020-09-27T03:31:15.394863Z"
    }
   },
   "outputs": [],
   "source": [
    "food_df.rename(columns=({\"SQ2\":\"gender\", \"K2\":\"adult\", \"K1\":\"juvenile\",\n",
    "                        \"BA2\":\"income\", \"BA3\":\"house\", \"G10\":\"delivery\"}), inplace=True)\n",
    "\n",
    "# 결측치 = 배달을 시켜먹는 사람들의 비율 \n",
    "# 제거 전에 구별로 몇퍼센트의 사람이 배달을 시켜먹는지 먼저 파악\n",
    "food_df = food_df.dropna()"
   ]
  },
  {
   "cell_type": "markdown",
   "metadata": {},
   "source": [
    "- 변수 설명\n",
    "\n",
    "**[ food house ]**\n",
    "    - 1 : 아파트\n",
    "    - 2 : 연립다세대\n",
    "    - 3 : 단독주택\n",
    "    - 4 : 기타\n",
    "   \n",
    "**[ seoul house ]**\n",
    "    - 1 : 단독주택\n",
    "    - 2 : 아파트\n",
    "    - 3 : 다세대주택\n",
    "    - 4 : 연립주택/빌라\n",
    "    - 5 : 기타"
   ]
  },
  {
   "cell_type": "code",
   "execution_count": 171,
   "metadata": {
    "ExecuteTime": {
     "end_time": "2020-09-27T03:31:43.348819Z",
     "start_time": "2020-09-27T03:31:43.325369Z"
    }
   },
   "outputs": [],
   "source": [
    "# 변수 값 같게 변환\n",
    "change_value = {\n",
    "    1 : 3, 2 : 1, 3 : 2, 4 : 3, 5 : 4\n",
    "}\n",
    "seoul_df[\"house\"] = seoul_df[\"house\"].apply(lambda x : change_value[x])"
   ]
  },
  {
   "cell_type": "code",
   "execution_count": 172,
   "metadata": {
    "ExecuteTime": {
     "end_time": "2020-09-27T03:31:44.634573Z",
     "start_time": "2020-09-27T03:31:44.588347Z"
    }
   },
   "outputs": [
    {
     "data": {
      "text/html": [
       "<div>\n",
       "<style scoped>\n",
       "    .dataframe tbody tr th:only-of-type {\n",
       "        vertical-align: middle;\n",
       "    }\n",
       "\n",
       "    .dataframe tbody tr th {\n",
       "        vertical-align: top;\n",
       "    }\n",
       "\n",
       "    .dataframe thead th {\n",
       "        text-align: right;\n",
       "    }\n",
       "</style>\n",
       "<table border=\"1\" class=\"dataframe\">\n",
       "  <thead>\n",
       "    <tr style=\"text-align: right;\">\n",
       "      <th></th>\n",
       "      <th>ID</th>\n",
       "      <th>gender</th>\n",
       "      <th>age</th>\n",
       "      <th>income</th>\n",
       "      <th>house</th>\n",
       "      <th>gu</th>\n",
       "      <th>juvenile</th>\n",
       "      <th>adult</th>\n",
       "      <th>pay</th>\n",
       "    </tr>\n",
       "  </thead>\n",
       "  <tbody>\n",
       "    <tr>\n",
       "      <th>0</th>\n",
       "      <td>529</td>\n",
       "      <td>2</td>\n",
       "      <td>2</td>\n",
       "      <td>550.0</td>\n",
       "      <td>1</td>\n",
       "      <td>140.0</td>\n",
       "      <td>0.0</td>\n",
       "      <td>2.0</td>\n",
       "      <td>4</td>\n",
       "    </tr>\n",
       "    <tr>\n",
       "      <th>1</th>\n",
       "      <td>530</td>\n",
       "      <td>2</td>\n",
       "      <td>2</td>\n",
       "      <td>400.0</td>\n",
       "      <td>1</td>\n",
       "      <td>140.0</td>\n",
       "      <td>0.0</td>\n",
       "      <td>2.0</td>\n",
       "      <td>3</td>\n",
       "    </tr>\n",
       "    <tr>\n",
       "      <th>2</th>\n",
       "      <td>531</td>\n",
       "      <td>3</td>\n",
       "      <td>3</td>\n",
       "      <td>600.0</td>\n",
       "      <td>1</td>\n",
       "      <td>140.0</td>\n",
       "      <td>0.0</td>\n",
       "      <td>3.0</td>\n",
       "      <td>3</td>\n",
       "    </tr>\n",
       "    <tr>\n",
       "      <th>3</th>\n",
       "      <td>532</td>\n",
       "      <td>3</td>\n",
       "      <td>3</td>\n",
       "      <td>650.0</td>\n",
       "      <td>1</td>\n",
       "      <td>140.0</td>\n",
       "      <td>0.0</td>\n",
       "      <td>3.0</td>\n",
       "      <td>3</td>\n",
       "    </tr>\n",
       "    <tr>\n",
       "      <th>4</th>\n",
       "      <td>533</td>\n",
       "      <td>1</td>\n",
       "      <td>1</td>\n",
       "      <td>550.0</td>\n",
       "      <td>1</td>\n",
       "      <td>140.0</td>\n",
       "      <td>0.0</td>\n",
       "      <td>1.0</td>\n",
       "      <td>3</td>\n",
       "    </tr>\n",
       "    <tr>\n",
       "      <th>...</th>\n",
       "      <td>...</td>\n",
       "      <td>...</td>\n",
       "      <td>...</td>\n",
       "      <td>...</td>\n",
       "      <td>...</td>\n",
       "      <td>...</td>\n",
       "      <td>...</td>\n",
       "      <td>...</td>\n",
       "      <td>...</td>\n",
       "    </tr>\n",
       "    <tr>\n",
       "      <th>19995</th>\n",
       "      <td>23845</td>\n",
       "      <td>2</td>\n",
       "      <td>2</td>\n",
       "      <td>100.0</td>\n",
       "      <td>3</td>\n",
       "      <td>530.0</td>\n",
       "      <td>0.0</td>\n",
       "      <td>2.0</td>\n",
       "      <td>1</td>\n",
       "    </tr>\n",
       "    <tr>\n",
       "      <th>19996</th>\n",
       "      <td>23846</td>\n",
       "      <td>3</td>\n",
       "      <td>3</td>\n",
       "      <td>550.0</td>\n",
       "      <td>3</td>\n",
       "      <td>530.0</td>\n",
       "      <td>0.0</td>\n",
       "      <td>3.0</td>\n",
       "      <td>3</td>\n",
       "    </tr>\n",
       "    <tr>\n",
       "      <th>19997</th>\n",
       "      <td>23847</td>\n",
       "      <td>1</td>\n",
       "      <td>1</td>\n",
       "      <td>100.0</td>\n",
       "      <td>3</td>\n",
       "      <td>260.0</td>\n",
       "      <td>0.0</td>\n",
       "      <td>1.0</td>\n",
       "      <td>4</td>\n",
       "    </tr>\n",
       "    <tr>\n",
       "      <th>19998</th>\n",
       "      <td>23848</td>\n",
       "      <td>2</td>\n",
       "      <td>2</td>\n",
       "      <td>450.0</td>\n",
       "      <td>2</td>\n",
       "      <td>305.0</td>\n",
       "      <td>0.0</td>\n",
       "      <td>2.0</td>\n",
       "      <td>3</td>\n",
       "    </tr>\n",
       "    <tr>\n",
       "      <th>19999</th>\n",
       "      <td>23849</td>\n",
       "      <td>2</td>\n",
       "      <td>2</td>\n",
       "      <td>600.0</td>\n",
       "      <td>2</td>\n",
       "      <td>305.0</td>\n",
       "      <td>0.0</td>\n",
       "      <td>2.0</td>\n",
       "      <td>4</td>\n",
       "    </tr>\n",
       "  </tbody>\n",
       "</table>\n",
       "<p>20000 rows × 9 columns</p>\n",
       "</div>"
      ],
      "text/plain": [
       "          ID  gender  age  income  house     gu  juvenile  adult  pay\n",
       "0        529       2    2   550.0      1  140.0       0.0    2.0    4\n",
       "1        530       2    2   400.0      1  140.0       0.0    2.0    3\n",
       "2        531       3    3   600.0      1  140.0       0.0    3.0    3\n",
       "3        532       3    3   650.0      1  140.0       0.0    3.0    3\n",
       "4        533       1    1   550.0      1  140.0       0.0    1.0    3\n",
       "...      ...     ...  ...     ...    ...    ...       ...    ...  ...\n",
       "19995  23845       2    2   100.0      3  530.0       0.0    2.0    1\n",
       "19996  23846       3    3   550.0      3  530.0       0.0    3.0    3\n",
       "19997  23847       1    1   100.0      3  260.0       0.0    1.0    4\n",
       "19998  23848       2    2   450.0      2  305.0       0.0    2.0    3\n",
       "19999  23849       2    2   600.0      2  305.0       0.0    2.0    4\n",
       "\n",
       "[20000 rows x 9 columns]"
      ]
     },
     "execution_count": 172,
     "metadata": {},
     "output_type": "execute_result"
    }
   ],
   "source": [
    "seoul_df.drop(\"WTP\", axis=1, inplace=True)\n",
    "seoul_df"
   ]
  },
  {
   "cell_type": "markdown",
   "metadata": {},
   "source": [
    "## 예측 모델링"
   ]
  },
  {
   "cell_type": "markdown",
   "metadata": {},
   "source": [
    "### 전처리"
   ]
  },
  {
   "cell_type": "code",
   "execution_count": 173,
   "metadata": {
    "ExecuteTime": {
     "end_time": "2020-09-27T03:32:21.023494Z",
     "start_time": "2020-09-27T03:32:21.009369Z"
    }
   },
   "outputs": [],
   "source": [
    "# 8개로 classification 하는 것은 힘들다고 생각\n",
    "# 4가지 카테고리로 나누어보겠다\n",
    "# 바꾼 것을 기준으로 5 이상이면 주 1회이상 배달을 시켜먹는 사람들\n",
    "change_delivery = {\n",
    "    1:1, 2:1, 3:2, 4:2, 5:3, 6:3, 7:4, 8:4\n",
    "}\n",
    "food_df[\"delivery\"] = food_df[\"delivery\"].apply(lambda x : change_delivery[x])"
   ]
  },
  {
   "cell_type": "code",
   "execution_count": 174,
   "metadata": {
    "ExecuteTime": {
     "end_time": "2020-09-27T03:32:24.032539Z",
     "start_time": "2020-09-27T03:32:24.024887Z"
    }
   },
   "outputs": [],
   "source": [
    "# 지역은 예측에 필요 없으므로 제거\n",
    "food_df.drop(\"지역\", axis=1, inplace=True)"
   ]
  },
  {
   "cell_type": "markdown",
   "metadata": {},
   "source": [
    "### Classification 모델 선정\n",
    "-  DecisionTreeClassifier, RandomForestClassifier, GradientBoostingClassifier,\n",
    "    AdaBoostClassifier, XGBClassifier, LGBMClassifier,MultinomialNB\n",
    "- 가장 높은 accuracy을 보이는 알고리즘을 사용해 예측하고자 함"
   ]
  },
  {
   "cell_type": "code",
   "execution_count": 175,
   "metadata": {
    "ExecuteTime": {
     "end_time": "2020-09-27T03:32:26.347784Z",
     "start_time": "2020-09-27T03:32:26.339895Z"
    }
   },
   "outputs": [],
   "source": [
    "# 필요 모듈 import\n",
    "from sklearn.tree import DecisionTreeClassifier\n",
    "from sklearn.ensemble import RandomForestClassifier\n",
    "from sklearn.ensemble import GradientBoostingClassifier\n",
    "from sklearn.ensemble import AdaBoostClassifier\n",
    "from xgboost import XGBClassifier\n",
    "from lightgbm import LGBMClassifier\n",
    "from sklearn.naive_bayes import MultinomialNB\n",
    "\n",
    "from sklearn.model_selection import train_test_split\n",
    "from sklearn.metrics import accuracy_score\n",
    "\n",
    "from sklearn.pipeline import Pipeline\n",
    "\n",
    "import warnings\n",
    "warnings.filterwarnings('ignore')"
   ]
  },
  {
   "cell_type": "code",
   "execution_count": 176,
   "metadata": {
    "ExecuteTime": {
     "end_time": "2020-09-27T03:32:27.918910Z",
     "start_time": "2020-09-27T03:32:27.903824Z"
    }
   },
   "outputs": [],
   "source": [
    "# k-fold (교차 검증 시도)\n",
    "from sklearn.model_selection import KFold\n",
    "kf = KFold(n_splits=20)"
   ]
  },
  {
   "cell_type": "code",
   "execution_count": 177,
   "metadata": {
    "ExecuteTime": {
     "end_time": "2020-09-27T03:32:29.191656Z",
     "start_time": "2020-09-27T03:32:29.183662Z"
    }
   },
   "outputs": [],
   "source": [
    "# 독립변수, 종속변수 데이터 생성\n",
    "food_X = food_df[[\"gender\", \"adult\", \"juvenile\",\"income\",\"house\"]]\n",
    "food_y = food_df[\"delivery\"]"
   ]
  },
  {
   "cell_type": "code",
   "execution_count": 178,
   "metadata": {
    "ExecuteTime": {
     "end_time": "2020-09-27T03:32:30.307489Z",
     "start_time": "2020-09-27T03:32:30.301396Z"
    }
   },
   "outputs": [],
   "source": [
    "# 모델 이용해 acc 예측하는 함수\n",
    "def model_predict_acc(model, X_train, y_train, X_test, y_test):\n",
    "    model.fit(X_train, y_train)\n",
    "    train_pred = model.predict(X_train)\n",
    "    test_pred = model.predict(X_test)\n",
    "    train_acc = accuracy_score(y_train, train_pred)\n",
    "    test_acc = accuracy_score(y_test, test_pred)\n",
    "    \n",
    "    return train_acc, test_acc"
   ]
  },
  {
   "cell_type": "code",
   "execution_count": 179,
   "metadata": {
    "ExecuteTime": {
     "end_time": "2020-09-27T03:33:35.899009Z",
     "start_time": "2020-09-27T03:32:31.543314Z"
    }
   },
   "outputs": [],
   "source": [
    "## pip-line 생성\n",
    "names = [\n",
    "    'decision tree', 'random forest', 'adaboost', 'gradient boost', 'lgbm', 'xgboost', \n",
    "    'naive bayes']\n",
    "    \n",
    "classifiers = [\n",
    "    DecisionTreeClassifier(), RandomForestClassifier(), GradientBoostingClassifier(),\n",
    "    AdaBoostClassifier(), XGBClassifier(), LGBMClassifier(),MultinomialNB() ]\n",
    "\n",
    "columns = []\n",
    "for i in range(1,21):\n",
    "    columns.append('k{}'.format(i))\n",
    "    \n",
    "pipe_acc_k_df = pd.DataFrame(columns=columns)\n",
    "\n",
    "n=0\n",
    "for name, classifier in zip(names, classifiers):\n",
    "    clf_pipe = Pipeline([\n",
    "        ('clf', classifier)\n",
    "    ])\n",
    "    \n",
    "    acc={}\n",
    "    k=1\n",
    "    for train_idx, test_idx in kf.split(food_df):\n",
    "        X_train, X_test = food_X.iloc[train_idx], food_X.iloc[test_idx]\n",
    "        y_train, y_test = food_y.iloc[train_idx], food_y.iloc[test_idx]\n",
    "        train_acc, test_acc = model_predict_acc(clf_pipe, X_train, y_train, X_test, y_test)\n",
    "        acc['k{}'.format(k)] = [train_acc,test_acc] # k1부터 k5까지 키 값으로 딕셔너리 형태 만들어주기\n",
    "        k+=1        \n",
    "        a_df = pd.DataFrame(acc, index=[[names[n], names[n]],['train_acc', 'test_acc']])\n",
    "        \n",
    "    n+=1    \n",
    "    pipe_acc_k_df = pd.concat([pipe_acc_k_df, a_df], axis=0)"
   ]
  },
  {
   "cell_type": "code",
   "execution_count": 180,
   "metadata": {
    "ExecuteTime": {
     "end_time": "2020-09-27T03:33:37.375451Z",
     "start_time": "2020-09-27T03:33:37.366122Z"
    },
    "scrolled": true
   },
   "outputs": [],
   "source": [
    "pipe_acc_k_df[\"mean\"] = pipe_acc_k_df.mean(axis=1)"
   ]
  },
  {
   "cell_type": "code",
   "execution_count": 154,
   "metadata": {
    "ExecuteTime": {
     "end_time": "2020-09-27T03:22:42.858174Z",
     "start_time": "2020-09-27T03:22:42.808462Z"
    }
   },
   "outputs": [
    {
     "data": {
      "text/html": [
       "<div>\n",
       "<style scoped>\n",
       "    .dataframe tbody tr th:only-of-type {\n",
       "        vertical-align: middle;\n",
       "    }\n",
       "\n",
       "    .dataframe tbody tr th {\n",
       "        vertical-align: top;\n",
       "    }\n",
       "\n",
       "    .dataframe thead th {\n",
       "        text-align: right;\n",
       "    }\n",
       "</style>\n",
       "<table border=\"1\" class=\"dataframe\">\n",
       "  <thead>\n",
       "    <tr style=\"text-align: right;\">\n",
       "      <th></th>\n",
       "      <th>k1</th>\n",
       "      <th>k2</th>\n",
       "      <th>k3</th>\n",
       "      <th>k4</th>\n",
       "      <th>k5</th>\n",
       "      <th>k6</th>\n",
       "      <th>k7</th>\n",
       "      <th>k8</th>\n",
       "      <th>k9</th>\n",
       "      <th>k10</th>\n",
       "      <th>...</th>\n",
       "      <th>k12</th>\n",
       "      <th>k13</th>\n",
       "      <th>k14</th>\n",
       "      <th>k15</th>\n",
       "      <th>k16</th>\n",
       "      <th>k17</th>\n",
       "      <th>k18</th>\n",
       "      <th>k19</th>\n",
       "      <th>k20</th>\n",
       "      <th>mean</th>\n",
       "    </tr>\n",
       "  </thead>\n",
       "  <tbody>\n",
       "    <tr>\n",
       "      <th>(decision tree, train_acc)</th>\n",
       "      <td>0.669716</td>\n",
       "      <td>0.670032</td>\n",
       "      <td>0.670662</td>\n",
       "      <td>0.669716</td>\n",
       "      <td>0.670347</td>\n",
       "      <td>0.674448</td>\n",
       "      <td>0.671609</td>\n",
       "      <td>0.671609</td>\n",
       "      <td>0.669085</td>\n",
       "      <td>0.667823</td>\n",
       "      <td>...</td>\n",
       "      <td>0.673502</td>\n",
       "      <td>0.671293</td>\n",
       "      <td>0.670662</td>\n",
       "      <td>0.670032</td>\n",
       "      <td>0.667192</td>\n",
       "      <td>0.667508</td>\n",
       "      <td>0.670136</td>\n",
       "      <td>0.669820</td>\n",
       "      <td>0.669505</td>\n",
       "      <td>0.670173</td>\n",
       "    </tr>\n",
       "    <tr>\n",
       "      <th>(decision tree, test_acc)</th>\n",
       "      <td>0.616766</td>\n",
       "      <td>0.592814</td>\n",
       "      <td>0.604790</td>\n",
       "      <td>0.616766</td>\n",
       "      <td>0.574850</td>\n",
       "      <td>0.532934</td>\n",
       "      <td>0.568862</td>\n",
       "      <td>0.604790</td>\n",
       "      <td>0.604790</td>\n",
       "      <td>0.622754</td>\n",
       "      <td>...</td>\n",
       "      <td>0.550898</td>\n",
       "      <td>0.580838</td>\n",
       "      <td>0.592814</td>\n",
       "      <td>0.628743</td>\n",
       "      <td>0.646707</td>\n",
       "      <td>0.682635</td>\n",
       "      <td>0.620482</td>\n",
       "      <td>0.608434</td>\n",
       "      <td>0.548193</td>\n",
       "      <td>0.600831</td>\n",
       "    </tr>\n",
       "    <tr>\n",
       "      <th>(random forest, train_acc)</th>\n",
       "      <td>0.669716</td>\n",
       "      <td>0.670032</td>\n",
       "      <td>0.670662</td>\n",
       "      <td>0.669716</td>\n",
       "      <td>0.670347</td>\n",
       "      <td>0.674448</td>\n",
       "      <td>0.671609</td>\n",
       "      <td>0.671609</td>\n",
       "      <td>0.669085</td>\n",
       "      <td>0.667823</td>\n",
       "      <td>...</td>\n",
       "      <td>0.673502</td>\n",
       "      <td>0.671293</td>\n",
       "      <td>0.670662</td>\n",
       "      <td>0.670032</td>\n",
       "      <td>0.667192</td>\n",
       "      <td>0.667508</td>\n",
       "      <td>0.670136</td>\n",
       "      <td>0.669820</td>\n",
       "      <td>0.669505</td>\n",
       "      <td>0.670173</td>\n",
       "    </tr>\n",
       "    <tr>\n",
       "      <th>(random forest, test_acc)</th>\n",
       "      <td>0.610778</td>\n",
       "      <td>0.598802</td>\n",
       "      <td>0.580838</td>\n",
       "      <td>0.616766</td>\n",
       "      <td>0.610778</td>\n",
       "      <td>0.538922</td>\n",
       "      <td>0.586826</td>\n",
       "      <td>0.604790</td>\n",
       "      <td>0.628743</td>\n",
       "      <td>0.616766</td>\n",
       "      <td>...</td>\n",
       "      <td>0.544910</td>\n",
       "      <td>0.598802</td>\n",
       "      <td>0.592814</td>\n",
       "      <td>0.580838</td>\n",
       "      <td>0.646707</td>\n",
       "      <td>0.676647</td>\n",
       "      <td>0.614458</td>\n",
       "      <td>0.608434</td>\n",
       "      <td>0.566265</td>\n",
       "      <td>0.602631</td>\n",
       "    </tr>\n",
       "    <tr>\n",
       "      <th>(adaboost, train_acc)</th>\n",
       "      <td>0.649527</td>\n",
       "      <td>0.650789</td>\n",
       "      <td>0.650158</td>\n",
       "      <td>0.649211</td>\n",
       "      <td>0.652050</td>\n",
       "      <td>0.655836</td>\n",
       "      <td>0.655836</td>\n",
       "      <td>0.649527</td>\n",
       "      <td>0.645426</td>\n",
       "      <td>0.647003</td>\n",
       "      <td>...</td>\n",
       "      <td>0.654890</td>\n",
       "      <td>0.648265</td>\n",
       "      <td>0.651735</td>\n",
       "      <td>0.648265</td>\n",
       "      <td>0.648896</td>\n",
       "      <td>0.647003</td>\n",
       "      <td>0.648691</td>\n",
       "      <td>0.651529</td>\n",
       "      <td>0.651529</td>\n",
       "      <td>0.650348</td>\n",
       "    </tr>\n",
       "    <tr>\n",
       "      <th>(adaboost, test_acc)</th>\n",
       "      <td>0.670659</td>\n",
       "      <td>0.604790</td>\n",
       "      <td>0.628743</td>\n",
       "      <td>0.616766</td>\n",
       "      <td>0.598802</td>\n",
       "      <td>0.532934</td>\n",
       "      <td>0.598802</td>\n",
       "      <td>0.616766</td>\n",
       "      <td>0.670659</td>\n",
       "      <td>0.658683</td>\n",
       "      <td>...</td>\n",
       "      <td>0.556886</td>\n",
       "      <td>0.628743</td>\n",
       "      <td>0.622754</td>\n",
       "      <td>0.634731</td>\n",
       "      <td>0.670659</td>\n",
       "      <td>0.700599</td>\n",
       "      <td>0.632530</td>\n",
       "      <td>0.614458</td>\n",
       "      <td>0.602410</td>\n",
       "      <td>0.623608</td>\n",
       "    </tr>\n",
       "    <tr>\n",
       "      <th>(gradient boost, train_acc)</th>\n",
       "      <td>0.634385</td>\n",
       "      <td>0.635647</td>\n",
       "      <td>0.635016</td>\n",
       "      <td>0.636593</td>\n",
       "      <td>0.635647</td>\n",
       "      <td>0.639432</td>\n",
       "      <td>0.638170</td>\n",
       "      <td>0.634385</td>\n",
       "      <td>0.634700</td>\n",
       "      <td>0.635016</td>\n",
       "      <td>...</td>\n",
       "      <td>0.637224</td>\n",
       "      <td>0.635962</td>\n",
       "      <td>0.637224</td>\n",
       "      <td>0.636909</td>\n",
       "      <td>0.632808</td>\n",
       "      <td>0.632177</td>\n",
       "      <td>0.635762</td>\n",
       "      <td>0.635446</td>\n",
       "      <td>0.637969</td>\n",
       "      <td>0.635885</td>\n",
       "    </tr>\n",
       "    <tr>\n",
       "      <th>(gradient boost, test_acc)</th>\n",
       "      <td>0.670659</td>\n",
       "      <td>0.610778</td>\n",
       "      <td>0.634731</td>\n",
       "      <td>0.610778</td>\n",
       "      <td>0.646707</td>\n",
       "      <td>0.550898</td>\n",
       "      <td>0.580838</td>\n",
       "      <td>0.634731</td>\n",
       "      <td>0.652695</td>\n",
       "      <td>0.670659</td>\n",
       "      <td>...</td>\n",
       "      <td>0.556886</td>\n",
       "      <td>0.634731</td>\n",
       "      <td>0.610778</td>\n",
       "      <td>0.628743</td>\n",
       "      <td>0.670659</td>\n",
       "      <td>0.700599</td>\n",
       "      <td>0.632530</td>\n",
       "      <td>0.638554</td>\n",
       "      <td>0.614458</td>\n",
       "      <td>0.628708</td>\n",
       "    </tr>\n",
       "    <tr>\n",
       "      <th>(lgbm, train_acc)</th>\n",
       "      <td>0.665300</td>\n",
       "      <td>0.666877</td>\n",
       "      <td>0.666246</td>\n",
       "      <td>0.666562</td>\n",
       "      <td>0.667508</td>\n",
       "      <td>0.670347</td>\n",
       "      <td>0.666562</td>\n",
       "      <td>0.666246</td>\n",
       "      <td>0.665300</td>\n",
       "      <td>0.664669</td>\n",
       "      <td>...</td>\n",
       "      <td>0.668139</td>\n",
       "      <td>0.664353</td>\n",
       "      <td>0.666246</td>\n",
       "      <td>0.664038</td>\n",
       "      <td>0.662145</td>\n",
       "      <td>0.665300</td>\n",
       "      <td>0.666351</td>\n",
       "      <td>0.666351</td>\n",
       "      <td>0.665405</td>\n",
       "      <td>0.665931</td>\n",
       "    </tr>\n",
       "    <tr>\n",
       "      <th>(lgbm, test_acc)</th>\n",
       "      <td>0.646707</td>\n",
       "      <td>0.616766</td>\n",
       "      <td>0.598802</td>\n",
       "      <td>0.610778</td>\n",
       "      <td>0.592814</td>\n",
       "      <td>0.532934</td>\n",
       "      <td>0.586826</td>\n",
       "      <td>0.604790</td>\n",
       "      <td>0.610778</td>\n",
       "      <td>0.646707</td>\n",
       "      <td>...</td>\n",
       "      <td>0.562874</td>\n",
       "      <td>0.604790</td>\n",
       "      <td>0.604790</td>\n",
       "      <td>0.604790</td>\n",
       "      <td>0.658683</td>\n",
       "      <td>0.682635</td>\n",
       "      <td>0.632530</td>\n",
       "      <td>0.608434</td>\n",
       "      <td>0.554217</td>\n",
       "      <td>0.609520</td>\n",
       "    </tr>\n",
       "    <tr>\n",
       "      <th>(xgboost, train_acc)</th>\n",
       "      <td>0.656782</td>\n",
       "      <td>0.656151</td>\n",
       "      <td>0.658675</td>\n",
       "      <td>0.657413</td>\n",
       "      <td>0.657729</td>\n",
       "      <td>0.660252</td>\n",
       "      <td>0.656151</td>\n",
       "      <td>0.655836</td>\n",
       "      <td>0.653312</td>\n",
       "      <td>0.653943</td>\n",
       "      <td>...</td>\n",
       "      <td>0.660883</td>\n",
       "      <td>0.659937</td>\n",
       "      <td>0.656467</td>\n",
       "      <td>0.657098</td>\n",
       "      <td>0.654259</td>\n",
       "      <td>0.653628</td>\n",
       "      <td>0.655314</td>\n",
       "      <td>0.655314</td>\n",
       "      <td>0.657206</td>\n",
       "      <td>0.656578</td>\n",
       "    </tr>\n",
       "    <tr>\n",
       "      <th>(xgboost, test_acc)</th>\n",
       "      <td>0.628743</td>\n",
       "      <td>0.622754</td>\n",
       "      <td>0.580838</td>\n",
       "      <td>0.622754</td>\n",
       "      <td>0.580838</td>\n",
       "      <td>0.514970</td>\n",
       "      <td>0.586826</td>\n",
       "      <td>0.580838</td>\n",
       "      <td>0.616766</td>\n",
       "      <td>0.652695</td>\n",
       "      <td>...</td>\n",
       "      <td>0.550898</td>\n",
       "      <td>0.616766</td>\n",
       "      <td>0.598802</td>\n",
       "      <td>0.610778</td>\n",
       "      <td>0.664671</td>\n",
       "      <td>0.676647</td>\n",
       "      <td>0.614458</td>\n",
       "      <td>0.590361</td>\n",
       "      <td>0.560241</td>\n",
       "      <td>0.605019</td>\n",
       "    </tr>\n",
       "    <tr>\n",
       "      <th>(naive bayes, train_acc)</th>\n",
       "      <td>0.590536</td>\n",
       "      <td>0.594006</td>\n",
       "      <td>0.593375</td>\n",
       "      <td>0.593060</td>\n",
       "      <td>0.588959</td>\n",
       "      <td>0.588328</td>\n",
       "      <td>0.590536</td>\n",
       "      <td>0.590536</td>\n",
       "      <td>0.591167</td>\n",
       "      <td>0.591483</td>\n",
       "      <td>...</td>\n",
       "      <td>0.594006</td>\n",
       "      <td>0.591798</td>\n",
       "      <td>0.593691</td>\n",
       "      <td>0.596845</td>\n",
       "      <td>0.588644</td>\n",
       "      <td>0.589905</td>\n",
       "      <td>0.589404</td>\n",
       "      <td>0.593504</td>\n",
       "      <td>0.591927</td>\n",
       "      <td>0.591754</td>\n",
       "    </tr>\n",
       "    <tr>\n",
       "      <th>(naive bayes, test_acc)</th>\n",
       "      <td>0.592814</td>\n",
       "      <td>0.520958</td>\n",
       "      <td>0.538922</td>\n",
       "      <td>0.532934</td>\n",
       "      <td>0.628743</td>\n",
       "      <td>0.628743</td>\n",
       "      <td>0.550898</td>\n",
       "      <td>0.586826</td>\n",
       "      <td>0.574850</td>\n",
       "      <td>0.598802</td>\n",
       "      <td>...</td>\n",
       "      <td>0.580838</td>\n",
       "      <td>0.538922</td>\n",
       "      <td>0.544910</td>\n",
       "      <td>0.532934</td>\n",
       "      <td>0.694611</td>\n",
       "      <td>0.670659</td>\n",
       "      <td>0.656627</td>\n",
       "      <td>0.596386</td>\n",
       "      <td>0.650602</td>\n",
       "      <td>0.590989</td>\n",
       "    </tr>\n",
       "  </tbody>\n",
       "</table>\n",
       "<p>14 rows × 21 columns</p>\n",
       "</div>"
      ],
      "text/plain": [
       "                                   k1        k2        k3        k4        k5  \\\n",
       "(decision tree, train_acc)   0.669716  0.670032  0.670662  0.669716  0.670347   \n",
       "(decision tree, test_acc)    0.616766  0.592814  0.604790  0.616766  0.574850   \n",
       "(random forest, train_acc)   0.669716  0.670032  0.670662  0.669716  0.670347   \n",
       "(random forest, test_acc)    0.610778  0.598802  0.580838  0.616766  0.610778   \n",
       "(adaboost, train_acc)        0.649527  0.650789  0.650158  0.649211  0.652050   \n",
       "(adaboost, test_acc)         0.670659  0.604790  0.628743  0.616766  0.598802   \n",
       "(gradient boost, train_acc)  0.634385  0.635647  0.635016  0.636593  0.635647   \n",
       "(gradient boost, test_acc)   0.670659  0.610778  0.634731  0.610778  0.646707   \n",
       "(lgbm, train_acc)            0.665300  0.666877  0.666246  0.666562  0.667508   \n",
       "(lgbm, test_acc)             0.646707  0.616766  0.598802  0.610778  0.592814   \n",
       "(xgboost, train_acc)         0.656782  0.656151  0.658675  0.657413  0.657729   \n",
       "(xgboost, test_acc)          0.628743  0.622754  0.580838  0.622754  0.580838   \n",
       "(naive bayes, train_acc)     0.590536  0.594006  0.593375  0.593060  0.588959   \n",
       "(naive bayes, test_acc)      0.592814  0.520958  0.538922  0.532934  0.628743   \n",
       "\n",
       "                                   k6        k7        k8        k9       k10  \\\n",
       "(decision tree, train_acc)   0.674448  0.671609  0.671609  0.669085  0.667823   \n",
       "(decision tree, test_acc)    0.532934  0.568862  0.604790  0.604790  0.622754   \n",
       "(random forest, train_acc)   0.674448  0.671609  0.671609  0.669085  0.667823   \n",
       "(random forest, test_acc)    0.538922  0.586826  0.604790  0.628743  0.616766   \n",
       "(adaboost, train_acc)        0.655836  0.655836  0.649527  0.645426  0.647003   \n",
       "(adaboost, test_acc)         0.532934  0.598802  0.616766  0.670659  0.658683   \n",
       "(gradient boost, train_acc)  0.639432  0.638170  0.634385  0.634700  0.635016   \n",
       "(gradient boost, test_acc)   0.550898  0.580838  0.634731  0.652695  0.670659   \n",
       "(lgbm, train_acc)            0.670347  0.666562  0.666246  0.665300  0.664669   \n",
       "(lgbm, test_acc)             0.532934  0.586826  0.604790  0.610778  0.646707   \n",
       "(xgboost, train_acc)         0.660252  0.656151  0.655836  0.653312  0.653943   \n",
       "(xgboost, test_acc)          0.514970  0.586826  0.580838  0.616766  0.652695   \n",
       "(naive bayes, train_acc)     0.588328  0.590536  0.590536  0.591167  0.591483   \n",
       "(naive bayes, test_acc)      0.628743  0.550898  0.586826  0.574850  0.598802   \n",
       "\n",
       "                             ...       k12       k13       k14       k15  \\\n",
       "(decision tree, train_acc)   ...  0.673502  0.671293  0.670662  0.670032   \n",
       "(decision tree, test_acc)    ...  0.550898  0.580838  0.592814  0.628743   \n",
       "(random forest, train_acc)   ...  0.673502  0.671293  0.670662  0.670032   \n",
       "(random forest, test_acc)    ...  0.544910  0.598802  0.592814  0.580838   \n",
       "(adaboost, train_acc)        ...  0.654890  0.648265  0.651735  0.648265   \n",
       "(adaboost, test_acc)         ...  0.556886  0.628743  0.622754  0.634731   \n",
       "(gradient boost, train_acc)  ...  0.637224  0.635962  0.637224  0.636909   \n",
       "(gradient boost, test_acc)   ...  0.556886  0.634731  0.610778  0.628743   \n",
       "(lgbm, train_acc)            ...  0.668139  0.664353  0.666246  0.664038   \n",
       "(lgbm, test_acc)             ...  0.562874  0.604790  0.604790  0.604790   \n",
       "(xgboost, train_acc)         ...  0.660883  0.659937  0.656467  0.657098   \n",
       "(xgboost, test_acc)          ...  0.550898  0.616766  0.598802  0.610778   \n",
       "(naive bayes, train_acc)     ...  0.594006  0.591798  0.593691  0.596845   \n",
       "(naive bayes, test_acc)      ...  0.580838  0.538922  0.544910  0.532934   \n",
       "\n",
       "                                  k16       k17       k18       k19       k20  \\\n",
       "(decision tree, train_acc)   0.667192  0.667508  0.670136  0.669820  0.669505   \n",
       "(decision tree, test_acc)    0.646707  0.682635  0.620482  0.608434  0.548193   \n",
       "(random forest, train_acc)   0.667192  0.667508  0.670136  0.669820  0.669505   \n",
       "(random forest, test_acc)    0.646707  0.676647  0.614458  0.608434  0.566265   \n",
       "(adaboost, train_acc)        0.648896  0.647003  0.648691  0.651529  0.651529   \n",
       "(adaboost, test_acc)         0.670659  0.700599  0.632530  0.614458  0.602410   \n",
       "(gradient boost, train_acc)  0.632808  0.632177  0.635762  0.635446  0.637969   \n",
       "(gradient boost, test_acc)   0.670659  0.700599  0.632530  0.638554  0.614458   \n",
       "(lgbm, train_acc)            0.662145  0.665300  0.666351  0.666351  0.665405   \n",
       "(lgbm, test_acc)             0.658683  0.682635  0.632530  0.608434  0.554217   \n",
       "(xgboost, train_acc)         0.654259  0.653628  0.655314  0.655314  0.657206   \n",
       "(xgboost, test_acc)          0.664671  0.676647  0.614458  0.590361  0.560241   \n",
       "(naive bayes, train_acc)     0.588644  0.589905  0.589404  0.593504  0.591927   \n",
       "(naive bayes, test_acc)      0.694611  0.670659  0.656627  0.596386  0.650602   \n",
       "\n",
       "                                 mean  \n",
       "(decision tree, train_acc)   0.670173  \n",
       "(decision tree, test_acc)    0.600831  \n",
       "(random forest, train_acc)   0.670173  \n",
       "(random forest, test_acc)    0.602631  \n",
       "(adaboost, train_acc)        0.650348  \n",
       "(adaboost, test_acc)         0.623608  \n",
       "(gradient boost, train_acc)  0.635885  \n",
       "(gradient boost, test_acc)   0.628708  \n",
       "(lgbm, train_acc)            0.665931  \n",
       "(lgbm, test_acc)             0.609520  \n",
       "(xgboost, train_acc)         0.656578  \n",
       "(xgboost, test_acc)          0.605019  \n",
       "(naive bayes, train_acc)     0.591754  \n",
       "(naive bayes, test_acc)      0.590989  \n",
       "\n",
       "[14 rows x 21 columns]"
      ]
     },
     "execution_count": 154,
     "metadata": {},
     "output_type": "execute_result"
    }
   ],
   "source": [
    "pipe_acc_k_df"
   ]
  },
  {
   "cell_type": "code",
   "execution_count": 181,
   "metadata": {
    "ExecuteTime": {
     "end_time": "2020-09-27T03:33:38.752662Z",
     "start_time": "2020-09-27T03:33:38.734504Z"
    }
   },
   "outputs": [],
   "source": [
    "pipe_acc_k_df.loc[\"(Sequential, test_acc)\", \"mean\"] = 0.6306"
   ]
  },
  {
   "cell_type": "code",
   "execution_count": 182,
   "metadata": {
    "ExecuteTime": {
     "end_time": "2020-09-27T03:33:40.278100Z",
     "start_time": "2020-09-27T03:33:40.229821Z"
    }
   },
   "outputs": [
    {
     "data": {
      "text/html": [
       "<div>\n",
       "<style scoped>\n",
       "    .dataframe tbody tr th:only-of-type {\n",
       "        vertical-align: middle;\n",
       "    }\n",
       "\n",
       "    .dataframe tbody tr th {\n",
       "        vertical-align: top;\n",
       "    }\n",
       "\n",
       "    .dataframe thead th {\n",
       "        text-align: right;\n",
       "    }\n",
       "</style>\n",
       "<table border=\"1\" class=\"dataframe\">\n",
       "  <thead>\n",
       "    <tr style=\"text-align: right;\">\n",
       "      <th></th>\n",
       "      <th>mean</th>\n",
       "    </tr>\n",
       "  </thead>\n",
       "  <tbody>\n",
       "    <tr>\n",
       "      <th>(gradient boost, test_acc)</th>\n",
       "      <td>0.633440</td>\n",
       "    </tr>\n",
       "    <tr>\n",
       "      <th>(Sequential, test_acc)</th>\n",
       "      <td>0.630600</td>\n",
       "    </tr>\n",
       "    <tr>\n",
       "      <th>(adaboost, test_acc)</th>\n",
       "      <td>0.630287</td>\n",
       "    </tr>\n",
       "    <tr>\n",
       "      <th>(xgboost, test_acc)</th>\n",
       "      <td>0.619480</td>\n",
       "    </tr>\n",
       "    <tr>\n",
       "      <th>(naive bayes, test_acc)</th>\n",
       "      <td>0.615410</td>\n",
       "    </tr>\n",
       "    <tr>\n",
       "      <th>(lgbm, test_acc)</th>\n",
       "      <td>0.614513</td>\n",
       "    </tr>\n",
       "    <tr>\n",
       "      <th>(random forest, test_acc)</th>\n",
       "      <td>0.606851</td>\n",
       "    </tr>\n",
       "    <tr>\n",
       "      <th>(decision tree, test_acc)</th>\n",
       "      <td>0.589255</td>\n",
       "    </tr>\n",
       "  </tbody>\n",
       "</table>\n",
       "</div>"
      ],
      "text/plain": [
       "                                mean\n",
       "(gradient boost, test_acc)  0.633440\n",
       "(Sequential, test_acc)      0.630600\n",
       "(adaboost, test_acc)        0.630287\n",
       "(xgboost, test_acc)         0.619480\n",
       "(naive bayes, test_acc)     0.615410\n",
       "(lgbm, test_acc)            0.614513\n",
       "(random forest, test_acc)   0.606851\n",
       "(decision tree, test_acc)   0.589255"
      ]
     },
     "execution_count": 182,
     "metadata": {},
     "output_type": "execute_result"
    }
   ],
   "source": [
    "# test의 mean만 뽑아내기\n",
    "test = list(range(1,14,2))\n",
    "test.append(14)\n",
    "\n",
    "pd.DataFrame(pipe_acc_k_df.iloc[test, 20]).sort_values(by=\"mean\",\n",
    "                                                       ascending=False)"
   ]
  },
  {
   "cell_type": "markdown",
   "metadata": {},
   "source": [
    "**=> test에 적용 결과 성능이 가장 좋게 나온 모델은 gradient boost**\n",
    "\n",
    "이에 대한 하이퍼 파라미터 튜닝을 통해 accuracy를 높이도록"
   ]
  },
  {
   "cell_type": "markdown",
   "metadata": {},
   "source": [
    "### 선정 모델 하이퍼 파라미터 튜닝"
   ]
  },
  {
   "cell_type": "code",
   "execution_count": 183,
   "metadata": {
    "ExecuteTime": {
     "end_time": "2020-09-27T03:48:52.591867Z",
     "start_time": "2020-09-27T03:34:09.625561Z"
    }
   },
   "outputs": [
    {
     "name": "stdout",
     "output_type": "stream",
     "text": [
      "Fitting 5 folds for each of 180 candidates, totalling 900 fits\n"
     ]
    },
    {
     "name": "stderr",
     "output_type": "stream",
     "text": [
      "[Parallel(n_jobs=-1)]: Using backend LokyBackend with 4 concurrent workers.\n",
      "[Parallel(n_jobs=-1)]: Done  33 tasks      | elapsed:   38.3s\n",
      "[Parallel(n_jobs=-1)]: Done 154 tasks      | elapsed:  3.0min\n",
      "[Parallel(n_jobs=-1)]: Done 357 tasks      | elapsed:  6.9min\n",
      "[Parallel(n_jobs=-1)]: Done 640 tasks      | elapsed: 11.1min\n",
      "[Parallel(n_jobs=-1)]: Done 900 out of 900 | elapsed: 14.7min finished\n"
     ]
    }
   ],
   "source": [
    "from sklearn.model_selection import GridSearchCV\n",
    "grid_search_df = pd.DataFrame()         \n",
    "gs_cv = GridSearchCV(GradientBoostingClassifier(), \n",
    "                     {'n_estimators' : list(range(50,500,50)),'learning_rate' : np.linspace(0.05, 0.6, 20)},\n",
    "                     verbose=2, refit=False, n_jobs=-1, cv=KFold())\n",
    "gs = gs_cv.fit(X_train, y_train)\n",
    "grid_dict = {}\n",
    "\n",
    "for m in range(len(list(gs.best_params_.keys()))):\n",
    "            grid_dict[list(gs.best_params_.keys())[m]] = list(gs.best_params_.values())[m]\n",
    "grid_dict[\"best score\"] = gs.best_score_"
   ]
  },
  {
   "cell_type": "code",
   "execution_count": 184,
   "metadata": {
    "ExecuteTime": {
     "end_time": "2020-09-27T03:48:53.502422Z",
     "start_time": "2020-09-27T03:48:53.496621Z"
    }
   },
   "outputs": [
    {
     "data": {
      "text/plain": [
       "{'learning_rate': 0.05, 'n_estimators': 50, 'best score': 0.6376760365187829}"
      ]
     },
     "execution_count": 184,
     "metadata": {},
     "output_type": "execute_result"
    }
   ],
   "source": [
    "# gradient boost의 best parameters\n",
    "grid_dict"
   ]
  },
  {
   "cell_type": "code",
   "execution_count": 185,
   "metadata": {
    "ExecuteTime": {
     "end_time": "2020-09-27T03:49:01.346710Z",
     "start_time": "2020-09-27T03:48:54.333435Z"
    }
   },
   "outputs": [],
   "source": [
    "# 하이퍼 파라미터 튜닝 후 accuracy 검증\n",
    "names = ['gradient boost']\n",
    "    \n",
    "classifiers = [GradientBoostingClassifier(learning_rate = 0.05, n_estimators = 50)]\n",
    "\n",
    "columns = []\n",
    "for i in range(1,51):\n",
    "    columns.append('k{}'.format(i))\n",
    "    \n",
    "pipe_acc_k_df = pd.DataFrame(columns=columns)\n",
    "\n",
    "n=0\n",
    "for name, classifier in zip(names, classifiers):\n",
    "    clf_pipe = Pipeline([\n",
    "        ('clf', classifier)\n",
    "    ])\n",
    "    \n",
    "    acc={}\n",
    "    k=1\n",
    "    for train_idx, test_idx in kf.split(food_df):\n",
    "        X_train, X_test = food_X.iloc[train_idx], food_X.iloc[test_idx]\n",
    "        y_train, y_test = food_y.iloc[train_idx], food_y.iloc[test_idx]\n",
    "        train_acc, test_acc = model_predict_acc(clf_pipe, X_train, y_train, X_test, y_test)\n",
    "        acc['k{}'.format(k)] = [train_acc,test_acc] # k1부터 k5까지 키 값으로 딕셔너리 형태 만들어주기\n",
    "        k+=1        \n",
    "        a_df = pd.DataFrame(acc, index=[[names[n], names[n]],['train_acc', 'test_acc']])\n",
    "        \n",
    "    n+=1    \n",
    "    pipe_acc_k_df = pd.concat([pipe_acc_k_df, a_df], axis=0)"
   ]
  },
  {
   "cell_type": "code",
   "execution_count": 186,
   "metadata": {
    "ExecuteTime": {
     "end_time": "2020-09-27T03:49:02.091061Z",
     "start_time": "2020-09-27T03:49:02.082517Z"
    }
   },
   "outputs": [
    {
     "data": {
      "text/plain": [
       "(gradient boost, train_acc)    0.651292\n",
       "(gradient boost, test_acc)     0.642023\n",
       "dtype: float64"
      ]
     },
     "execution_count": 186,
     "metadata": {},
     "output_type": "execute_result"
    }
   ],
   "source": [
    "pipe_acc_k_df.mean(axis=1)"
   ]
  },
  {
   "cell_type": "markdown",
   "metadata": {},
   "source": [
    "**=>gradient boost의 test accuracy : 0.641162**\n",
    "\n",
    "근소한 차이지만 성능 향상"
   ]
  },
  {
   "cell_type": "markdown",
   "metadata": {},
   "source": [
    "## 모델링 적용 및 예측"
   ]
  },
  {
   "cell_type": "code",
   "execution_count": 188,
   "metadata": {
    "ExecuteTime": {
     "end_time": "2020-09-27T04:19:04.059917Z",
     "start_time": "2020-09-27T04:19:04.053966Z"
    }
   },
   "outputs": [],
   "source": [
    "# 모델링 되어있는 것과 scale을 맞춰주기 위함\n",
    "seoul_df[\"income\"] = seoul_df[\"income\"]/100"
   ]
  },
  {
   "cell_type": "code",
   "execution_count": 189,
   "metadata": {
    "ExecuteTime": {
     "end_time": "2020-09-27T04:19:05.365153Z",
     "start_time": "2020-09-27T04:19:05.349141Z"
    }
   },
   "outputs": [],
   "source": [
    "# gu는 카테고리 \n",
    "seoul_df[\"gu\"] = seoul_df[\"gu\"].astype(\"category\")"
   ]
  },
  {
   "cell_type": "code",
   "execution_count": 190,
   "metadata": {
    "ExecuteTime": {
     "end_time": "2020-09-27T04:19:06.576420Z",
     "start_time": "2020-09-27T04:19:06.570902Z"
    }
   },
   "outputs": [],
   "source": [
    "# 예측을 위한 독립변수 추출\n",
    "seoul_X = seoul_df[[\"gender\", \"income\", \"house\", \"juvenile\", \"adult\"]]"
   ]
  },
  {
   "cell_type": "code",
   "execution_count": 191,
   "metadata": {
    "ExecuteTime": {
     "end_time": "2020-09-27T04:22:46.357727Z",
     "start_time": "2020-09-27T04:22:45.935311Z"
    }
   },
   "outputs": [],
   "source": [
    "gb = GradientBoostingClassifier(learning_rate = 0.05, n_estimators = 50)\n",
    "gb.fit(food_X, food_y)\n",
    "gb_pred = gb.predict(seoul_X)"
   ]
  },
  {
   "cell_type": "code",
   "execution_count": 192,
   "metadata": {
    "ExecuteTime": {
     "end_time": "2020-09-27T04:22:47.718833Z",
     "start_time": "2020-09-27T04:22:47.712728Z"
    }
   },
   "outputs": [],
   "source": [
    "seoul_df[\"delivery\"] = gb_pred"
   ]
  },
  {
   "cell_type": "code",
   "execution_count": 207,
   "metadata": {
    "ExecuteTime": {
     "end_time": "2020-09-26T10:59:31.173532Z",
     "start_time": "2020-09-26T10:59:31.162313Z"
    }
   },
   "outputs": [
    {
     "data": {
      "text/plain": [
       "3    15675\n",
       "2     3518\n",
       "4      807\n",
       "Name: delivery, dtype: int64"
      ]
     },
     "execution_count": 207,
     "metadata": {},
     "output_type": "execute_result"
    }
   ],
   "source": [
    "seoul_df.delivery.value_counts()"
   ]
  },
  {
   "cell_type": "markdown",
   "metadata": {},
   "source": [
    "## 시범사업 지역 선정\n",
    "- pay가 4 이상인 가구 중 (환경부담금 지출 의사가 있는 가구) delivery가 3 이상 (배달을 주 1회 이상 시켜먹는 가구) 비율이 가장 높은 구를 시범사업 지역"
   ]
  },
  {
   "cell_type": "code",
   "execution_count": 193,
   "metadata": {
    "ExecuteTime": {
     "end_time": "2020-09-27T04:22:49.183129Z",
     "start_time": "2020-09-27T04:22:49.163426Z"
    }
   },
   "outputs": [],
   "source": [
    "payndelivery = seoul_df[seoul_df.pay >= 4]\n",
    "payndelivery = payndelivery[seoul_df.delivery >= 3]"
   ]
  },
  {
   "cell_type": "code",
   "execution_count": 194,
   "metadata": {
    "ExecuteTime": {
     "end_time": "2020-09-27T04:22:50.546091Z",
     "start_time": "2020-09-27T04:22:50.538333Z"
    }
   },
   "outputs": [],
   "source": [
    "gu_paydelivery = payndelivery.groupby(\"gu\").size()"
   ]
  },
  {
   "cell_type": "code",
   "execution_count": 195,
   "metadata": {
    "ExecuteTime": {
     "end_time": "2020-09-27T04:22:51.952532Z",
     "start_time": "2020-09-27T04:22:51.936503Z"
    }
   },
   "outputs": [],
   "source": [
    "gu_choice = pd.DataFrame(payndelivery.groupby(\"gu\").size() / seoul_df.groupby(\"gu\").size() *100,\n",
    "             index=gu_paydelivery.index)"
   ]
  },
  {
   "cell_type": "code",
   "execution_count": 196,
   "metadata": {
    "ExecuteTime": {
     "end_time": "2020-09-27T04:22:53.220137Z",
     "start_time": "2020-09-27T04:22:53.213268Z"
    }
   },
   "outputs": [],
   "source": [
    "gu_choice.reset_index(inplace=True)"
   ]
  },
  {
   "cell_type": "markdown",
   "metadata": {},
   "source": [
    "**구별 다회용기 구독 시스템 잠재 고객 수 분석을 위해 서울시 가구 수 데이터 로드**\n",
    "\n",
    "출처 : 서울 정보소통광장 (2020.05)"
   ]
  },
  {
   "cell_type": "code",
   "execution_count": 197,
   "metadata": {
    "ExecuteTime": {
     "end_time": "2020-09-27T04:22:55.993155Z",
     "start_time": "2020-09-27T04:22:55.975671Z"
    }
   },
   "outputs": [],
   "source": [
    "# 구별 코드를 이름으로 변경\n",
    "mygu = {110:'종로구', 140:'중구', 170:'용산구', 200:'성동구', 215:'광진구', 230:'동대문구', 260:'중랑구',\n",
    "        290:'성북구', 305:'강북구', 320:'도봉구', 350:'노원구', 380:'은평구', 410:'서대문구', 440:'마포구',\n",
    "        470:'양천구', 500:'강서구', 530:'구로구', 545:'금천구', 560:'영등포구', 590:'동작구', 620:'관악구',\n",
    "        650:'서초구', 680:'강남구', 710:'송파구', 740:'강동구'}\n",
    "\n",
    "gu_choice[\"gu\"] = gu_choice[\"gu\"].apply(lambda x : mygu[x])"
   ]
  },
  {
   "cell_type": "code",
   "execution_count": 203,
   "metadata": {
    "ExecuteTime": {
     "end_time": "2020-09-27T04:27:33.928769Z",
     "start_time": "2020-09-27T04:27:33.913645Z"
    }
   },
   "outputs": [
    {
     "data": {
      "text/html": [
       "<div>\n",
       "<style scoped>\n",
       "    .dataframe tbody tr th:only-of-type {\n",
       "        vertical-align: middle;\n",
       "    }\n",
       "\n",
       "    .dataframe tbody tr th {\n",
       "        vertical-align: top;\n",
       "    }\n",
       "\n",
       "    .dataframe thead th {\n",
       "        text-align: right;\n",
       "    }\n",
       "</style>\n",
       "<table border=\"1\" class=\"dataframe\">\n",
       "  <thead>\n",
       "    <tr style=\"text-align: right;\">\n",
       "      <th></th>\n",
       "      <th>gu</th>\n",
       "      <th>0</th>\n",
       "    </tr>\n",
       "  </thead>\n",
       "  <tbody>\n",
       "    <tr>\n",
       "      <th>13</th>\n",
       "      <td>마포구</td>\n",
       "      <td>40.517241</td>\n",
       "    </tr>\n",
       "    <tr>\n",
       "      <th>21</th>\n",
       "      <td>서초구</td>\n",
       "      <td>39.926740</td>\n",
       "    </tr>\n",
       "    <tr>\n",
       "      <th>6</th>\n",
       "      <td>중랑구</td>\n",
       "      <td>37.200957</td>\n",
       "    </tr>\n",
       "    <tr>\n",
       "      <th>1</th>\n",
       "      <td>중구</td>\n",
       "      <td>35.625000</td>\n",
       "    </tr>\n",
       "    <tr>\n",
       "      <th>10</th>\n",
       "      <td>노원구</td>\n",
       "      <td>35.287731</td>\n",
       "    </tr>\n",
       "    <tr>\n",
       "      <th>18</th>\n",
       "      <td>영등포구</td>\n",
       "      <td>34.076828</td>\n",
       "    </tr>\n",
       "    <tr>\n",
       "      <th>14</th>\n",
       "      <td>양천구</td>\n",
       "      <td>32.971014</td>\n",
       "    </tr>\n",
       "    <tr>\n",
       "      <th>22</th>\n",
       "      <td>강남구</td>\n",
       "      <td>32.622601</td>\n",
       "    </tr>\n",
       "    <tr>\n",
       "      <th>23</th>\n",
       "      <td>송파구</td>\n",
       "      <td>31.902439</td>\n",
       "    </tr>\n",
       "    <tr>\n",
       "      <th>9</th>\n",
       "      <td>도봉구</td>\n",
       "      <td>30.191257</td>\n",
       "    </tr>\n",
       "    <tr>\n",
       "      <th>16</th>\n",
       "      <td>구로구</td>\n",
       "      <td>29.963459</td>\n",
       "    </tr>\n",
       "    <tr>\n",
       "      <th>20</th>\n",
       "      <td>관악구</td>\n",
       "      <td>27.470356</td>\n",
       "    </tr>\n",
       "    <tr>\n",
       "      <th>17</th>\n",
       "      <td>금천구</td>\n",
       "      <td>26.989080</td>\n",
       "    </tr>\n",
       "    <tr>\n",
       "      <th>4</th>\n",
       "      <td>광진구</td>\n",
       "      <td>26.641414</td>\n",
       "    </tr>\n",
       "    <tr>\n",
       "      <th>7</th>\n",
       "      <td>성북구</td>\n",
       "      <td>25.886525</td>\n",
       "    </tr>\n",
       "    <tr>\n",
       "      <th>24</th>\n",
       "      <td>강동구</td>\n",
       "      <td>25.690276</td>\n",
       "    </tr>\n",
       "    <tr>\n",
       "      <th>2</th>\n",
       "      <td>용산구</td>\n",
       "      <td>25.515055</td>\n",
       "    </tr>\n",
       "    <tr>\n",
       "      <th>3</th>\n",
       "      <td>성동구</td>\n",
       "      <td>25.447043</td>\n",
       "    </tr>\n",
       "    <tr>\n",
       "      <th>12</th>\n",
       "      <td>서대문구</td>\n",
       "      <td>24.515235</td>\n",
       "    </tr>\n",
       "    <tr>\n",
       "      <th>11</th>\n",
       "      <td>은평구</td>\n",
       "      <td>23.681257</td>\n",
       "    </tr>\n",
       "    <tr>\n",
       "      <th>8</th>\n",
       "      <td>강북구</td>\n",
       "      <td>22.611036</td>\n",
       "    </tr>\n",
       "    <tr>\n",
       "      <th>5</th>\n",
       "      <td>동대문구</td>\n",
       "      <td>19.670051</td>\n",
       "    </tr>\n",
       "    <tr>\n",
       "      <th>0</th>\n",
       "      <td>종로구</td>\n",
       "      <td>15.719697</td>\n",
       "    </tr>\n",
       "    <tr>\n",
       "      <th>15</th>\n",
       "      <td>강서구</td>\n",
       "      <td>15.109344</td>\n",
       "    </tr>\n",
       "    <tr>\n",
       "      <th>19</th>\n",
       "      <td>동작구</td>\n",
       "      <td>9.866017</td>\n",
       "    </tr>\n",
       "  </tbody>\n",
       "</table>\n",
       "</div>"
      ],
      "text/plain": [
       "      gu          0\n",
       "13   마포구  40.517241\n",
       "21   서초구  39.926740\n",
       "6    중랑구  37.200957\n",
       "1     중구  35.625000\n",
       "10   노원구  35.287731\n",
       "18  영등포구  34.076828\n",
       "14   양천구  32.971014\n",
       "22   강남구  32.622601\n",
       "23   송파구  31.902439\n",
       "9    도봉구  30.191257\n",
       "16   구로구  29.963459\n",
       "20   관악구  27.470356\n",
       "17   금천구  26.989080\n",
       "4    광진구  26.641414\n",
       "7    성북구  25.886525\n",
       "24   강동구  25.690276\n",
       "2    용산구  25.515055\n",
       "3    성동구  25.447043\n",
       "12  서대문구  24.515235\n",
       "11   은평구  23.681257\n",
       "8    강북구  22.611036\n",
       "5   동대문구  19.670051\n",
       "0    종로구  15.719697\n",
       "15   강서구  15.109344\n",
       "19   동작구   9.866017"
      ]
     },
     "execution_count": 203,
     "metadata": {},
     "output_type": "execute_result"
    }
   ],
   "source": [
    "pilot_gu = gu_choice.sort_values(0, ascending=False)\n",
    "pilot_gu"
   ]
  },
  {
   "cell_type": "markdown",
   "metadata": {},
   "source": [
    "- 마포구, 서초구가 가장 높은 것으로 예측\n",
    "- 이후 시각화 진행"
   ]
  },
  {
   "cell_type": "code",
   "execution_count": 204,
   "metadata": {
    "ExecuteTime": {
     "end_time": "2020-09-27T04:27:46.781345Z",
     "start_time": "2020-09-27T04:27:46.765795Z"
    }
   },
   "outputs": [],
   "source": [
    "# 파일 저장\n",
    "pilot_gu.to_csv(\"pilot_gu.csv\")"
   ]
  }
 ],
 "metadata": {
  "kernelspec": {
   "display_name": "Python 3",
   "language": "python",
   "name": "python3"
  },
  "language_info": {
   "codemirror_mode": {
    "name": "ipython",
    "version": 3
   },
   "file_extension": ".py",
   "mimetype": "text/x-python",
   "name": "python",
   "nbconvert_exporter": "python",
   "pygments_lexer": "ipython3",
   "version": "3.7.6"
  },
  "toc": {
   "base_numbering": 1,
   "nav_menu": {},
   "number_sections": true,
   "sideBar": true,
   "skip_h1_title": true,
   "title_cell": "Table of Contents",
   "title_sidebar": "Contents",
   "toc_cell": false,
   "toc_position": {
    "height": "calc(100% - 180px)",
    "left": "10px",
    "top": "150px",
    "width": "165px"
   },
   "toc_section_display": true,
   "toc_window_display": true
  },
  "varInspector": {
   "cols": {
    "lenName": 16,
    "lenType": 16,
    "lenVar": 40
   },
   "kernels_config": {
    "python": {
     "delete_cmd_postfix": "",
     "delete_cmd_prefix": "del ",
     "library": "var_list.py",
     "varRefreshCmd": "print(var_dic_list())"
    },
    "r": {
     "delete_cmd_postfix": ") ",
     "delete_cmd_prefix": "rm(",
     "library": "var_list.r",
     "varRefreshCmd": "cat(var_dic_list()) "
    }
   },
   "types_to_exclude": [
    "module",
    "function",
    "builtin_function_or_method",
    "instance",
    "_Feature"
   ],
   "window_display": false
  }
 },
 "nbformat": 4,
 "nbformat_minor": 4
}
