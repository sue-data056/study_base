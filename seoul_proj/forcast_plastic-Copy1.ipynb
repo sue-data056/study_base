{
 "cells": [
  {
   "cell_type": "markdown",
   "metadata": {},
   "source": [
    "# 플라스틱 증가 예측 모델링"
   ]
  },
  {
   "cell_type": "markdown",
   "metadata": {},
   "source": [
    "## 데이터 로드 및 전처리"
   ]
  },
  {
   "cell_type": "code",
   "execution_count": 1,
   "metadata": {
    "ExecuteTime": {
     "end_time": "2020-09-27T08:29:00.240819Z",
     "start_time": "2020-09-27T08:29:00.223537Z"
    }
   },
   "outputs": [],
   "source": [
    "pla = pd.read_csv(\"Plastic_amount_2008_2013.csv\")\n",
    "stic = pd.read_csv(\"전국_Final_Plastic_volumn_of_garbage.csv\")"
   ]
  },
  {
   "cell_type": "code",
   "execution_count": 2,
   "metadata": {
    "ExecuteTime": {
     "end_time": "2020-09-27T08:29:00.953479Z",
     "start_time": "2020-09-27T08:29:00.945108Z"
    }
   },
   "outputs": [],
   "source": [
    "# 날짜 컬럼 생성\n",
    "pla[\"year\"] = pd.to_datetime([\n",
    "    \"2008-01-01\", \"2009-01-01\", \"2010-01-01\", \"2011-01-01\", \"2012-01-01\", \"2013-01-01\"\n",
    "])\n",
    "stic[\"year\"] = pd.to_datetime([\n",
    "    \"2014-01-01\", \"2015-01-01\", \"2016-01-01\", \"2017-01-01\", \"2018-01-01\"\n",
    "])"
   ]
  },
  {
   "cell_type": "code",
   "execution_count": 3,
   "metadata": {
    "ExecuteTime": {
     "end_time": "2020-09-27T08:29:01.957620Z",
     "start_time": "2020-09-27T08:29:01.946237Z"
    }
   },
   "outputs": [],
   "source": [
    "# prophet 사용이 가능한 데이터 프레임 형태로 변환\n",
    "stic = stic[[\"year\", \"p_total\"]]\n",
    "stic.rename(columns=({\"year\":\"ds\", \"p_total\":\"y\"}),\n",
    "                  inplace=True)\n",
    "pla.rename(columns=({\"total_p\":\"y\", \"year\":\"ds\"}), inplace=True)"
   ]
  },
  {
   "cell_type": "code",
   "execution_count": 4,
   "metadata": {
    "ExecuteTime": {
     "end_time": "2020-09-27T08:29:02.657237Z",
     "start_time": "2020-09-27T08:29:02.649773Z"
    }
   },
   "outputs": [],
   "source": [
    "# 합쳐주기\n",
    "plastic = pd.concat([pla,stic], axis=0)"
   ]
  },
  {
   "cell_type": "code",
   "execution_count": 5,
   "metadata": {
    "ExecuteTime": {
     "end_time": "2020-09-27T08:29:03.313790Z",
     "start_time": "2020-09-27T08:29:03.295679Z"
    }
   },
   "outputs": [
    {
     "data": {
      "text/html": [
       "<div>\n",
       "<style scoped>\n",
       "    .dataframe tbody tr th:only-of-type {\n",
       "        vertical-align: middle;\n",
       "    }\n",
       "\n",
       "    .dataframe tbody tr th {\n",
       "        vertical-align: top;\n",
       "    }\n",
       "\n",
       "    .dataframe thead th {\n",
       "        text-align: right;\n",
       "    }\n",
       "</style>\n",
       "<table border=\"1\" class=\"dataframe\">\n",
       "  <thead>\n",
       "    <tr style=\"text-align: right;\">\n",
       "      <th></th>\n",
       "      <th>y</th>\n",
       "      <th>ds</th>\n",
       "    </tr>\n",
       "  </thead>\n",
       "  <tbody>\n",
       "    <tr>\n",
       "      <th>0</th>\n",
       "      <td>4286.506956</td>\n",
       "      <td>2008-01-01</td>\n",
       "    </tr>\n",
       "    <tr>\n",
       "      <th>1</th>\n",
       "      <td>4268.700000</td>\n",
       "      <td>2009-01-01</td>\n",
       "    </tr>\n",
       "    <tr>\n",
       "      <th>2</th>\n",
       "      <td>3990.700000</td>\n",
       "      <td>2010-01-01</td>\n",
       "    </tr>\n",
       "    <tr>\n",
       "      <th>3</th>\n",
       "      <td>3949.730000</td>\n",
       "      <td>2011-01-01</td>\n",
       "    </tr>\n",
       "    <tr>\n",
       "      <th>4</th>\n",
       "      <td>4387.500000</td>\n",
       "      <td>2012-01-01</td>\n",
       "    </tr>\n",
       "    <tr>\n",
       "      <th>5</th>\n",
       "      <td>4365.400000</td>\n",
       "      <td>2013-01-01</td>\n",
       "    </tr>\n",
       "    <tr>\n",
       "      <th>6</th>\n",
       "      <td>4606.760000</td>\n",
       "      <td>2014-01-01</td>\n",
       "    </tr>\n",
       "    <tr>\n",
       "      <th>7</th>\n",
       "      <td>4938.600000</td>\n",
       "      <td>2015-01-01</td>\n",
       "    </tr>\n",
       "    <tr>\n",
       "      <th>8</th>\n",
       "      <td>5445.600000</td>\n",
       "      <td>2016-01-01</td>\n",
       "    </tr>\n",
       "    <tr>\n",
       "      <th>9</th>\n",
       "      <td>5852.300000</td>\n",
       "      <td>2017-01-01</td>\n",
       "    </tr>\n",
       "    <tr>\n",
       "      <th>10</th>\n",
       "      <td>6375.100000</td>\n",
       "      <td>2018-01-01</td>\n",
       "    </tr>\n",
       "  </tbody>\n",
       "</table>\n",
       "</div>"
      ],
      "text/plain": [
       "              y         ds\n",
       "0   4286.506956 2008-01-01\n",
       "1   4268.700000 2009-01-01\n",
       "2   3990.700000 2010-01-01\n",
       "3   3949.730000 2011-01-01\n",
       "4   4387.500000 2012-01-01\n",
       "5   4365.400000 2013-01-01\n",
       "6   4606.760000 2014-01-01\n",
       "7   4938.600000 2015-01-01\n",
       "8   5445.600000 2016-01-01\n",
       "9   5852.300000 2017-01-01\n",
       "10  6375.100000 2018-01-01"
      ]
     },
     "execution_count": 5,
     "metadata": {},
     "output_type": "execute_result"
    }
   ],
   "source": [
    "plastic.reset_index(inplace=True, drop=True)\n",
    "plastic"
   ]
  },
  {
   "cell_type": "markdown",
   "metadata": {},
   "source": [
    "## 2019년도 쓰레기 양 예측\n",
    "- 예측을 하는 이유 : 현재 2019년도의 쓰레기 배출량 집계된 것이 없기 때문에 trend를 반영할 수 있는 것으로 사용"
   ]
  },
  {
   "cell_type": "markdown",
   "metadata": {},
   "source": [
    "### Holt's Exponential Smoothing¶\n",
    "- trend로 데이터를 예측하기 위해 Simple Exponential Smoothing에서 확장한 것이다.\n",
    "- 예측을 위한 식 외에 level smoothing을 위한 식과 trend smoothing을 위한 식이 포함된다\n",
    "- 생성된 예측은 선형적으로 나타나기 때문에 예측 범위가 멀어질 수록 over-forecast 되는 경향이 있다."
   ]
  },
  {
   "cell_type": "code",
   "execution_count": 6,
   "metadata": {
    "ExecuteTime": {
     "end_time": "2020-09-27T08:29:07.873314Z",
     "start_time": "2020-09-27T08:29:05.602126Z"
    }
   },
   "outputs": [],
   "source": [
    "from statsmodels.tsa.api import Holt"
   ]
  },
  {
   "cell_type": "code",
   "execution_count": 7,
   "metadata": {
    "ExecuteTime": {
     "end_time": "2020-09-27T08:29:15.394320Z",
     "start_time": "2020-09-27T08:29:15.365150Z"
    }
   },
   "outputs": [
    {
     "name": "stderr",
     "output_type": "stream",
     "text": [
      "/Users/yeonsu/opt/anaconda3/lib/python3.7/site-packages/statsmodels/tsa/holtwinters.py:744: ConvergenceWarning: Optimization failed to converge. Check mle_retvals.\n",
      "  ConvergenceWarning)\n"
     ]
    }
   ],
   "source": [
    "holt_model = Holt(np.array(plastic.y))\n",
    "holt_result = holt_model.fit()\n",
    "holt_pred = holt_result.forecast(1)"
   ]
  },
  {
   "cell_type": "code",
   "execution_count": 8,
   "metadata": {
    "ExecuteTime": {
     "end_time": "2020-09-27T08:29:17.722453Z",
     "start_time": "2020-09-27T08:29:17.714021Z"
    }
   },
   "outputs": [
    {
     "data": {
      "text/plain": [
       "array([6851.90926107])"
      ]
     },
     "execution_count": 8,
     "metadata": {},
     "output_type": "execute_result"
    }
   ],
   "source": [
    "holt_pred"
   ]
  },
  {
   "cell_type": "markdown",
   "metadata": {},
   "source": [
    "**< Holt's Exponential Smoothing 사용 시 결과 >**\n",
    " - 2019를 6851.90926107로 예측함\n",
    " ---"
   ]
  },
  {
   "cell_type": "markdown",
   "metadata": {},
   "source": [
    "## 2019, 2020 포함 된 데이터 생성\n",
    " - Prophet과 Holt를 사용한 예측 값이 다르기 때문에, 우선 2개 모두 진행 예정\n",
    " - 2020년 배출량의 경우, 코로나로 인해 2019년 동기 대비 플라스틱 배출량이 15% 늘었다는 환경부 통계 기사를 바탕으로 산출"
   ]
  },
  {
   "cell_type": "code",
   "execution_count": 9,
   "metadata": {
    "ExecuteTime": {
     "end_time": "2020-09-27T08:29:25.260419Z",
     "start_time": "2020-09-27T08:29:25.253331Z"
    }
   },
   "outputs": [],
   "source": [
    "holt_plastic = pd.DataFrame([\n",
    "    {\"y\": 6851.90926107, \"ds\" : pd.to_datetime(\"2019-01-01\")},\n",
    "    {\"y\": 6851.90926107 * 1.15 , \"ds\" : pd.to_datetime(\"2020-01-01\")}\n",
    "])"
   ]
  },
  {
   "cell_type": "code",
   "execution_count": 10,
   "metadata": {
    "ExecuteTime": {
     "end_time": "2020-09-27T08:29:25.819075Z",
     "start_time": "2020-09-27T08:29:25.811796Z"
    }
   },
   "outputs": [],
   "source": [
    "holt_plastic = pd.concat([plastic, holt_plastic], axis=0)"
   ]
  },
  {
   "cell_type": "code",
   "execution_count": 11,
   "metadata": {
    "ExecuteTime": {
     "end_time": "2020-09-27T08:29:26.196735Z",
     "start_time": "2020-09-27T08:29:26.192953Z"
    }
   },
   "outputs": [],
   "source": [
    "holt_plastic.reset_index(inplace=True, drop=True)"
   ]
  },
  {
   "cell_type": "code",
   "execution_count": 12,
   "metadata": {
    "ExecuteTime": {
     "end_time": "2020-09-27T08:29:26.826814Z",
     "start_time": "2020-09-27T08:29:26.812557Z"
    }
   },
   "outputs": [
    {
     "data": {
      "text/html": [
       "<div>\n",
       "<style scoped>\n",
       "    .dataframe tbody tr th:only-of-type {\n",
       "        vertical-align: middle;\n",
       "    }\n",
       "\n",
       "    .dataframe tbody tr th {\n",
       "        vertical-align: top;\n",
       "    }\n",
       "\n",
       "    .dataframe thead th {\n",
       "        text-align: right;\n",
       "    }\n",
       "</style>\n",
       "<table border=\"1\" class=\"dataframe\">\n",
       "  <thead>\n",
       "    <tr style=\"text-align: right;\">\n",
       "      <th></th>\n",
       "      <th>y</th>\n",
       "      <th>ds</th>\n",
       "    </tr>\n",
       "  </thead>\n",
       "  <tbody>\n",
       "    <tr>\n",
       "      <th>0</th>\n",
       "      <td>4286.506956</td>\n",
       "      <td>2008-01-01</td>\n",
       "    </tr>\n",
       "    <tr>\n",
       "      <th>1</th>\n",
       "      <td>4268.700000</td>\n",
       "      <td>2009-01-01</td>\n",
       "    </tr>\n",
       "    <tr>\n",
       "      <th>2</th>\n",
       "      <td>3990.700000</td>\n",
       "      <td>2010-01-01</td>\n",
       "    </tr>\n",
       "    <tr>\n",
       "      <th>3</th>\n",
       "      <td>3949.730000</td>\n",
       "      <td>2011-01-01</td>\n",
       "    </tr>\n",
       "    <tr>\n",
       "      <th>4</th>\n",
       "      <td>4387.500000</td>\n",
       "      <td>2012-01-01</td>\n",
       "    </tr>\n",
       "    <tr>\n",
       "      <th>5</th>\n",
       "      <td>4365.400000</td>\n",
       "      <td>2013-01-01</td>\n",
       "    </tr>\n",
       "    <tr>\n",
       "      <th>6</th>\n",
       "      <td>4606.760000</td>\n",
       "      <td>2014-01-01</td>\n",
       "    </tr>\n",
       "    <tr>\n",
       "      <th>7</th>\n",
       "      <td>4938.600000</td>\n",
       "      <td>2015-01-01</td>\n",
       "    </tr>\n",
       "    <tr>\n",
       "      <th>8</th>\n",
       "      <td>5445.600000</td>\n",
       "      <td>2016-01-01</td>\n",
       "    </tr>\n",
       "    <tr>\n",
       "      <th>9</th>\n",
       "      <td>5852.300000</td>\n",
       "      <td>2017-01-01</td>\n",
       "    </tr>\n",
       "    <tr>\n",
       "      <th>10</th>\n",
       "      <td>6375.100000</td>\n",
       "      <td>2018-01-01</td>\n",
       "    </tr>\n",
       "    <tr>\n",
       "      <th>11</th>\n",
       "      <td>6851.909261</td>\n",
       "      <td>2019-01-01</td>\n",
       "    </tr>\n",
       "    <tr>\n",
       "      <th>12</th>\n",
       "      <td>7879.695650</td>\n",
       "      <td>2020-01-01</td>\n",
       "    </tr>\n",
       "  </tbody>\n",
       "</table>\n",
       "</div>"
      ],
      "text/plain": [
       "              y         ds\n",
       "0   4286.506956 2008-01-01\n",
       "1   4268.700000 2009-01-01\n",
       "2   3990.700000 2010-01-01\n",
       "3   3949.730000 2011-01-01\n",
       "4   4387.500000 2012-01-01\n",
       "5   4365.400000 2013-01-01\n",
       "6   4606.760000 2014-01-01\n",
       "7   4938.600000 2015-01-01\n",
       "8   5445.600000 2016-01-01\n",
       "9   5852.300000 2017-01-01\n",
       "10  6375.100000 2018-01-01\n",
       "11  6851.909261 2019-01-01\n",
       "12  7879.695650 2020-01-01"
      ]
     },
     "execution_count": 12,
     "metadata": {},
     "output_type": "execute_result"
    }
   ],
   "source": [
    "holt_plastic"
   ]
  },
  {
   "cell_type": "markdown",
   "metadata": {},
   "source": [
    "## 앞으로의 3년 예측해보기"
   ]
  },
  {
   "cell_type": "markdown",
   "metadata": {},
   "source": [
    "### Holt's Exponential Smoothing"
   ]
  },
  {
   "cell_type": "code",
   "execution_count": 13,
   "metadata": {
    "ExecuteTime": {
     "end_time": "2020-09-27T08:29:28.623287Z",
     "start_time": "2020-09-27T08:29:28.603730Z"
    }
   },
   "outputs": [],
   "source": [
    "holt_model = Holt(np.array(holt_plastic.y))\n",
    "holt_result = holt_model.fit()\n",
    "holt_pred = holt_result.forecast(3)"
   ]
  },
  {
   "cell_type": "code",
   "execution_count": 14,
   "metadata": {
    "ExecuteTime": {
     "end_time": "2020-09-27T08:29:29.082558Z",
     "start_time": "2020-09-27T08:29:29.068335Z"
    }
   },
   "outputs": [
    {
     "data": {
      "text/plain": [
       "[8526.357796410188, 9312.279239806221, 10098.200683202256]"
      ]
     },
     "execution_count": 14,
     "metadata": {},
     "output_type": "execute_result"
    }
   ],
   "source": [
    "list(holt_pred)"
   ]
  },
  {
   "cell_type": "code",
   "execution_count": 15,
   "metadata": {
    "ExecuteTime": {
     "end_time": "2020-09-27T08:29:29.805465Z",
     "start_time": "2020-09-27T08:29:29.788178Z"
    }
   },
   "outputs": [
    {
     "data": {
      "text/html": [
       "<div>\n",
       "<style scoped>\n",
       "    .dataframe tbody tr th:only-of-type {\n",
       "        vertical-align: middle;\n",
       "    }\n",
       "\n",
       "    .dataframe tbody tr th {\n",
       "        vertical-align: top;\n",
       "    }\n",
       "\n",
       "    .dataframe thead th {\n",
       "        text-align: right;\n",
       "    }\n",
       "</style>\n",
       "<table border=\"1\" class=\"dataframe\">\n",
       "  <thead>\n",
       "    <tr style=\"text-align: right;\">\n",
       "      <th></th>\n",
       "      <th>y</th>\n",
       "      <th>ds</th>\n",
       "    </tr>\n",
       "  </thead>\n",
       "  <tbody>\n",
       "    <tr>\n",
       "      <th>0</th>\n",
       "      <td>4286.506956</td>\n",
       "      <td>2008-01-01</td>\n",
       "    </tr>\n",
       "    <tr>\n",
       "      <th>1</th>\n",
       "      <td>4268.700000</td>\n",
       "      <td>2009-01-01</td>\n",
       "    </tr>\n",
       "    <tr>\n",
       "      <th>2</th>\n",
       "      <td>3990.700000</td>\n",
       "      <td>2010-01-01</td>\n",
       "    </tr>\n",
       "    <tr>\n",
       "      <th>3</th>\n",
       "      <td>3949.730000</td>\n",
       "      <td>2011-01-01</td>\n",
       "    </tr>\n",
       "    <tr>\n",
       "      <th>4</th>\n",
       "      <td>4387.500000</td>\n",
       "      <td>2012-01-01</td>\n",
       "    </tr>\n",
       "    <tr>\n",
       "      <th>5</th>\n",
       "      <td>4365.400000</td>\n",
       "      <td>2013-01-01</td>\n",
       "    </tr>\n",
       "    <tr>\n",
       "      <th>6</th>\n",
       "      <td>4606.760000</td>\n",
       "      <td>2014-01-01</td>\n",
       "    </tr>\n",
       "    <tr>\n",
       "      <th>7</th>\n",
       "      <td>4938.600000</td>\n",
       "      <td>2015-01-01</td>\n",
       "    </tr>\n",
       "    <tr>\n",
       "      <th>8</th>\n",
       "      <td>5445.600000</td>\n",
       "      <td>2016-01-01</td>\n",
       "    </tr>\n",
       "    <tr>\n",
       "      <th>9</th>\n",
       "      <td>5852.300000</td>\n",
       "      <td>2017-01-01</td>\n",
       "    </tr>\n",
       "    <tr>\n",
       "      <th>10</th>\n",
       "      <td>6375.100000</td>\n",
       "      <td>2018-01-01</td>\n",
       "    </tr>\n",
       "    <tr>\n",
       "      <th>11</th>\n",
       "      <td>6851.909261</td>\n",
       "      <td>2019-01-01</td>\n",
       "    </tr>\n",
       "    <tr>\n",
       "      <th>12</th>\n",
       "      <td>7879.695650</td>\n",
       "      <td>2020-01-01</td>\n",
       "    </tr>\n",
       "    <tr>\n",
       "      <th>13</th>\n",
       "      <td>8526.357796</td>\n",
       "      <td>2021-01-01</td>\n",
       "    </tr>\n",
       "    <tr>\n",
       "      <th>14</th>\n",
       "      <td>9312.279240</td>\n",
       "      <td>2022-01-01</td>\n",
       "    </tr>\n",
       "    <tr>\n",
       "      <th>15</th>\n",
       "      <td>10098.200683</td>\n",
       "      <td>2023-01-01</td>\n",
       "    </tr>\n",
       "  </tbody>\n",
       "</table>\n",
       "</div>"
      ],
      "text/plain": [
       "               y         ds\n",
       "0    4286.506956 2008-01-01\n",
       "1    4268.700000 2009-01-01\n",
       "2    3990.700000 2010-01-01\n",
       "3    3949.730000 2011-01-01\n",
       "4    4387.500000 2012-01-01\n",
       "5    4365.400000 2013-01-01\n",
       "6    4606.760000 2014-01-01\n",
       "7    4938.600000 2015-01-01\n",
       "8    5445.600000 2016-01-01\n",
       "9    5852.300000 2017-01-01\n",
       "10   6375.100000 2018-01-01\n",
       "11   6851.909261 2019-01-01\n",
       "12   7879.695650 2020-01-01\n",
       "13   8526.357796 2021-01-01\n",
       "14   9312.279240 2022-01-01\n",
       "15  10098.200683 2023-01-01"
      ]
     },
     "execution_count": 15,
     "metadata": {},
     "output_type": "execute_result"
    }
   ],
   "source": [
    "holt_plastic_new = pd.concat([holt_plastic, pd.DataFrame({\"y\" : list(holt_pred), \n",
    "             \"ds\" : pd.to_datetime([\"2021-01-01\", \"2022-01-01\", \"2023-01-01\"])})], axis=0)\n",
    "holt_plastic_new.reset_index(inplace=True, drop=True)\n",
    "holt_plastic_new"
   ]
  },
  {
   "cell_type": "markdown",
   "metadata": {},
   "source": [
    "## 코로나를 고려하지 않은 2023년도까지의 쓰레기양 예측"
   ]
  },
  {
   "cell_type": "markdown",
   "metadata": {},
   "source": [
    "### Holt's Exponential Smoothing"
   ]
  },
  {
   "cell_type": "code",
   "execution_count": 16,
   "metadata": {
    "ExecuteTime": {
     "end_time": "2020-09-27T08:29:36.328618Z",
     "start_time": "2020-09-27T08:29:36.304064Z"
    }
   },
   "outputs": [
    {
     "name": "stderr",
     "output_type": "stream",
     "text": [
      "/Users/yeonsu/opt/anaconda3/lib/python3.7/site-packages/statsmodels/tsa/holtwinters.py:744: ConvergenceWarning: Optimization failed to converge. Check mle_retvals.\n",
      "  ConvergenceWarning)\n"
     ]
    }
   ],
   "source": [
    "holt_model = Holt(np.array(plastic.y))\n",
    "holt_result = holt_model.fit()\n",
    "holt_pred = holt_result.forecast(5)"
   ]
  },
  {
   "cell_type": "code",
   "execution_count": 17,
   "metadata": {
    "ExecuteTime": {
     "end_time": "2020-09-27T08:29:45.953095Z",
     "start_time": "2020-09-27T08:29:45.933436Z"
    }
   },
   "outputs": [
    {
     "data": {
      "text/html": [
       "<div>\n",
       "<style scoped>\n",
       "    .dataframe tbody tr th:only-of-type {\n",
       "        vertical-align: middle;\n",
       "    }\n",
       "\n",
       "    .dataframe tbody tr th {\n",
       "        vertical-align: top;\n",
       "    }\n",
       "\n",
       "    .dataframe thead th {\n",
       "        text-align: right;\n",
       "    }\n",
       "</style>\n",
       "<table border=\"1\" class=\"dataframe\">\n",
       "  <thead>\n",
       "    <tr style=\"text-align: right;\">\n",
       "      <th></th>\n",
       "      <th>y</th>\n",
       "      <th>ds</th>\n",
       "    </tr>\n",
       "  </thead>\n",
       "  <tbody>\n",
       "    <tr>\n",
       "      <th>0</th>\n",
       "      <td>4286.506956</td>\n",
       "      <td>2008-01-01</td>\n",
       "    </tr>\n",
       "    <tr>\n",
       "      <th>1</th>\n",
       "      <td>4268.700000</td>\n",
       "      <td>2009-01-01</td>\n",
       "    </tr>\n",
       "    <tr>\n",
       "      <th>2</th>\n",
       "      <td>3990.700000</td>\n",
       "      <td>2010-01-01</td>\n",
       "    </tr>\n",
       "    <tr>\n",
       "      <th>3</th>\n",
       "      <td>3949.730000</td>\n",
       "      <td>2011-01-01</td>\n",
       "    </tr>\n",
       "    <tr>\n",
       "      <th>4</th>\n",
       "      <td>4387.500000</td>\n",
       "      <td>2012-01-01</td>\n",
       "    </tr>\n",
       "    <tr>\n",
       "      <th>5</th>\n",
       "      <td>4365.400000</td>\n",
       "      <td>2013-01-01</td>\n",
       "    </tr>\n",
       "    <tr>\n",
       "      <th>6</th>\n",
       "      <td>4606.760000</td>\n",
       "      <td>2014-01-01</td>\n",
       "    </tr>\n",
       "    <tr>\n",
       "      <th>7</th>\n",
       "      <td>4938.600000</td>\n",
       "      <td>2015-01-01</td>\n",
       "    </tr>\n",
       "    <tr>\n",
       "      <th>8</th>\n",
       "      <td>5445.600000</td>\n",
       "      <td>2016-01-01</td>\n",
       "    </tr>\n",
       "    <tr>\n",
       "      <th>9</th>\n",
       "      <td>5852.300000</td>\n",
       "      <td>2017-01-01</td>\n",
       "    </tr>\n",
       "    <tr>\n",
       "      <th>10</th>\n",
       "      <td>6375.100000</td>\n",
       "      <td>2018-01-01</td>\n",
       "    </tr>\n",
       "    <tr>\n",
       "      <th>11</th>\n",
       "      <td>6851.909261</td>\n",
       "      <td>2019-01-01</td>\n",
       "    </tr>\n",
       "    <tr>\n",
       "      <th>12</th>\n",
       "      <td>7350.528918</td>\n",
       "      <td>2020-01-01</td>\n",
       "    </tr>\n",
       "    <tr>\n",
       "      <th>13</th>\n",
       "      <td>7849.148575</td>\n",
       "      <td>2021-01-01</td>\n",
       "    </tr>\n",
       "    <tr>\n",
       "      <th>14</th>\n",
       "      <td>8347.768232</td>\n",
       "      <td>2022-01-01</td>\n",
       "    </tr>\n",
       "    <tr>\n",
       "      <th>15</th>\n",
       "      <td>8846.387889</td>\n",
       "      <td>2023-01-01</td>\n",
       "    </tr>\n",
       "  </tbody>\n",
       "</table>\n",
       "</div>"
      ],
      "text/plain": [
       "              y         ds\n",
       "0   4286.506956 2008-01-01\n",
       "1   4268.700000 2009-01-01\n",
       "2   3990.700000 2010-01-01\n",
       "3   3949.730000 2011-01-01\n",
       "4   4387.500000 2012-01-01\n",
       "5   4365.400000 2013-01-01\n",
       "6   4606.760000 2014-01-01\n",
       "7   4938.600000 2015-01-01\n",
       "8   5445.600000 2016-01-01\n",
       "9   5852.300000 2017-01-01\n",
       "10  6375.100000 2018-01-01\n",
       "11  6851.909261 2019-01-01\n",
       "12  7350.528918 2020-01-01\n",
       "13  7849.148575 2021-01-01\n",
       "14  8347.768232 2022-01-01\n",
       "15  8846.387889 2023-01-01"
      ]
     },
     "execution_count": 17,
     "metadata": {},
     "output_type": "execute_result"
    }
   ],
   "source": [
    "holt_pred\n",
    "\n",
    "holt_plastic_nocovid = pd.concat([plastic, pd.DataFrame({\"y\" : list(holt_pred), \n",
    "             \"ds\" : pd.to_datetime([\"2019-01-01\", \"2020-01-01\",\n",
    "                                    \"2021-01-01\", \"2022-01-01\", \"2023-01-01\"])})], axis=0)\n",
    "holt_plastic_nocovid.reset_index(inplace=True, drop=True)\n",
    "holt_plastic_nocovid"
   ]
  },
  {
   "cell_type": "markdown",
   "metadata": {},
   "source": [
    "## 비교"
   ]
  },
  {
   "cell_type": "code",
   "execution_count": 18,
   "metadata": {
    "ExecuteTime": {
     "end_time": "2020-09-27T08:31:31.502904Z",
     "start_time": "2020-09-27T08:31:31.255268Z"
    }
   },
   "outputs": [],
   "source": [
    "import matplotlib.pyplot as plt\n",
    "import seaborn as sns\n",
    "import os\n",
    "plt.rcParams['font.family'] = 'AppleGothic'"
   ]
  },
  {
   "cell_type": "code",
   "execution_count": 34,
   "metadata": {
    "ExecuteTime": {
     "end_time": "2020-09-27T08:41:15.072798Z",
     "start_time": "2020-09-27T08:41:14.584392Z"
    }
   },
   "outputs": [
    {
     "data": {
      "text/plain": [
       "Text(0.5, 1.0, '[ 코로나 발생 / 미발생 가정 폐플라스틱 발생 예측 (단위 : 톤/일)]')"
      ]
     },
     "execution_count": 34,
     "metadata": {},
     "output_type": "execute_result"
    },
    {
     "data": {
      "image/png": "[encoded data removed]",
      "text/plain": [
       "<Figure size 936x648 with 1 Axes>"
      ]
     },
     "metadata": {
      "image/png": {
       "height": 540,
       "width": 780
      },
      "needs_background": "light"
     },
     "output_type": "display_data"
    }
   ],
   "source": [
    "plt.figure(figsize=(13,9))\n",
    "plt.plot(holt_plastic_new[\"ds\"], holt_plastic_new[\"y\"], ls='--', \n",
    "         color = \"#B9c5c7\", linewidth=6)\n",
    "plt.plot(holt_plastic_nocovid[\"ds\"], holt_plastic_nocovid[\"y\"], ls='--', \n",
    "         color = \"#aec086\", linewidth=6)\n",
    "plt.axvline(x=pd.to_datetime(\"2019-01-01\"), color=\"#d7d2cc\", linestyle=':', linewidth=4)\n",
    "plt.legend([\"코로나 발생\", \"코로나 미발생 가정\"], fontsize=15)\n",
    "plt.title(\"[ 코로나 발생 / 미발생 가정 폐플라스틱 발생 예측 (단위 : 톤/일)]\", fontsize=18)"
   ]
  }
 ],
 "metadata": {
  "kernelspec": {
   "display_name": "Python 3",
   "language": "python",
   "name": "python3"
  },
  "language_info": {
   "codemirror_mode": {
    "name": "ipython",
    "version": 3
   },
   "file_extension": ".py",
   "mimetype": "text/x-python",
   "name": "python",
   "nbconvert_exporter": "python",
   "pygments_lexer": "ipython3",
   "version": "3.7.6"
  },
  "toc": {
   "base_numbering": 1,
   "nav_menu": {},
   "number_sections": true,
   "sideBar": true,
   "skip_h1_title": true,
   "title_cell": "Table of Contents",
   "title_sidebar": "Contents",
   "toc_cell": false,
   "toc_position": {
    "height": "calc(100% - 180px)",
    "left": "10px",
    "top": "150px",
    "width": "341.333px"
   },
   "toc_section_display": true,
   "toc_window_display": true
  },
  "varInspector": {
   "cols": {
    "lenName": 16,
    "lenType": 16,
    "lenVar": 40
   },
   "kernels_config": {
    "python": {
     "delete_cmd_postfix": "",
     "delete_cmd_prefix": "del ",
     "library": "var_list.py",
     "varRefreshCmd": "print(var_dic_list())"
    },
    "r": {
     "delete_cmd_postfix": ") ",
     "delete_cmd_prefix": "rm(",
     "library": "var_list.r",
     "varRefreshCmd": "cat(var_dic_list()) "
    }
   },
   "types_to_exclude": [
    "module",
    "function",
    "builtin_function_or_method",
    "instance",
    "_Feature"
   ],
   "window_display": false
  }
 },
 "nbformat": 4,
 "nbformat_minor": 4
}
