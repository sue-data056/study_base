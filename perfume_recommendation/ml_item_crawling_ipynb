{
 "cells": [
  {
   "cell_type": "markdown",
   "metadata": {},
   "source": [
    "# 머신러닝 프로젝트 : 향수 추천시스템"
   ]
  },
  {
   "cell_type": "markdown",
   "metadata": {},
   "source": [
    " - 크롤링 사이트 : https://www.basenotes.net"
   ]
  },
  {
   "cell_type": "code",
   "execution_count": 3,
   "metadata": {
    "ExecuteTime": {
     "end_time": "2020-10-29T07:05:17.348533Z",
     "start_time": "2020-10-29T07:05:17.336439Z"
    }
   },
   "outputs": [],
   "source": [
    "import requests\n",
    "from bs4 import BeautifulSoup as bs\n",
    "import time"
   ]
  },
  {
   "cell_type": "markdown",
   "metadata": {},
   "source": [
    "## 전체 item url 및 ID 데이터 크롤링"
   ]
  },
  {
   "cell_type": "markdown",
   "metadata": {},
   "source": [
    "- item_url : item 상세페이지로 가는 url\n",
    "- item_id : item 고유 id\n",
    "- review : review 갯수"
   ]
  },
  {
   "cell_type": "code",
   "execution_count": null,
   "metadata": {},
   "outputs": [],
   "source": [
    "alphas = [\"9\", \"a\", \"b\", \"c\", \"d\", \"e\", \"f\", \"g\", \"h\", 'i', \"j\", \"k\", \"l\", \"m\", \"n\", \"o\", \"p\", \"q\", \"r\", \"s\", \"t\", \"u\", \"v\", \"w\", \"x\", \"y\", \"z\"]\n",
    "\n",
    "item_df = pd.DataFrame()\n",
    "for alpha in alphas:\n",
    "    url = \"https://www.basenotes.net/fragrancedirectory/?i={0}&p=1\".format(alpha)\n",
    "    res = requests.get(url=url)\n",
    "    soup = bs(res.text, \"html.parser\")\n",
    "    pages = len(soup.select(\"div.threadpagenav\")[0].select(\"span\"))\n",
    "    time.sleep(1)\n",
    "    for page in range(1, pages -1):\n",
    "        url = \"https://www.basenotes.net/fragrancedirectory/?i={0}&p={1}\".format(alpha, page)\n",
    "        res = requests.get(url=url)\n",
    "        soup = bs(res.text, \"html.parser\")\n",
    "        a = soup.findAll(\"table\")[1].find_all(\"tr\", {\"valign\":\"top\"})\n",
    "        if len(a)>20:\n",
    "            del a[20]\n",
    "        if len(a)>40:\n",
    "            del a[40]\n",
    "        if len(a)>60:\n",
    "            del a[60]\n",
    "        item_urls = [x.select(\"a\")[0].get(\"href\") for x in a]\n",
    "        item_ids = [x.select(\"a\")[0].get(\"href\").split(\"/\")[3][:10] for x in a]\n",
    "        b = [x.select(\"div\") for x in a]\n",
    "        reviews = [None if x == [] else int(x[0].text.strip().split(\" \")[0]) for x in b]\n",
    "        temp = pd.DataFrame({\"item_url\":item_urls, \"item_id\":item_ids, \"review\":reviews})\n",
    "        item_df = pd.concat([item_df, temp], axis=0)"
   ]
  },
  {
   "cell_type": "code",
   "execution_count": 383,
   "metadata": {
    "ExecuteTime": {
     "end_time": "2020-10-29T04:39:25.764918Z",
     "start_time": "2020-10-29T04:39:25.723952Z"
    }
   },
   "outputs": [],
   "source": [
    "item_df = item_df.drop(index=0, axis=0)\n",
    "item_df.to_csv(\"item_df.csv\", index=False)"
   ]
  },
  {
   "cell_type": "markdown",
   "metadata": {},
   "source": [
    "## 각 item 별 정보 크롤링"
   ]
  },
  {
   "cell_type": "code",
   "execution_count": 1,
   "metadata": {
    "ExecuteTime": {
     "end_time": "2020-10-29T07:05:09.612019Z",
     "start_time": "2020-10-29T07:05:09.536233Z"
    }
   },
   "outputs": [],
   "source": [
    "item_df = pd.read_csv(\"item_df.csv\")"
   ]
  },
  {
   "cell_type": "markdown",
   "metadata": {},
   "source": [
    "너무 인지도가 없거나 정보가 없는 향수는 제외하기 위해서 리뷰 수가 5 이상인 것들만 추출"
   ]
  },
  {
   "cell_type": "code",
   "execution_count": 13,
   "metadata": {
    "ExecuteTime": {
     "end_time": "2020-10-29T07:20:52.351981Z",
     "start_time": "2020-10-29T07:20:52.317591Z"
    }
   },
   "outputs": [],
   "source": [
    "item_df = item_df[item_df.review > 4]\n",
    "item_df.reset_index(inplace=True, drop=True)"
   ]
  },
  {
   "cell_type": "markdown",
   "metadata": {},
   "source": [
    "url을 이용하여 각 아이템별 상세 정보 끌어오기"
   ]
  },
  {
   "cell_type": "code",
   "execution_count": null,
   "metadata": {},
   "outputs": [],
   "source": [
    "for idx, row in item_df.iterrows():\n",
    "    time.sleep(1)\n",
    "    result = requests.get(url=row.item_url)\n",
    "    soup = bs(result.text, \"html.parser\")\n",
    "    datas = soup.find(\"div\", {\"class\":\"dirwrap50\"})\n",
    "    try:\n",
    "        item_df.loc[idx,\"names\"] = datas.find(\"h2\").text.strip()\n",
    "    except:\n",
    "        item_df.loc[idx,\"names\"] = None\n",
    "\n",
    "    notes_ls = []\n",
    "    try :\n",
    "        notes_ls += datas.find_all(\"div\", {\"class\":\"dirright50\"})[0].text.split(\"\\n\")[5].strip().split(\", \")\n",
    "        notes_ls += datas.find_all(\"div\", {\"class\":\"dirright50\"})[0].text.split(\"\\n\")[12].strip().split(\", \")\n",
    "        notes_ls += datas.find_all(\"div\", {\"class\":\"dirright50\"})[0].text.split(\"\\n\")[19].strip().split(\", \")\n",
    "    except :\n",
    "        try :\n",
    "            notes_ls += soup.find_all(\"div\", {\"class\":\"notespyramid notespyramidb\"})[0].text.split(\"\\n\")[0].split(\", \")\n",
    "        except:\n",
    "    item_df.loc[idx, \"notes\"] = str(notes_ls)\n",
    "    \n",
    "    brands = datas.find(\"div\", {\"class\":\"dirleft-content50\"}).find_all(\"td\", {\"colspan\":\"3\"})\n",
    "    for brand in brands:\n",
    "        if brand.select_one(\"a\") != None:\n",
    "            href = brand.select_one(\"a\").get(\"href\")\n",
    "            if \"brand\" in href:\n",
    "                brand_name = brand.select_one(\"a\").text\n",
    "            else :\n",
    "                brands = datas.find(\"div\", {\"class\":\"dirleft-content50\"}).find_all(\"td\", {\"colspan\":\"4\"})\n",
    "                for brand in brands:\n",
    "                    if brand.select_one(\"a\") != None:\n",
    "                        href = brand.select_one(\"a\").get(\"href\")\n",
    "                        if \"brand\" in href:\n",
    "                            brand_name = brand.select_one(\"a\").text\n",
    "                        else :  \n",
    "                            brand_name = None\n",
    "                \n",
    "    item_df.loc[idx,\"house\"] = brand_name\n",
    "    \n",
    "    try:\n",
    "        rate = datas.find(\"div\", {\"class\":\"dirleft-content50\"}).select_one(\"meta\").get(\"content\")[:4]\n",
    "    except:\n",
    "        rate = datas.find_all(\"td\",{\"colspan\":\"3\"})[1].text.strip()[:-1]\n",
    "    item_df.loc[idx,\"rating\"] = rate    \n",
    "    \n",
    "    item_df.loc[idx, \"gender\"] = datas.find(\"td\",{\"colspan\":\"2\"}).text"
   ]
  },
  {
   "cell_type": "code",
   "execution_count": 25,
   "metadata": {
    "ExecuteTime": {
     "end_time": "2020-10-30T01:44:33.340033Z",
     "start_time": "2020-10-30T01:44:33.248455Z"
    }
   },
   "outputs": [],
   "source": [
    "item_df.to_csv(\"item_df_final.csv\", index=False)"
   ]
  },
  {
   "cell_type": "code",
   "execution_count": 1,
   "metadata": {
    "ExecuteTime": {
     "end_time": "2020-11-02T03:34:11.520216Z",
     "start_time": "2020-11-02T03:34:11.439795Z"
    }
   },
   "outputs": [
    {
     "data": {
      "text/html": [
       "<div>\n",
       "<style scoped>\n",
       "    .dataframe tbody tr th:only-of-type {\n",
       "        vertical-align: middle;\n",
       "    }\n",
       "\n",
       "    .dataframe tbody tr th {\n",
       "        vertical-align: top;\n",
       "    }\n",
       "\n",
       "    .dataframe thead th {\n",
       "        text-align: right;\n",
       "    }\n",
       "</style>\n",
       "<table border=\"1\" class=\"dataframe\">\n",
       "  <thead>\n",
       "    <tr style=\"text-align: right;\">\n",
       "      <th></th>\n",
       "      <th>item_url</th>\n",
       "      <th>item_id</th>\n",
       "      <th>review</th>\n",
       "      <th>names</th>\n",
       "      <th>notes</th>\n",
       "      <th>house</th>\n",
       "      <th>rating</th>\n",
       "      <th>gender</th>\n",
       "    </tr>\n",
       "  </thead>\n",
       "  <tbody>\n",
       "    <tr>\n",
       "      <th>0</th>\n",
       "      <td>https://www.basenotes.net/ID26125576.html</td>\n",
       "      <td>ID26125576</td>\n",
       "      <td>83.0</td>\n",
       "      <td>Insolence Eau de Toilette</td>\n",
       "      <td>['Bergamot', 'Raspberry', 'Red berries', 'Lemo...</td>\n",
       "      <td>LVMH Moet Hennessy Louis Vuitton</td>\n",
       "      <td>3.41</td>\n",
       "      <td>Feminine</td>\n",
       "    </tr>\n",
       "    <tr>\n",
       "      <th>1</th>\n",
       "      <td>https://www.basenotes.net/ID26125684.html</td>\n",
       "      <td>ID26125684</td>\n",
       "      <td>6.0</td>\n",
       "      <td>Inspiration</td>\n",
       "      <td>['Pink peppercorn', 'Pomegranate', 'Mirabelle ...</td>\n",
       "      <td>Procter &amp; Gamble</td>\n",
       "      <td>3.52</td>\n",
       "      <td>Feminine</td>\n",
       "    </tr>\n",
       "    <tr>\n",
       "      <th>2</th>\n",
       "      <td>https://www.basenotes.net/ID26159251.html</td>\n",
       "      <td>ID26159251</td>\n",
       "      <td>5.0</td>\n",
       "      <td>Instant Crush</td>\n",
       "      <td>['Citrus fruits', 'Saffron', 'Ginger', 'Morocc...</td>\n",
       "      <td>Procter &amp; Gamble</td>\n",
       "      <td>3.86</td>\n",
       "      <td>Feminine</td>\n",
       "    </tr>\n",
       "    <tr>\n",
       "      <th>3</th>\n",
       "      <td>https://www.basenotes.net/ID26144138.html</td>\n",
       "      <td>ID26144138</td>\n",
       "      <td>13.0</td>\n",
       "      <td>Insurrection II Pure</td>\n",
       "      <td>['Pineapple', 'Vanilla', 'Birch']</td>\n",
       "      <td>Procter &amp; Gamble</td>\n",
       "      <td>3.79</td>\n",
       "      <td>Masculine</td>\n",
       "    </tr>\n",
       "    <tr>\n",
       "      <th>4</th>\n",
       "      <td>https://www.basenotes.net/ID26143347.html</td>\n",
       "      <td>ID26143347</td>\n",
       "      <td>10.0</td>\n",
       "      <td>Intense Black</td>\n",
       "      <td>['Calabrian lemon', 'Italian bergamot', 'Atlas...</td>\n",
       "      <td>Parour</td>\n",
       "      <td>3.64</td>\n",
       "      <td>Masculine</td>\n",
       "    </tr>\n",
       "    <tr>\n",
       "      <th>...</th>\n",
       "      <td>...</td>\n",
       "      <td>...</td>\n",
       "      <td>...</td>\n",
       "      <td>...</td>\n",
       "      <td>...</td>\n",
       "      <td>...</td>\n",
       "      <td>...</td>\n",
       "      <td>...</td>\n",
       "    </tr>\n",
       "    <tr>\n",
       "      <th>5465</th>\n",
       "      <td>https://www.basenotes.net/ID10210418.html</td>\n",
       "      <td>ID10210418</td>\n",
       "      <td>13.0</td>\n",
       "      <td>Initial</td>\n",
       "      <td>['Blackcurrant', 'Muguet', 'Tangerine', 'Rose'...</td>\n",
       "      <td>Inter Parfums</td>\n",
       "      <td>3.49</td>\n",
       "      <td>Feminine</td>\n",
       "    </tr>\n",
       "    <tr>\n",
       "      <th>5466</th>\n",
       "      <td>https://www.basenotes.net/ID10213063.html</td>\n",
       "      <td>ID10213063</td>\n",
       "      <td>10.0</td>\n",
       "      <td>Inouï</td>\n",
       "      <td>['Galbanum', 'Peach', 'Juniper', 'Lemon', 'Gre...</td>\n",
       "      <td>Groupe Clarins</td>\n",
       "      <td>4.30</td>\n",
       "      <td>Feminine</td>\n",
       "    </tr>\n",
       "    <tr>\n",
       "      <th>5467</th>\n",
       "      <td>https://www.basenotes.net/ID26120837.html</td>\n",
       "      <td>ID26120837</td>\n",
       "      <td>68.0</td>\n",
       "      <td>Insensé</td>\n",
       "      <td>['Blackcurrant', 'Mandarin', 'Basil', 'Magnoli...</td>\n",
       "      <td>LVMH Moet Hennessy Louis Vuitton</td>\n",
       "      <td>3.88</td>\n",
       "      <td>Masculine</td>\n",
       "    </tr>\n",
       "    <tr>\n",
       "      <th>5468</th>\n",
       "      <td>https://www.basenotes.net/ID26120838.html</td>\n",
       "      <td>ID26120838</td>\n",
       "      <td>38.0</td>\n",
       "      <td>Insensé Ultramarine</td>\n",
       "      <td>['Water fruits', 'Galbanum', 'Cardamom', 'Mint...</td>\n",
       "      <td>LVMH Moet Hennessy Louis Vuitton</td>\n",
       "      <td>3.26</td>\n",
       "      <td>Masculine</td>\n",
       "    </tr>\n",
       "    <tr>\n",
       "      <th>5469</th>\n",
       "      <td>https://www.basenotes.net/ID26143987.html</td>\n",
       "      <td>ID26143987</td>\n",
       "      <td>8.0</td>\n",
       "      <td>Insolence Eau de Parfum</td>\n",
       "      <td>['Red berries']</td>\n",
       "      <td>LVMH Moet Hennessy Louis Vuitton</td>\n",
       "      <td>3.91</td>\n",
       "      <td>Feminine</td>\n",
       "    </tr>\n",
       "  </tbody>\n",
       "</table>\n",
       "<p>5470 rows × 8 columns</p>\n",
       "</div>"
      ],
      "text/plain": [
       "                                       item_url     item_id  review  \\\n",
       "0     https://www.basenotes.net/ID26125576.html  ID26125576    83.0   \n",
       "1     https://www.basenotes.net/ID26125684.html  ID26125684     6.0   \n",
       "2     https://www.basenotes.net/ID26159251.html  ID26159251     5.0   \n",
       "3     https://www.basenotes.net/ID26144138.html  ID26144138    13.0   \n",
       "4     https://www.basenotes.net/ID26143347.html  ID26143347    10.0   \n",
       "...                                         ...         ...     ...   \n",
       "5465  https://www.basenotes.net/ID10210418.html  ID10210418    13.0   \n",
       "5466  https://www.basenotes.net/ID10213063.html  ID10213063    10.0   \n",
       "5467  https://www.basenotes.net/ID26120837.html  ID26120837    68.0   \n",
       "5468  https://www.basenotes.net/ID26120838.html  ID26120838    38.0   \n",
       "5469  https://www.basenotes.net/ID26143987.html  ID26143987     8.0   \n",
       "\n",
       "                          names  \\\n",
       "0     Insolence Eau de Toilette   \n",
       "1                   Inspiration   \n",
       "2                 Instant Crush   \n",
       "3          Insurrection II Pure   \n",
       "4                 Intense Black   \n",
       "...                         ...   \n",
       "5465                    Initial   \n",
       "5466                      Inouï   \n",
       "5467                    Insensé   \n",
       "5468        Insensé Ultramarine   \n",
       "5469    Insolence Eau de Parfum   \n",
       "\n",
       "                                                  notes  \\\n",
       "0     ['Bergamot', 'Raspberry', 'Red berries', 'Lemo...   \n",
       "1     ['Pink peppercorn', 'Pomegranate', 'Mirabelle ...   \n",
       "2     ['Citrus fruits', 'Saffron', 'Ginger', 'Morocc...   \n",
       "3                     ['Pineapple', 'Vanilla', 'Birch']   \n",
       "4     ['Calabrian lemon', 'Italian bergamot', 'Atlas...   \n",
       "...                                                 ...   \n",
       "5465  ['Blackcurrant', 'Muguet', 'Tangerine', 'Rose'...   \n",
       "5466  ['Galbanum', 'Peach', 'Juniper', 'Lemon', 'Gre...   \n",
       "5467  ['Blackcurrant', 'Mandarin', 'Basil', 'Magnoli...   \n",
       "5468  ['Water fruits', 'Galbanum', 'Cardamom', 'Mint...   \n",
       "5469                                    ['Red berries']   \n",
       "\n",
       "                                 house  rating     gender  \n",
       "0     LVMH Moet Hennessy Louis Vuitton    3.41   Feminine  \n",
       "1                     Procter & Gamble    3.52   Feminine  \n",
       "2                     Procter & Gamble    3.86   Feminine  \n",
       "3                     Procter & Gamble    3.79  Masculine  \n",
       "4                               Parour    3.64  Masculine  \n",
       "...                                ...     ...        ...  \n",
       "5465                     Inter Parfums    3.49   Feminine  \n",
       "5466                    Groupe Clarins    4.30   Feminine  \n",
       "5467  LVMH Moet Hennessy Louis Vuitton    3.88  Masculine  \n",
       "5468  LVMH Moet Hennessy Louis Vuitton    3.26  Masculine  \n",
       "5469  LVMH Moet Hennessy Louis Vuitton    3.91   Feminine  \n",
       "\n",
       "[5470 rows x 8 columns]"
      ]
     },
     "execution_count": 1,
     "metadata": {},
     "output_type": "execute_result"
    }
   ],
   "source": [
    "pd.read_csv(\"item_df_final_final.csv\")"
   ]
  },
  {
   "cell_type": "code",
   "execution_count": null,
   "metadata": {},
   "outputs": [],
   "source": []
  }
 ],
 "metadata": {
  "kernelspec": {
   "display_name": "Python 3",
   "language": "python",
   "name": "python3"
  },
  "language_info": {
   "codemirror_mode": {
    "name": "ipython",
    "version": 3
   },
   "file_extension": ".py",
   "mimetype": "text/x-python",
   "name": "python",
   "nbconvert_exporter": "python",
   "pygments_lexer": "ipython3",
   "version": "3.7.6"
  },
  "toc": {
   "base_numbering": 1,
   "nav_menu": {},
   "number_sections": true,
   "sideBar": true,
   "skip_h1_title": true,
   "title_cell": "Table of Contents",
   "title_sidebar": "Contents",
   "toc_cell": false,
   "toc_position": {},
   "toc_section_display": true,
   "toc_window_display": true
  },
  "varInspector": {
   "cols": {
    "lenName": 16,
    "lenType": 16,
    "lenVar": 40
   },
   "kernels_config": {
    "python": {
     "delete_cmd_postfix": "",
     "delete_cmd_prefix": "del ",
     "library": "var_list.py",
     "varRefreshCmd": "print(var_dic_list())"
    },
    "r": {
     "delete_cmd_postfix": ") ",
     "delete_cmd_prefix": "rm(",
     "library": "var_list.r",
     "varRefreshCmd": "cat(var_dic_list()) "
    }
   },
   "types_to_exclude": [
    "module",
    "function",
    "builtin_function_or_method",
    "instance",
    "_Feature"
   ],
   "window_display": false
  }
 },
 "nbformat": 4,
 "nbformat_minor": 4
}
