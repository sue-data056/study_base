{
 "cells": [
  {
   "cell_type": "markdown",
   "metadata": {},
   "source": [
    "# **[ DATA EDA & PRE_PROCESSING ]** for perfume recommendation system"
   ]
  },
  {
   "cell_type": "markdown",
   "metadata": {},
   "source": [
    "## 데이터 결측치 제거"
   ]
  },
  {
   "cell_type": "markdown",
   "metadata": {},
   "source": [
    "### 존재하지 않는 note"
   ]
  },
  {
   "cell_type": "code",
   "execution_count": 1,
   "metadata": {
    "ExecuteTime": {
     "end_time": "2020-10-30T06:17:59.627773Z",
     "start_time": "2020-10-30T06:17:59.597732Z"
    }
   },
   "outputs": [],
   "source": [
    "item_df = pd.read_csv(\"item_df_final.csv\")"
   ]
  },
  {
   "cell_type": "code",
   "execution_count": 2,
   "metadata": {
    "ExecuteTime": {
     "end_time": "2020-10-30T06:18:01.785953Z",
     "start_time": "2020-10-30T06:18:01.774120Z"
    }
   },
   "outputs": [
    {
     "data": {
      "text/plain": [
       "False    5826\n",
       "True      568\n",
       "Name: notes, dtype: int64"
      ]
     },
     "execution_count": 2,
     "metadata": {},
     "output_type": "execute_result"
    }
   ],
   "source": [
    "(item_df.notes == \"[]\").value_counts()"
   ]
  },
  {
   "cell_type": "markdown",
   "metadata": {},
   "source": [
    "- 총 568개의 향수의 note가 존재하지 않음 => 제거"
   ]
  },
  {
   "cell_type": "code",
   "execution_count": 3,
   "metadata": {
    "ExecuteTime": {
     "end_time": "2020-10-30T06:18:03.830728Z",
     "start_time": "2020-10-30T06:18:03.826179Z"
    }
   },
   "outputs": [],
   "source": [
    "item_df = item_df[item_df.notes != '[]']"
   ]
  },
  {
   "cell_type": "markdown",
   "metadata": {},
   "source": [
    "### Removing no ratings"
   ]
  },
  {
   "cell_type": "code",
   "execution_count": 4,
   "metadata": {
    "ExecuteTime": {
     "end_time": "2020-10-30T06:18:05.206247Z",
     "start_time": "2020-10-30T06:18:05.200251Z"
    }
   },
   "outputs": [
    {
     "data": {
      "text/plain": [
       "False    5778\n",
       "True       48\n",
       "Name: rating, dtype: int64"
      ]
     },
     "execution_count": 4,
     "metadata": {},
     "output_type": "execute_result"
    }
   ],
   "source": [
    "(item_df.rating == \"Not enough ratings\").value_counts()"
   ]
  },
  {
   "cell_type": "markdown",
   "metadata": {},
   "source": [
    "- 총 48개의 Not enough ratings => 제거"
   ]
  },
  {
   "cell_type": "code",
   "execution_count": 5,
   "metadata": {
    "ExecuteTime": {
     "end_time": "2020-10-30T06:18:07.223266Z",
     "start_time": "2020-10-30T06:18:07.218897Z"
    }
   },
   "outputs": [],
   "source": [
    "item_df = item_df[item_df.rating != \"Not enough ratings\"]"
   ]
  },
  {
   "cell_type": "code",
   "execution_count": 6,
   "metadata": {
    "ExecuteTime": {
     "end_time": "2020-10-30T06:18:08.731831Z",
     "start_time": "2020-10-30T06:18:08.725990Z"
    }
   },
   "outputs": [
    {
     "data": {
      "text/plain": [
       "False    5547\n",
       "True      231\n",
       "Name: rating, dtype: int64"
      ]
     },
     "execution_count": 6,
     "metadata": {},
     "output_type": "execute_result"
    }
   ],
   "source": [
    "(item_df.rating == \"In Productio\").value_counts()"
   ]
  },
  {
   "cell_type": "markdown",
   "metadata": {},
   "source": [
    "- 총 231개의 In Production : Not enough ratings일 경우 In Production으로 출력 => 제거"
   ]
  },
  {
   "cell_type": "code",
   "execution_count": 7,
   "metadata": {
    "ExecuteTime": {
     "end_time": "2020-10-30T06:18:10.443229Z",
     "start_time": "2020-10-30T06:18:10.438962Z"
    }
   },
   "outputs": [],
   "source": [
    "item_df = item_df[item_df.rating != \"In Productio\"]"
   ]
  },
  {
   "cell_type": "code",
   "execution_count": 8,
   "metadata": {
    "ExecuteTime": {
     "end_time": "2020-10-30T06:18:11.676889Z",
     "start_time": "2020-10-30T06:18:11.670745Z"
    }
   },
   "outputs": [
    {
     "data": {
      "text/plain": [
       "False    5502\n",
       "True       45\n",
       "Name: rating, dtype: int64"
      ]
     },
     "execution_count": 8,
     "metadata": {},
     "output_type": "execute_result"
    }
   ],
   "source": [
    "(item_df.rating == \"Discontinue\").value_counts()"
   ]
  },
  {
   "cell_type": "markdown",
   "metadata": {},
   "source": [
    "- 총 45개의 Discontinued : 더 이상 생산하지 않는 향수 => 제거"
   ]
  },
  {
   "cell_type": "code",
   "execution_count": 9,
   "metadata": {
    "ExecuteTime": {
     "end_time": "2020-10-30T06:18:16.358508Z",
     "start_time": "2020-10-30T06:18:16.354248Z"
    }
   },
   "outputs": [],
   "source": [
    "item_df = item_df[item_df.rating != \"Discontinue\"]"
   ]
  },
  {
   "cell_type": "code",
   "execution_count": 10,
   "metadata": {
    "ExecuteTime": {
     "end_time": "2020-10-30T06:18:16.923624Z",
     "start_time": "2020-10-30T06:18:16.920023Z"
    }
   },
   "outputs": [
    {
     "data": {
      "text/plain": [
       "5502"
      ]
     },
     "execution_count": 10,
     "metadata": {},
     "output_type": "execute_result"
    }
   ],
   "source": [
    "len(item_df)"
   ]
  },
  {
   "cell_type": "markdown",
   "metadata": {},
   "source": [
    "**=> 결측치 제거 후 총 5502개의 향수 데이터**"
   ]
  },
  {
   "cell_type": "code",
   "execution_count": 11,
   "metadata": {
    "ExecuteTime": {
     "end_time": "2020-10-30T06:18:18.767933Z",
     "start_time": "2020-10-30T06:18:18.765420Z"
    }
   },
   "outputs": [],
   "source": [
    "# 인덱스 새롭게 부여해주기\n",
    "item_df.reset_index(inplace=True, drop=True)"
   ]
  },
  {
   "cell_type": "markdown",
   "metadata": {
    "ExecuteTime": {
     "end_time": "2020-10-30T02:58:17.032952Z",
     "start_time": "2020-10-30T02:58:17.007527Z"
    }
   },
   "source": [
    "### 이름 예쁘게 정리"
   ]
  },
  {
   "cell_type": "code",
   "execution_count": 12,
   "metadata": {
    "ExecuteTime": {
     "end_time": "2020-10-30T06:18:20.663984Z",
     "start_time": "2020-10-30T06:18:20.641038Z"
    }
   },
   "outputs": [
    {
     "data": {
      "text/html": [
       "<div>\n",
       "<style scoped>\n",
       "    .dataframe tbody tr th:only-of-type {\n",
       "        vertical-align: middle;\n",
       "    }\n",
       "\n",
       "    .dataframe tbody tr th {\n",
       "        vertical-align: top;\n",
       "    }\n",
       "\n",
       "    .dataframe thead th {\n",
       "        text-align: right;\n",
       "    }\n",
       "</style>\n",
       "<table border=\"1\" class=\"dataframe\">\n",
       "  <thead>\n",
       "    <tr style=\"text-align: right;\">\n",
       "      <th></th>\n",
       "      <th>item_url</th>\n",
       "      <th>item_id</th>\n",
       "      <th>review</th>\n",
       "      <th>names</th>\n",
       "      <th>notes</th>\n",
       "      <th>house</th>\n",
       "      <th>rating</th>\n",
       "      <th>gender</th>\n",
       "    </tr>\n",
       "  </thead>\n",
       "  <tbody>\n",
       "    <tr>\n",
       "      <th>0</th>\n",
       "      <td>https://www.basenotes.net/ID26125576.html</td>\n",
       "      <td>ID26125576</td>\n",
       "      <td>83.0</td>\n",
       "      <td>Insolence Eau de Toilette</td>\n",
       "      <td>['Bergamot', 'Raspberry', 'Red berries', 'Lemo...</td>\n",
       "      <td>LVMH Moet Hennessy Louis Vuitton</td>\n",
       "      <td>3.41</td>\n",
       "      <td>Feminine</td>\n",
       "    </tr>\n",
       "    <tr>\n",
       "      <th>1</th>\n",
       "      <td>https://www.basenotes.net/ID26125684.html</td>\n",
       "      <td>ID26125684</td>\n",
       "      <td>6.0</td>\n",
       "      <td>Inspiration</td>\n",
       "      <td>['Pink peppercorn', 'Pomegranate', 'Mirabelle ...</td>\n",
       "      <td>Procter &amp; Gamble</td>\n",
       "      <td>3.52</td>\n",
       "      <td>Feminine</td>\n",
       "    </tr>\n",
       "    <tr>\n",
       "      <th>2</th>\n",
       "      <td>https://www.basenotes.net/ID26159251.html</td>\n",
       "      <td>ID26159251</td>\n",
       "      <td>5.0</td>\n",
       "      <td>Instant Crush</td>\n",
       "      <td>['Citrus fruits', 'Saffron', 'Ginger', 'Morocc...</td>\n",
       "      <td>Procter &amp; Gamble</td>\n",
       "      <td>3.86</td>\n",
       "      <td>Feminine</td>\n",
       "    </tr>\n",
       "    <tr>\n",
       "      <th>3</th>\n",
       "      <td>https://www.basenotes.net/ID26144138.html</td>\n",
       "      <td>ID26144138</td>\n",
       "      <td>13.0</td>\n",
       "      <td>Insurrection II Pure</td>\n",
       "      <td>['Pineapple', 'Vanilla', 'Birch']</td>\n",
       "      <td>Procter &amp; Gamble</td>\n",
       "      <td>3.79</td>\n",
       "      <td>Masculine</td>\n",
       "    </tr>\n",
       "    <tr>\n",
       "      <th>4</th>\n",
       "      <td>https://www.basenotes.net/ID26143347.html</td>\n",
       "      <td>ID26143347</td>\n",
       "      <td>10.0</td>\n",
       "      <td>Intense Black</td>\n",
       "      <td>['Calabrian lemon', 'Italian bergamot', 'Atlas...</td>\n",
       "      <td>Parour</td>\n",
       "      <td>3.64</td>\n",
       "      <td>Masculine</td>\n",
       "    </tr>\n",
       "    <tr>\n",
       "      <th>...</th>\n",
       "      <td>...</td>\n",
       "      <td>...</td>\n",
       "      <td>...</td>\n",
       "      <td>...</td>\n",
       "      <td>...</td>\n",
       "      <td>...</td>\n",
       "      <td>...</td>\n",
       "      <td>...</td>\n",
       "    </tr>\n",
       "    <tr>\n",
       "      <th>5497</th>\n",
       "      <td>https://www.basenotes.net/ID10210418.html</td>\n",
       "      <td>ID10210418</td>\n",
       "      <td>13.0</td>\n",
       "      <td>Initial</td>\n",
       "      <td>['Blackcurrant', 'Muguet', 'Tangerine', 'Rose'...</td>\n",
       "      <td>Inter Parfums</td>\n",
       "      <td>3.49</td>\n",
       "      <td>Feminine</td>\n",
       "    </tr>\n",
       "    <tr>\n",
       "      <th>5498</th>\n",
       "      <td>https://www.basenotes.net/ID10213063.html</td>\n",
       "      <td>ID10213063</td>\n",
       "      <td>10.0</td>\n",
       "      <td>Inouï</td>\n",
       "      <td>['Galbanum', 'Peach', 'Juniper', 'Lemon', 'Gre...</td>\n",
       "      <td>Groupe Clarins</td>\n",
       "      <td>4.30</td>\n",
       "      <td>Feminine</td>\n",
       "    </tr>\n",
       "    <tr>\n",
       "      <th>5499</th>\n",
       "      <td>https://www.basenotes.net/ID26120837.html</td>\n",
       "      <td>ID26120837</td>\n",
       "      <td>68.0</td>\n",
       "      <td>Insensé</td>\n",
       "      <td>['Blackcurrant', 'Mandarin', 'Basil.', 'Magnol...</td>\n",
       "      <td>LVMH Moet Hennessy Louis Vuitton</td>\n",
       "      <td>3.88</td>\n",
       "      <td>Masculine</td>\n",
       "    </tr>\n",
       "    <tr>\n",
       "      <th>5500</th>\n",
       "      <td>https://www.basenotes.net/ID26120838.html</td>\n",
       "      <td>ID26120838</td>\n",
       "      <td>38.0</td>\n",
       "      <td>Insensé Ultramarine</td>\n",
       "      <td>['Water fruits', 'Galbanum.', 'Cardamom', 'Min...</td>\n",
       "      <td>LVMH Moet Hennessy Louis Vuitton</td>\n",
       "      <td>3.26</td>\n",
       "      <td>Masculine</td>\n",
       "    </tr>\n",
       "    <tr>\n",
       "      <th>5501</th>\n",
       "      <td>https://www.basenotes.net/ID26143987.html</td>\n",
       "      <td>ID26143987</td>\n",
       "      <td>8.0</td>\n",
       "      <td>Insolence Eau de Parfum</td>\n",
       "      <td>['Red berries', '', '']</td>\n",
       "      <td>LVMH Moet Hennessy Louis Vuitton</td>\n",
       "      <td>3.91</td>\n",
       "      <td>Feminine</td>\n",
       "    </tr>\n",
       "  </tbody>\n",
       "</table>\n",
       "<p>5502 rows × 8 columns</p>\n",
       "</div>"
      ],
      "text/plain": [
       "                                       item_url     item_id  review  \\\n",
       "0     https://www.basenotes.net/ID26125576.html  ID26125576    83.0   \n",
       "1     https://www.basenotes.net/ID26125684.html  ID26125684     6.0   \n",
       "2     https://www.basenotes.net/ID26159251.html  ID26159251     5.0   \n",
       "3     https://www.basenotes.net/ID26144138.html  ID26144138    13.0   \n",
       "4     https://www.basenotes.net/ID26143347.html  ID26143347    10.0   \n",
       "...                                         ...         ...     ...   \n",
       "5497  https://www.basenotes.net/ID10210418.html  ID10210418    13.0   \n",
       "5498  https://www.basenotes.net/ID10213063.html  ID10213063    10.0   \n",
       "5499  https://www.basenotes.net/ID26120837.html  ID26120837    68.0   \n",
       "5500  https://www.basenotes.net/ID26120838.html  ID26120838    38.0   \n",
       "5501  https://www.basenotes.net/ID26143987.html  ID26143987     8.0   \n",
       "\n",
       "                          names  \\\n",
       "0     Insolence Eau de Toilette   \n",
       "1                   Inspiration   \n",
       "2                 Instant Crush   \n",
       "3          Insurrection II Pure   \n",
       "4                 Intense Black   \n",
       "...                         ...   \n",
       "5497                    Initial   \n",
       "5498                      Inouï   \n",
       "5499                    Insensé   \n",
       "5500        Insensé Ultramarine   \n",
       "5501    Insolence Eau de Parfum   \n",
       "\n",
       "                                                  notes  \\\n",
       "0     ['Bergamot', 'Raspberry', 'Red berries', 'Lemo...   \n",
       "1     ['Pink peppercorn', 'Pomegranate', 'Mirabelle ...   \n",
       "2     ['Citrus fruits', 'Saffron', 'Ginger', 'Morocc...   \n",
       "3                     ['Pineapple', 'Vanilla', 'Birch']   \n",
       "4     ['Calabrian lemon', 'Italian bergamot', 'Atlas...   \n",
       "...                                                 ...   \n",
       "5497  ['Blackcurrant', 'Muguet', 'Tangerine', 'Rose'...   \n",
       "5498  ['Galbanum', 'Peach', 'Juniper', 'Lemon', 'Gre...   \n",
       "5499  ['Blackcurrant', 'Mandarin', 'Basil.', 'Magnol...   \n",
       "5500  ['Water fruits', 'Galbanum.', 'Cardamom', 'Min...   \n",
       "5501                            ['Red berries', '', '']   \n",
       "\n",
       "                                 house rating     gender  \n",
       "0     LVMH Moet Hennessy Louis Vuitton   3.41   Feminine  \n",
       "1                     Procter & Gamble   3.52   Feminine  \n",
       "2                     Procter & Gamble   3.86   Feminine  \n",
       "3                     Procter & Gamble   3.79  Masculine  \n",
       "4                               Parour   3.64  Masculine  \n",
       "...                                ...    ...        ...  \n",
       "5497                     Inter Parfums   3.49   Feminine  \n",
       "5498                    Groupe Clarins   4.30   Feminine  \n",
       "5499  LVMH Moet Hennessy Louis Vuitton   3.88  Masculine  \n",
       "5500  LVMH Moet Hennessy Louis Vuitton   3.26  Masculine  \n",
       "5501  LVMH Moet Hennessy Louis Vuitton   3.91   Feminine  \n",
       "\n",
       "[5502 rows x 8 columns]"
      ]
     },
     "execution_count": 12,
     "metadata": {},
     "output_type": "execute_result"
    }
   ],
   "source": [
    "# names에서 information 글자 삭제하는 법\n",
    "item_df['names'] = item_df['names'].str.replace(' information', \"\")\n",
    "item_df"
   ]
  },
  {
   "cell_type": "code",
   "execution_count": 14,
   "metadata": {
    "ExecuteTime": {
     "end_time": "2020-10-30T03:09:22.393853Z",
     "start_time": "2020-10-30T03:09:22.309770Z"
    }
   },
   "outputs": [],
   "source": [
    "item_df.to_csv(\"item_df_prepro.csv\", index=False)"
   ]
  },
  {
   "cell_type": "markdown",
   "metadata": {},
   "source": [
    "## 데이터 가공 및 전처리"
   ]
  },
  {
   "cell_type": "code",
   "execution_count": 33,
   "metadata": {
    "ExecuteTime": {
     "end_time": "2020-10-31T07:13:28.251808Z",
     "start_time": "2020-10-31T07:13:28.169031Z"
    }
   },
   "outputs": [],
   "source": [
    "item_df = pd.read_csv(\"item_df_prepro.csv\")"
   ]
  },
  {
   "cell_type": "code",
   "execution_count": 34,
   "metadata": {
    "ExecuteTime": {
     "end_time": "2020-10-31T07:13:29.705729Z",
     "start_time": "2020-10-31T07:13:29.700354Z"
    }
   },
   "outputs": [],
   "source": [
    "from ast import literal_eval"
   ]
  },
  {
   "cell_type": "markdown",
   "metadata": {},
   "source": [
    "### note 처리"
   ]
  },
  {
   "cell_type": "code",
   "execution_count": 35,
   "metadata": {
    "ExecuteTime": {
     "end_time": "2020-10-31T07:13:30.512125Z",
     "start_time": "2020-10-31T07:13:30.315505Z"
    }
   },
   "outputs": [
    {
     "data": {
      "text/plain": [
       "0       [Bergamot, Raspberry, Red berries, Lemon, Oran...\n",
       "1       [Pink peppercorn, Pomegranate, Mirabelle plum,...\n",
       "2       [Citrus fruits, Saffron, Ginger, Moroccan rose...\n",
       "3                             [Pineapple, Vanilla, Birch]\n",
       "4       [Calabrian lemon, Italian bergamot, Atlas ceda...\n",
       "                              ...                        \n",
       "5497    [Blackcurrant, Muguet, Tangerine, Rose, Jasmin...\n",
       "5498    [Galbanum, Peach, Juniper, Lemon, Green accord...\n",
       "5499    [Blackcurrant, Mandarin, Basil., Magnolia, Lil...\n",
       "5500    [Water fruits, Galbanum., Cardamom, Mint Leave...\n",
       "5501                                    [Red berries, , ]\n",
       "Name: notes, Length: 5502, dtype: object"
      ]
     },
     "execution_count": 35,
     "metadata": {},
     "output_type": "execute_result"
    }
   ],
   "source": [
    "item_df[\"notes\"] = item_df[\"notes\"].apply(literal_eval)\n",
    "item_df[\"notes\"]"
   ]
  },
  {
   "cell_type": "code",
   "execution_count": 36,
   "metadata": {
    "ExecuteTime": {
     "end_time": "2020-10-31T07:13:33.970990Z",
     "start_time": "2020-10-31T07:13:33.177641Z"
    },
    "collapsed": true
   },
   "outputs": [
    {
     "data": {
      "text/plain": [
       "0       [Bergamot, Raspberry, Red berries, Lemon, Oran...\n",
       "1       [Pink peppercorn, Pomegranate, Mirabelle plum,...\n",
       "2       [Citrus fruits, Saffron, Ginger, Moroccan rose...\n",
       "3                             [Pineapple, Vanilla, Birch]\n",
       "4       [Calabrian lemon, Italian bergamot, Atlas ceda...\n",
       "                              ...                        \n",
       "5497    [Blackcurrant, Muguet, Tangerine, Rose, Jasmin...\n",
       "5498    [Galbanum, Peach, Juniper, Lemon, Green accord...\n",
       "5499    [Blackcurrant, Mandarin, Basil., Magnolia, Lil...\n",
       "5500    [Water fruits, Galbanum., Cardamom, Mint Leave...\n",
       "5501                                      ['Red-berries']\n",
       "Name: notes, Length: 5502, dtype: object"
      ]
     },
     "execution_count": 36,
     "metadata": {},
     "output_type": "execute_result"
    }
   ],
   "source": [
    "for idx, row in item_df.iterrows():\n",
    "    if \"\" in row.notes :\n",
    "        y = [x.replace(\" \", \"-\") for x in row.notes]\n",
    "        x = \" \".join(y).strip().split(\" \")\n",
    "        item_df.loc[idx, \"notes\"] = str(x)\n",
    "item_df[\"notes\"]"
   ]
  },
  {
   "cell_type": "code",
   "execution_count": 37,
   "metadata": {
    "ExecuteTime": {
     "end_time": "2020-10-31T07:13:38.646907Z",
     "start_time": "2020-10-31T07:13:38.538366Z"
    }
   },
   "outputs": [],
   "source": [
    "item_df.to_csv(\"item_df_for_checking.csv\", index=False)"
   ]
  },
  {
   "cell_type": "code",
   "execution_count": 13,
   "metadata": {
    "ExecuteTime": {
     "end_time": "2020-10-30T09:43:22.504241Z",
     "start_time": "2020-10-30T09:43:22.491724Z"
    }
   },
   "outputs": [
    {
     "data": {
      "text/plain": [
       "False    5280\n",
       "True      222\n",
       "Name: notes, dtype: int64"
      ]
     },
     "execution_count": 13,
     "metadata": {},
     "output_type": "execute_result"
    }
   ],
   "source": [
    "(item_df[\"notes\"] == \"['']\").value_counts()"
   ]
  },
  {
   "cell_type": "code",
   "execution_count": 74,
   "metadata": {
    "ExecuteTime": {
     "end_time": "2020-10-31T07:48:44.836479Z",
     "start_time": "2020-10-31T07:48:44.798574Z"
    }
   },
   "outputs": [],
   "source": [
    "item_df = pd.read_csv(\"item_df_for_checking.csv\")"
   ]
  },
  {
   "cell_type": "code",
   "execution_count": 75,
   "metadata": {
    "ExecuteTime": {
     "end_time": "2020-10-31T07:48:50.319543Z",
     "start_time": "2020-10-31T07:48:50.312910Z"
    }
   },
   "outputs": [],
   "source": [
    "idx_blank = item_df[item_df[\"notes\"] == \"['']\"].index"
   ]
  },
  {
   "cell_type": "code",
   "execution_count": 76,
   "metadata": {
    "ExecuteTime": {
     "end_time": "2020-10-31T07:57:37.490857Z",
     "start_time": "2020-10-31T07:48:51.168141Z"
    },
    "collapsed": true
   },
   "outputs": [
    {
     "name": "stdout",
     "output_type": "stream",
     "text": [
      "====== 19 idx =====\n",
      "====== 27 idx =====\n",
      "====== 50 idx =====\n",
      "====== 75 idx =====\n",
      "====== 95 idx =====\n",
      "====== 96 idx =====\n",
      "====== 140 idx =====\n",
      "====== 141 idx =====\n",
      "====== 201 idx =====\n",
      "====== 240 idx =====\n",
      "====== 262 idx =====\n",
      "====== 285 idx =====\n",
      "====== 289 idx =====\n",
      "====== 334 idx =====\n",
      "====== 335 idx =====\n",
      "====== 357 idx =====\n",
      "====== 376 idx =====\n",
      "====== 378 idx =====\n",
      "====== 379 idx =====\n",
      "====== 409 idx =====\n",
      "====== 452 idx =====\n",
      "====== 489 idx =====\n",
      "====== 497 idx =====\n",
      "====== 505 idx =====\n",
      "====== 568 idx =====\n",
      "====== 617 idx =====\n",
      "====== 620 idx =====\n",
      "====== 651 idx =====\n",
      "====== 666 idx =====\n",
      "====== 684 idx =====\n",
      "====== 725 idx =====\n",
      "====== 768 idx =====\n",
      "====== 776 idx =====\n",
      "====== 787 idx =====\n",
      "====== 794 idx =====\n",
      "====== 833 idx =====\n",
      "====== 978 idx =====\n",
      "====== 1014 idx =====\n",
      "====== 1026 idx =====\n",
      "====== 1029 idx =====\n",
      "====== 1036 idx =====\n",
      "====== 1038 idx =====\n",
      "====== 1045 idx =====\n",
      "drop\n",
      "====== 1049 idx =====\n",
      "====== 1051 idx =====\n",
      "====== 1058 idx =====\n",
      "====== 1071 idx =====\n",
      "====== 1073 idx =====\n",
      "====== 1074 idx =====\n",
      "====== 1077 idx =====\n",
      "====== 1112 idx =====\n",
      "====== 1116 idx =====\n",
      "====== 1123 idx =====\n",
      "====== 1127 idx =====\n",
      "====== 1154 idx =====\n",
      "====== 1161 idx =====\n",
      "====== 1168 idx =====\n",
      "====== 1220 idx =====\n",
      "====== 1221 idx =====\n",
      "====== 1222 idx =====\n",
      "====== 1223 idx =====\n",
      "====== 1224 idx =====\n",
      "====== 1225 idx =====\n",
      "====== 1227 idx =====\n",
      "====== 1228 idx =====\n",
      "====== 1229 idx =====\n",
      "====== 1230 idx =====\n",
      "====== 1264 idx =====\n",
      "====== 1286 idx =====\n",
      "====== 1309 idx =====\n",
      "====== 1313 idx =====\n",
      "====== 1315 idx =====\n",
      "====== 1337 idx =====\n",
      "====== 1343 idx =====\n",
      "====== 1399 idx =====\n",
      "====== 1400 idx =====\n",
      "====== 1402 idx =====\n",
      "====== 1405 idx =====\n",
      "====== 1446 idx =====\n",
      "====== 1484 idx =====\n",
      "====== 1523 idx =====\n",
      "====== 1524 idx =====\n",
      "====== 1527 idx =====\n",
      "====== 1557 idx =====\n",
      "====== 1562 idx =====\n",
      "====== 1571 idx =====\n",
      "====== 1594 idx =====\n",
      "====== 1640 idx =====\n",
      "====== 1644 idx =====\n",
      "====== 1712 idx =====\n",
      "====== 1738 idx =====\n",
      "====== 1741 idx =====\n",
      "====== 1744 idx =====\n",
      "====== 1787 idx =====\n",
      "====== 1829 idx =====\n",
      "====== 1864 idx =====\n",
      "====== 1890 idx =====\n",
      "====== 1935 idx =====\n",
      "====== 1945 idx =====\n",
      "====== 1953 idx =====\n",
      "====== 1966 idx =====\n",
      "====== 1985 idx =====\n",
      "====== 2010 idx =====\n",
      "====== 2018 idx =====\n",
      "====== 2107 idx =====\n",
      "====== 2149 idx =====\n",
      "drop\n",
      "====== 2150 idx =====\n",
      "drop\n",
      "====== 2232 idx =====\n",
      "====== 2233 idx =====\n",
      "====== 2241 idx =====\n",
      "====== 2253 idx =====\n",
      "====== 2297 idx =====\n",
      "====== 2388 idx =====\n",
      "====== 2390 idx =====\n",
      "====== 2404 idx =====\n",
      "====== 2417 idx =====\n",
      "====== 2494 idx =====\n",
      "====== 2514 idx =====\n",
      "====== 2517 idx =====\n",
      "====== 2598 idx =====\n",
      "====== 2751 idx =====\n",
      "====== 2778 idx =====\n",
      "====== 2782 idx =====\n",
      "====== 2791 idx =====\n",
      "====== 2841 idx =====\n",
      "====== 2864 idx =====\n",
      "====== 2877 idx =====\n",
      "====== 2881 idx =====\n",
      "====== 2945 idx =====\n",
      "====== 2957 idx =====\n",
      "====== 2982 idx =====\n",
      "====== 3004 idx =====\n",
      "====== 3143 idx =====\n",
      "====== 3210 idx =====\n",
      "====== 3223 idx =====\n",
      "====== 3246 idx =====\n",
      "====== 3305 idx =====\n",
      "====== 3381 idx =====\n",
      "====== 3382 idx =====\n",
      "====== 3397 idx =====\n",
      "====== 3404 idx =====\n",
      "====== 3411 idx =====\n",
      "====== 3493 idx =====\n",
      "====== 3499 idx =====\n",
      "====== 3559 idx =====\n",
      "====== 3636 idx =====\n",
      "====== 3648 idx =====\n",
      "====== 3681 idx =====\n",
      "====== 3690 idx =====\n",
      "drop\n",
      "====== 3696 idx =====\n",
      "====== 3729 idx =====\n",
      "====== 3730 idx =====\n",
      "====== 3740 idx =====\n",
      "====== 3741 idx =====\n",
      "====== 3747 idx =====\n",
      "====== 3748 idx =====\n",
      "====== 3775 idx =====\n",
      "====== 3804 idx =====\n",
      "====== 3831 idx =====\n",
      "====== 3832 idx =====\n",
      "====== 3842 idx =====\n",
      "====== 3844 idx =====\n",
      "====== 3868 idx =====\n",
      "====== 3932 idx =====\n",
      "====== 4060 idx =====\n",
      "====== 4069 idx =====\n",
      "====== 4094 idx =====\n",
      "====== 4102 idx =====\n",
      "====== 4103 idx =====\n",
      "====== 4105 idx =====\n",
      "====== 4147 idx =====\n",
      "====== 4180 idx =====\n",
      "====== 4228 idx =====\n",
      "====== 4252 idx =====\n",
      "====== 4304 idx =====\n",
      "====== 4324 idx =====\n",
      "====== 4344 idx =====\n",
      "====== 4369 idx =====\n",
      "====== 4455 idx =====\n",
      "====== 4486 idx =====\n",
      "====== 4488 idx =====\n",
      "====== 4490 idx =====\n",
      "====== 4521 idx =====\n",
      "====== 4526 idx =====\n",
      "====== 4545 idx =====\n",
      "====== 4583 idx =====\n",
      "====== 4588 idx =====\n",
      "====== 4609 idx =====\n",
      "====== 4634 idx =====\n",
      "====== 4700 idx =====\n",
      "====== 4701 idx =====\n",
      "====== 4712 idx =====\n",
      "====== 4713 idx =====\n",
      "====== 4717 idx =====\n",
      "====== 4735 idx =====\n",
      "====== 4754 idx =====\n",
      "====== 4762 idx =====\n",
      "====== 4764 idx =====\n",
      "====== 4913 idx =====\n",
      "====== 4934 idx =====\n",
      "====== 4985 idx =====\n",
      "====== 5049 idx =====\n",
      "====== 5084 idx =====\n",
      "====== 5086 idx =====\n",
      "====== 5112 idx =====\n",
      "====== 5117 idx =====\n",
      "====== 5119 idx =====\n",
      "====== 5167 idx =====\n",
      "====== 5169 idx =====\n",
      "====== 5178 idx =====\n",
      "====== 5200 idx =====\n",
      "====== 5201 idx =====\n",
      "====== 5215 idx =====\n",
      "====== 5240 idx =====\n",
      "====== 5254 idx =====\n",
      "====== 5256 idx =====\n",
      "====== 5270 idx =====\n",
      "====== 5283 idx =====\n",
      "====== 5397 idx =====\n",
      "====== 5401 idx =====\n",
      "====== 5462 idx =====\n",
      "====== 5496 idx =====\n"
     ]
    }
   ],
   "source": [
    "import requests\n",
    "from bs4 import BeautifulSoup\n",
    "\n",
    "for idx in idx_blank:\n",
    "    print(\"====== {} idx =====\".format(idx))\n",
    "    url = item_df.loc[idx, \"item_url\"]\n",
    "    req = requests.get(url=url)\n",
    "    soup = BeautifulSoup(req.text, 'html.parser')\n",
    "    try:\n",
    "        note = soup.find(\"div\", {\"class\":\"notespyramid notespyramidb\"}).select(\"div\")\n",
    "        ls = []\n",
    "        for x in note:\n",
    "            for y  in x.text.strip().split(\", \"):\n",
    "                ls.append(y)\n",
    "        item_df.loc[idx, \"notes\"] = str(ls)\n",
    "    except:\n",
    "        item_df.drop(index=idx, inplace=True)\n",
    "        print(\"drop\")"
   ]
  },
  {
   "cell_type": "code",
   "execution_count": 77,
   "metadata": {
    "ExecuteTime": {
     "end_time": "2020-10-31T07:57:38.259463Z",
     "start_time": "2020-10-31T07:57:37.810031Z"
    }
   },
   "outputs": [],
   "source": [
    "idx_top = []\n",
    "for idx, row in item_df.iterrows():\n",
    "    if 'Top-Notes' in row.notes:\n",
    "        idx_top.append(idx)"
   ]
  },
  {
   "cell_type": "code",
   "execution_count": 78,
   "metadata": {
    "ExecuteTime": {
     "end_time": "2020-10-31T08:00:10.348869Z",
     "start_time": "2020-10-31T07:57:38.573223Z"
    },
    "collapsed": true
   },
   "outputs": [
    {
     "name": "stdout",
     "output_type": "stream",
     "text": [
      "====== 113 idx =====\n",
      "====== 154 idx =====\n",
      "====== 187 idx =====\n",
      "====== 740 idx =====\n",
      "====== 1028 idx =====\n",
      "====== 1095 idx =====\n",
      "====== 1102 idx =====\n",
      "====== 1128 idx =====\n",
      "====== 1169 idx =====\n",
      "====== 1241 idx =====\n",
      "====== 1277 idx =====\n",
      "====== 1467 idx =====\n",
      "====== 1563 idx =====\n",
      "====== 1608 idx =====\n",
      "====== 1751 idx =====\n",
      "====== 1827 idx =====\n",
      "====== 1828 idx =====\n",
      "====== 1833 idx =====\n",
      "====== 1834 idx =====\n",
      "====== 1835 idx =====\n",
      "====== 1837 idx =====\n",
      "====== 1843 idx =====\n",
      "====== 2077 idx =====\n",
      "====== 2101 idx =====\n",
      "====== 2216 idx =====\n",
      "====== 2268 idx =====\n",
      "====== 2350 idx =====\n",
      "====== 2590 idx =====\n",
      "====== 2655 idx =====\n",
      "====== 2836 idx =====\n",
      "====== 2876 idx =====\n",
      "====== 2902 idx =====\n",
      "====== 2932 idx =====\n",
      "====== 2941 idx =====\n",
      "====== 2943 idx =====\n",
      "====== 2947 idx =====\n",
      "====== 2952 idx =====\n",
      "====== 2953 idx =====\n",
      "====== 2959 idx =====\n",
      "====== 3041 idx =====\n",
      "====== 3162 idx =====\n",
      "====== 3243 idx =====\n",
      "====== 3467 idx =====\n",
      "====== 3518 idx =====\n",
      "====== 3569 idx =====\n",
      "====== 3695 idx =====\n",
      "====== 3698 idx =====\n",
      "====== 4112 idx =====\n",
      "====== 4114 idx =====\n",
      "====== 4595 idx =====\n",
      "====== 4628 idx =====\n",
      "====== 4817 idx =====\n",
      "====== 5233 idx =====\n",
      "====== 5244 idx =====\n"
     ]
    }
   ],
   "source": [
    "for idx in idx_top:\n",
    "    print(\"====== {} idx =====\".format(idx))\n",
    "    url = item_df.loc[idx, \"item_url\"]\n",
    "    req = requests.get(url=url)\n",
    "    soup = BeautifulSoup(req.text, 'html.parser')\n",
    "    try:\n",
    "        note = soup.find(\"div\", {\"class\":\"notespyramid notespyramidb\"}).select(\"div\")\n",
    "        ls = []\n",
    "        for x in note:\n",
    "            for y  in x.text.strip().split(\", \"):\n",
    "                ls.append(y)\n",
    "        item_df.loc[idx, \"notes\"] = str(ls)\n",
    "    except:\n",
    "        item_df.drop(index=idx, inplace=True)\n",
    "        print(\"drop\")"
   ]
  },
  {
   "cell_type": "code",
   "execution_count": 79,
   "metadata": {
    "ExecuteTime": {
     "end_time": "2020-10-31T08:00:11.216835Z",
     "start_time": "2020-10-31T08:00:10.731080Z"
    }
   },
   "outputs": [],
   "source": [
    "idx_base = []\n",
    "for idx, row in item_df.iterrows():\n",
    "    if \"Base-notes\" in row.notes:\n",
    "        idx_base.append(idx)"
   ]
  },
  {
   "cell_type": "code",
   "execution_count": 80,
   "metadata": {
    "ExecuteTime": {
     "end_time": "2020-10-31T08:03:16.515375Z",
     "start_time": "2020-10-31T08:00:11.584675Z"
    },
    "collapsed": true
   },
   "outputs": [
    {
     "name": "stdout",
     "output_type": "stream",
     "text": [
      "====== 245 idx =====\n",
      "====== 281 idx =====\n",
      "====== 447 idx =====\n",
      "====== 466 idx =====\n",
      "====== 494 idx =====\n",
      "====== 554 idx =====\n",
      "====== 602 idx =====\n",
      "====== 616 idx =====\n",
      "====== 757 idx =====\n",
      "====== 852 idx =====\n",
      "====== 906 idx =====\n",
      "====== 912 idx =====\n",
      "====== 922 idx =====\n",
      "====== 946 idx =====\n",
      "====== 975 idx =====\n",
      "====== 1030 idx =====\n",
      "====== 1054 idx =====\n",
      "====== 1226 idx =====\n",
      "====== 1292 idx =====\n",
      "====== 1334 idx =====\n",
      "====== 1341 idx =====\n",
      "====== 1342 idx =====\n",
      "====== 1353 idx =====\n",
      "====== 1493 idx =====\n",
      "====== 1502 idx =====\n",
      "====== 1655 idx =====\n",
      "====== 1669 idx =====\n",
      "====== 1731 idx =====\n",
      "====== 1750 idx =====\n",
      "====== 1819 idx =====\n",
      "====== 1865 idx =====\n",
      "====== 1885 idx =====\n",
      "====== 1895 idx =====\n",
      "====== 2032 idx =====\n",
      "====== 2049 idx =====\n",
      "====== 2169 idx =====\n",
      "====== 2174 idx =====\n",
      "====== 2249 idx =====\n",
      "====== 2257 idx =====\n",
      "====== 2378 idx =====\n",
      "====== 2473 idx =====\n",
      "====== 2498 idx =====\n",
      "====== 2694 idx =====\n",
      "====== 2706 idx =====\n",
      "====== 2723 idx =====\n",
      "====== 2816 idx =====\n",
      "====== 2820 idx =====\n",
      "====== 2862 idx =====\n",
      "====== 2940 idx =====\n",
      "====== 3063 idx =====\n",
      "====== 3267 idx =====\n",
      "====== 3435 idx =====\n",
      "====== 3468 idx =====\n",
      "====== 3492 idx =====\n",
      "====== 3552 idx =====\n",
      "====== 3563 idx =====\n",
      "====== 3568 idx =====\n",
      "====== 3572 idx =====\n",
      "====== 3597 idx =====\n",
      "====== 3689 idx =====\n",
      "====== 3737 idx =====\n",
      "====== 3784 idx =====\n",
      "====== 3933 idx =====\n",
      "====== 4010 idx =====\n",
      "====== 4041 idx =====\n",
      "====== 4216 idx =====\n",
      "====== 4272 idx =====\n",
      "====== 4548 idx =====\n",
      "====== 4660 idx =====\n",
      "====== 4731 idx =====\n",
      "====== 4737 idx =====\n",
      "====== 4782 idx =====\n",
      "====== 4786 idx =====\n",
      "====== 4901 idx =====\n",
      "====== 4937 idx =====\n",
      "====== 4959 idx =====\n",
      "====== 4962 idx =====\n",
      "====== 4969 idx =====\n",
      "====== 5138 idx =====\n",
      "====== 5203 idx =====\n",
      "====== 5310 idx =====\n",
      "====== 5311 idx =====\n",
      "====== 5313 idx =====\n",
      "====== 5413 idx =====\n",
      "====== 5414 idx =====\n",
      "====== 5425 idx =====\n"
     ]
    }
   ],
   "source": [
    "for idx in idx_base:\n",
    "    print(\"====== {} idx =====\".format(idx))\n",
    "    url = item_df.loc[idx, \"item_url\"]\n",
    "    req = requests.get(url=url)\n",
    "    soup = BeautifulSoup(req.text, 'html.parser')\n",
    "    try:\n",
    "        note = soup.find(\"div\", {\"class\":\"notespyramid notespyramidb\"}).select(\"div\")\n",
    "        ls = []\n",
    "        for x in note:\n",
    "            for y  in x.text.strip().split(\", \"):\n",
    "                ls.append(y)\n",
    "        item_df.loc[idx, \"notes\"] = str(ls)\n",
    "    except:\n",
    "        item_df.drop(index=idx, inplace=True)\n",
    "        print(\"drop\")"
   ]
  },
  {
   "cell_type": "code",
   "execution_count": 81,
   "metadata": {
    "ExecuteTime": {
     "end_time": "2020-10-31T08:03:17.287119Z",
     "start_time": "2020-10-31T08:03:17.133718Z"
    },
    "collapsed": true
   },
   "outputs": [
    {
     "data": {
      "text/plain": [
       "0       [Bergamot, Raspberry, Red berries, Lemon, Oran...\n",
       "1       [Pink peppercorn, Pomegranate, Mirabelle plum,...\n",
       "2       [Citrus fruits, Saffron, Ginger, Moroccan rose...\n",
       "3                             [Pineapple, Vanilla, Birch]\n",
       "4       [Calabrian lemon, Italian bergamot, Atlas ceda...\n",
       "                              ...                        \n",
       "5497    [Blackcurrant, Muguet, Tangerine, Rose, Jasmin...\n",
       "5498    [Galbanum, Peach, Juniper, Lemon, Green accord...\n",
       "5499    [Blackcurrant, Mandarin, Basil., Magnolia, Lil...\n",
       "5500    [Water fruits, Galbanum., Cardamom, Mint Leave...\n",
       "5501                                        [Red-berries]\n",
       "Name: notes, Length: 5498, dtype: object"
      ]
     },
     "execution_count": 81,
     "metadata": {},
     "output_type": "execute_result"
    }
   ],
   "source": [
    "item_df[\"notes\"] = item_df[\"notes\"].apply(literal_eval)"
   ]
  },
  {
   "cell_type": "code",
   "execution_count": 82,
   "metadata": {
    "ExecuteTime": {
     "end_time": "2020-10-31T08:03:18.817752Z",
     "start_time": "2020-10-31T08:03:18.029600Z"
    }
   },
   "outputs": [],
   "source": [
    "# 문장 들어가있는거 제거하기\n",
    "idx_sentence = []\n",
    "for idx, row in item_df.iterrows():\n",
    "    for x in row.notes:\n",
    "        if len(x) > 50 :\n",
    "            item_df.loc[idx,\"notes\"].remove(x)"
   ]
  },
  {
   "cell_type": "code",
   "execution_count": 87,
   "metadata": {
    "ExecuteTime": {
     "end_time": "2020-10-31T08:04:26.259113Z",
     "start_time": "2020-10-31T08:04:22.145146Z"
    }
   },
   "outputs": [],
   "source": [
    "for idx, row in item_df.iterrows():\n",
    "        y = [x.replace(\"-\", \" \") for x in row.notes]\n",
    "        item_df.loc[idx, \"notes\"] = str(y)"
   ]
  },
  {
   "cell_type": "code",
   "execution_count": 97,
   "metadata": {
    "ExecuteTime": {
     "end_time": "2020-10-31T08:11:30.534570Z",
     "start_time": "2020-10-31T08:11:30.353232Z"
    },
    "collapsed": true
   },
   "outputs": [
    {
     "data": {
      "text/plain": [
       "0       [Bergamot, Raspberry, Red berries, Lemon, Oran...\n",
       "1       [Pink peppercorn, Pomegranate, Mirabelle plum,...\n",
       "2       [Citrus fruits, Saffron, Ginger, Moroccan rose...\n",
       "3                             [Pineapple, Vanilla, Birch]\n",
       "4       [Calabrian lemon, Italian bergamot, Atlas ceda...\n",
       "                              ...                        \n",
       "5497    [Blackcurrant, Muguet, Tangerine, Rose, Jasmin...\n",
       "5498    [Galbanum, Peach, Juniper, Lemon, Green accord...\n",
       "5499    [Blackcurrant, Mandarin, Basil, Magnolia, Lily...\n",
       "5500    [Water fruits, Galbanum, Cardamom, Mint Leaves...\n",
       "5501                                        [Red berries]\n",
       "Name: notes, Length: 5498, dtype: object"
      ]
     },
     "execution_count": 97,
     "metadata": {},
     "output_type": "execute_result"
    }
   ],
   "source": [
    "item_df[\"notes\"] = item_df[\"notes\"].apply(literal_eval)"
   ]
  },
  {
   "cell_type": "code",
   "execution_count": 90,
   "metadata": {
    "ExecuteTime": {
     "end_time": "2020-10-31T08:04:43.479871Z",
     "start_time": "2020-10-31T08:04:39.650109Z"
    }
   },
   "outputs": [],
   "source": [
    "item_df[\"notes\"] = item_df[\"notes\"].apply(literal_eval)\n",
    "for idx, row in item_df.iterrows():\n",
    "        y = [x.replace(\".\", \" \") for x in row.notes]\n",
    "        item_df.loc[idx, \"notes\"] = str(y)"
   ]
  },
  {
   "cell_type": "code",
   "execution_count": 95,
   "metadata": {
    "ExecuteTime": {
     "end_time": "2020-10-31T08:08:07.632544Z",
     "start_time": "2020-10-31T08:08:03.899413Z"
    }
   },
   "outputs": [],
   "source": [
    "item_df[\"notes\"] = item_df[\"notes\"].apply(literal_eval)  \n",
    "for idx, row in item_df.iterrows():      \n",
    "    y = [x.strip() for x in row.notes]\n",
    "    item_df.loc[idx, \"notes\"] = str(y)"
   ]
  },
  {
   "cell_type": "markdown",
   "metadata": {},
   "source": [
    "### rating 처리"
   ]
  },
  {
   "cell_type": "code",
   "execution_count": null,
   "metadata": {},
   "outputs": [],
   "source": [
    "idx_wrong_rate = []\n",
    "for idx, row in item_df.iterrows():\n",
    "    try:\n",
    "        rate = float(row.rating)\n",
    "    except:\n",
    "        idx_wrong_rate.append(idx)\n",
    "        print(\"========= {} 오류 =========\".format(idx))"
   ]
  },
  {
   "cell_type": "code",
   "execution_count": null,
   "metadata": {},
   "outputs": [],
   "source": [
    "item_df_final = item_df.drop(index=idx_wrong_rate, axis=0)\n",
    "item_df_final.reset_index(inplace=True, drop=True)"
   ]
  },
  {
   "cell_type": "code",
   "execution_count": null,
   "metadata": {},
   "outputs": [],
   "source": [
    "item_df_final.to_csv(\"item_df_final_final.csv\", index=False)"
   ]
  },
  {
   "cell_type": "markdown",
   "metadata": {},
   "source": [
    "## 데이터 분포 살펴보기"
   ]
  },
  {
   "cell_type": "code",
   "execution_count": 1,
   "metadata": {
    "ExecuteTime": {
     "end_time": "2020-11-02T02:08:08.946141Z",
     "start_time": "2020-11-02T02:08:08.854343Z"
    },
    "scrolled": true
   },
   "outputs": [
    {
     "data": {
      "text/html": [
       "<div>\n",
       "<style scoped>\n",
       "    .dataframe tbody tr th:only-of-type {\n",
       "        vertical-align: middle;\n",
       "    }\n",
       "\n",
       "    .dataframe tbody tr th {\n",
       "        vertical-align: top;\n",
       "    }\n",
       "\n",
       "    .dataframe thead th {\n",
       "        text-align: right;\n",
       "    }\n",
       "</style>\n",
       "<table border=\"1\" class=\"dataframe\">\n",
       "  <thead>\n",
       "    <tr style=\"text-align: right;\">\n",
       "      <th></th>\n",
       "      <th>item_url</th>\n",
       "      <th>item_id</th>\n",
       "      <th>review</th>\n",
       "      <th>names</th>\n",
       "      <th>notes</th>\n",
       "      <th>house</th>\n",
       "      <th>rating</th>\n",
       "      <th>gender</th>\n",
       "    </tr>\n",
       "  </thead>\n",
       "  <tbody>\n",
       "    <tr>\n",
       "      <th>0</th>\n",
       "      <td>https://www.basenotes.net/ID26125576.html</td>\n",
       "      <td>ID26125576</td>\n",
       "      <td>83.0</td>\n",
       "      <td>Insolence Eau de Toilette</td>\n",
       "      <td>['Bergamot', 'Raspberry', 'Red berries', 'Lemo...</td>\n",
       "      <td>LVMH Moet Hennessy Louis Vuitton</td>\n",
       "      <td>3.41</td>\n",
       "      <td>Feminine</td>\n",
       "    </tr>\n",
       "    <tr>\n",
       "      <th>1</th>\n",
       "      <td>https://www.basenotes.net/ID26125684.html</td>\n",
       "      <td>ID26125684</td>\n",
       "      <td>6.0</td>\n",
       "      <td>Inspiration</td>\n",
       "      <td>['Pink peppercorn', 'Pomegranate', 'Mirabelle ...</td>\n",
       "      <td>Procter &amp; Gamble</td>\n",
       "      <td>3.52</td>\n",
       "      <td>Feminine</td>\n",
       "    </tr>\n",
       "    <tr>\n",
       "      <th>2</th>\n",
       "      <td>https://www.basenotes.net/ID26159251.html</td>\n",
       "      <td>ID26159251</td>\n",
       "      <td>5.0</td>\n",
       "      <td>Instant Crush</td>\n",
       "      <td>['Citrus fruits', 'Saffron', 'Ginger', 'Morocc...</td>\n",
       "      <td>Procter &amp; Gamble</td>\n",
       "      <td>3.86</td>\n",
       "      <td>Feminine</td>\n",
       "    </tr>\n",
       "    <tr>\n",
       "      <th>3</th>\n",
       "      <td>https://www.basenotes.net/ID26144138.html</td>\n",
       "      <td>ID26144138</td>\n",
       "      <td>13.0</td>\n",
       "      <td>Insurrection II Pure</td>\n",
       "      <td>['Pineapple', 'Vanilla', 'Birch']</td>\n",
       "      <td>Procter &amp; Gamble</td>\n",
       "      <td>3.79</td>\n",
       "      <td>Masculine</td>\n",
       "    </tr>\n",
       "    <tr>\n",
       "      <th>4</th>\n",
       "      <td>https://www.basenotes.net/ID26143347.html</td>\n",
       "      <td>ID26143347</td>\n",
       "      <td>10.0</td>\n",
       "      <td>Intense Black</td>\n",
       "      <td>['Calabrian lemon', 'Italian bergamot', 'Atlas...</td>\n",
       "      <td>Parour</td>\n",
       "      <td>3.64</td>\n",
       "      <td>Masculine</td>\n",
       "    </tr>\n",
       "    <tr>\n",
       "      <th>...</th>\n",
       "      <td>...</td>\n",
       "      <td>...</td>\n",
       "      <td>...</td>\n",
       "      <td>...</td>\n",
       "      <td>...</td>\n",
       "      <td>...</td>\n",
       "      <td>...</td>\n",
       "      <td>...</td>\n",
       "    </tr>\n",
       "    <tr>\n",
       "      <th>5465</th>\n",
       "      <td>https://www.basenotes.net/ID10210418.html</td>\n",
       "      <td>ID10210418</td>\n",
       "      <td>13.0</td>\n",
       "      <td>Initial</td>\n",
       "      <td>['Blackcurrant', 'Muguet', 'Tangerine', 'Rose'...</td>\n",
       "      <td>Inter Parfums</td>\n",
       "      <td>3.49</td>\n",
       "      <td>Feminine</td>\n",
       "    </tr>\n",
       "    <tr>\n",
       "      <th>5466</th>\n",
       "      <td>https://www.basenotes.net/ID10213063.html</td>\n",
       "      <td>ID10213063</td>\n",
       "      <td>10.0</td>\n",
       "      <td>Inouï</td>\n",
       "      <td>['Galbanum', 'Peach', 'Juniper', 'Lemon', 'Gre...</td>\n",
       "      <td>Groupe Clarins</td>\n",
       "      <td>4.30</td>\n",
       "      <td>Feminine</td>\n",
       "    </tr>\n",
       "    <tr>\n",
       "      <th>5467</th>\n",
       "      <td>https://www.basenotes.net/ID26120837.html</td>\n",
       "      <td>ID26120837</td>\n",
       "      <td>68.0</td>\n",
       "      <td>Insensé</td>\n",
       "      <td>['Blackcurrant', 'Mandarin', 'Basil', 'Magnoli...</td>\n",
       "      <td>LVMH Moet Hennessy Louis Vuitton</td>\n",
       "      <td>3.88</td>\n",
       "      <td>Masculine</td>\n",
       "    </tr>\n",
       "    <tr>\n",
       "      <th>5468</th>\n",
       "      <td>https://www.basenotes.net/ID26120838.html</td>\n",
       "      <td>ID26120838</td>\n",
       "      <td>38.0</td>\n",
       "      <td>Insensé Ultramarine</td>\n",
       "      <td>['Water fruits', 'Galbanum', 'Cardamom', 'Mint...</td>\n",
       "      <td>LVMH Moet Hennessy Louis Vuitton</td>\n",
       "      <td>3.26</td>\n",
       "      <td>Masculine</td>\n",
       "    </tr>\n",
       "    <tr>\n",
       "      <th>5469</th>\n",
       "      <td>https://www.basenotes.net/ID26143987.html</td>\n",
       "      <td>ID26143987</td>\n",
       "      <td>8.0</td>\n",
       "      <td>Insolence Eau de Parfum</td>\n",
       "      <td>['Red berries']</td>\n",
       "      <td>LVMH Moet Hennessy Louis Vuitton</td>\n",
       "      <td>3.91</td>\n",
       "      <td>Feminine</td>\n",
       "    </tr>\n",
       "  </tbody>\n",
       "</table>\n",
       "<p>5470 rows × 8 columns</p>\n",
       "</div>"
      ],
      "text/plain": [
       "                                       item_url     item_id  review  \\\n",
       "0     https://www.basenotes.net/ID26125576.html  ID26125576    83.0   \n",
       "1     https://www.basenotes.net/ID26125684.html  ID26125684     6.0   \n",
       "2     https://www.basenotes.net/ID26159251.html  ID26159251     5.0   \n",
       "3     https://www.basenotes.net/ID26144138.html  ID26144138    13.0   \n",
       "4     https://www.basenotes.net/ID26143347.html  ID26143347    10.0   \n",
       "...                                         ...         ...     ...   \n",
       "5465  https://www.basenotes.net/ID10210418.html  ID10210418    13.0   \n",
       "5466  https://www.basenotes.net/ID10213063.html  ID10213063    10.0   \n",
       "5467  https://www.basenotes.net/ID26120837.html  ID26120837    68.0   \n",
       "5468  https://www.basenotes.net/ID26120838.html  ID26120838    38.0   \n",
       "5469  https://www.basenotes.net/ID26143987.html  ID26143987     8.0   \n",
       "\n",
       "                          names  \\\n",
       "0     Insolence Eau de Toilette   \n",
       "1                   Inspiration   \n",
       "2                 Instant Crush   \n",
       "3          Insurrection II Pure   \n",
       "4                 Intense Black   \n",
       "...                         ...   \n",
       "5465                    Initial   \n",
       "5466                      Inouï   \n",
       "5467                    Insensé   \n",
       "5468        Insensé Ultramarine   \n",
       "5469    Insolence Eau de Parfum   \n",
       "\n",
       "                                                  notes  \\\n",
       "0     ['Bergamot', 'Raspberry', 'Red berries', 'Lemo...   \n",
       "1     ['Pink peppercorn', 'Pomegranate', 'Mirabelle ...   \n",
       "2     ['Citrus fruits', 'Saffron', 'Ginger', 'Morocc...   \n",
       "3                     ['Pineapple', 'Vanilla', 'Birch']   \n",
       "4     ['Calabrian lemon', 'Italian bergamot', 'Atlas...   \n",
       "...                                                 ...   \n",
       "5465  ['Blackcurrant', 'Muguet', 'Tangerine', 'Rose'...   \n",
       "5466  ['Galbanum', 'Peach', 'Juniper', 'Lemon', 'Gre...   \n",
       "5467  ['Blackcurrant', 'Mandarin', 'Basil', 'Magnoli...   \n",
       "5468  ['Water fruits', 'Galbanum', 'Cardamom', 'Mint...   \n",
       "5469                                    ['Red berries']   \n",
       "\n",
       "                                 house  rating     gender  \n",
       "0     LVMH Moet Hennessy Louis Vuitton    3.41   Feminine  \n",
       "1                     Procter & Gamble    3.52   Feminine  \n",
       "2                     Procter & Gamble    3.86   Feminine  \n",
       "3                     Procter & Gamble    3.79  Masculine  \n",
       "4                               Parour    3.64  Masculine  \n",
       "...                                ...     ...        ...  \n",
       "5465                     Inter Parfums    3.49   Feminine  \n",
       "5466                    Groupe Clarins    4.30   Feminine  \n",
       "5467  LVMH Moet Hennessy Louis Vuitton    3.88  Masculine  \n",
       "5468  LVMH Moet Hennessy Louis Vuitton    3.26  Masculine  \n",
       "5469  LVMH Moet Hennessy Louis Vuitton    3.91   Feminine  \n",
       "\n",
       "[5470 rows x 8 columns]"
      ]
     },
     "execution_count": 1,
     "metadata": {},
     "output_type": "execute_result"
    }
   ],
   "source": [
    "item_df_final = pd.read_csv(\"item_df_final_final.csv\")\n",
    "item_df_final"
   ]
  },
  {
   "cell_type": "markdown",
   "metadata": {},
   "source": [
    "### review"
   ]
  },
  {
   "cell_type": "code",
   "execution_count": 2,
   "metadata": {
    "ExecuteTime": {
     "end_time": "2020-11-02T02:08:22.211782Z",
     "start_time": "2020-11-02T02:08:21.845339Z"
    }
   },
   "outputs": [
    {
     "data": {
      "text/plain": [
       "<AxesSubplot:>"
      ]
     },
     "execution_count": 2,
     "metadata": {},
     "output_type": "execute_result"
    },
    {
     "data": {
      "image/png": "[encoded data removed]",
      "text/plain": [
       "<Figure size 432x288 with 1 Axes>"
      ]
     },
     "metadata": {
      "image/png": {
       "height": 248,
       "width": 381
      },
      "needs_background": "light"
     },
     "output_type": "display_data"
    }
   ],
   "source": [
    "item_df_final.review.hist()"
   ]
  },
  {
   "cell_type": "markdown",
   "metadata": {},
   "source": [
    "- review 는 0 - 50 사이에 screwed 되어있다"
   ]
  },
  {
   "cell_type": "code",
   "execution_count": 3,
   "metadata": {
    "ExecuteTime": {
     "end_time": "2020-11-02T02:08:23.693932Z",
     "start_time": "2020-11-02T02:08:23.447084Z"
    },
    "scrolled": true
   },
   "outputs": [
    {
     "data": {
      "text/plain": [
       "<AxesSubplot:>"
      ]
     },
     "execution_count": 3,
     "metadata": {},
     "output_type": "execute_result"
    },
    {
     "data": {
      "image/png": "[encoded data removed]",
      "text/plain": [
       "<Figure size 432x288 with 1 Axes>"
      ]
     },
     "metadata": {
      "image/png": {
       "height": 250,
       "width": 381
      },
      "needs_background": "light"
     },
     "output_type": "display_data"
    }
   ],
   "source": [
    "# 0 - 50 사이에 있는 향수의 review만 분포 살펴보기\n",
    "item_df_final.sort_values(by=\"review\")[:5000].review.hist()"
   ]
  },
  {
   "cell_type": "markdown",
   "metadata": {},
   "source": [
    "- 리뷰가 10 이하인 것이 절반"
   ]
  },
  {
   "cell_type": "markdown",
   "metadata": {},
   "source": [
    "### rating"
   ]
  },
  {
   "cell_type": "code",
   "execution_count": 4,
   "metadata": {
    "ExecuteTime": {
     "end_time": "2020-11-02T02:08:25.524556Z",
     "start_time": "2020-11-02T02:08:25.278021Z"
    }
   },
   "outputs": [
    {
     "data": {
      "text/plain": [
       "<AxesSubplot:>"
      ]
     },
     "execution_count": 4,
     "metadata": {},
     "output_type": "execute_result"
    },
    {
     "data": {
      "image/png": "[encoded data removed]",
      "text/plain": [
       "<Figure size 432x288 with 1 Axes>"
      ]
     },
     "metadata": {
      "image/png": {
       "height": 248,
       "width": 383
      },
      "needs_background": "light"
     },
     "output_type": "display_data"
    }
   ],
   "source": [
    "item_df_final.rating.hist()"
   ]
  },
  {
   "cell_type": "markdown",
   "metadata": {},
   "source": [
    "- 생각보다 예쁜 분포 모양을 보여준다.\n",
    "- 2.5 dlgk 4.5 이상은 거의 없음"
   ]
  },
  {
   "cell_type": "markdown",
   "metadata": {},
   "source": [
    "### gender"
   ]
  },
  {
   "cell_type": "code",
   "execution_count": 5,
   "metadata": {
    "ExecuteTime": {
     "end_time": "2020-11-02T02:08:46.776100Z",
     "start_time": "2020-11-02T02:08:46.768774Z"
    }
   },
   "outputs": [],
   "source": [
    "import matplotlib.pyplot as plt"
   ]
  },
  {
   "cell_type": "code",
   "execution_count": 8,
   "metadata": {
    "ExecuteTime": {
     "end_time": "2020-11-02T02:09:39.984467Z",
     "start_time": "2020-11-02T02:09:39.762934Z"
    }
   },
   "outputs": [
    {
     "data": {
      "text/plain": [
       "<AxesSubplot:>"
      ]
     },
     "execution_count": 8,
     "metadata": {},
     "output_type": "execute_result"
    },
    {
     "data": {
      "image/png": "[encoded data removed]",
      "text/plain": [
       "<Figure size 432x288 with 1 Axes>"
      ]
     },
     "metadata": {
      "image/png": {
       "height": 248,
       "width": 406
      },
      "needs_background": "light"
     },
     "output_type": "display_data"
    }
   ],
   "source": [
    "item_df_final.gender.hist()"
   ]
  }
 ],
 "metadata": {
  "kernelspec": {
   "display_name": "Python 3",
   "language": "python",
   "name": "python3"
  },
  "language_info": {
   "codemirror_mode": {
    "name": "ipython",
    "version": 3
   },
   "file_extension": ".py",
   "mimetype": "text/x-python",
   "name": "python",
   "nbconvert_exporter": "python",
   "pygments_lexer": "ipython3",
   "version": "3.7.6"
  },
  "toc": {
   "base_numbering": 1,
   "nav_menu": {},
   "number_sections": true,
   "sideBar": true,
   "skip_h1_title": true,
   "title_cell": "Table of Contents",
   "title_sidebar": "Contents",
   "toc_cell": false,
   "toc_position": {},
   "toc_section_display": true,
   "toc_window_display": true
  },
  "varInspector": {
   "cols": {
    "lenName": 16,
    "lenType": 16,
    "lenVar": 40
   },
   "kernels_config": {
    "python": {
     "delete_cmd_postfix": "",
     "delete_cmd_prefix": "del ",
     "library": "var_list.py",
     "varRefreshCmd": "print(var_dic_list())"
    },
    "r": {
     "delete_cmd_postfix": ") ",
     "delete_cmd_prefix": "rm(",
     "library": "var_list.r",
     "varRefreshCmd": "cat(var_dic_list()) "
    }
   },
   "types_to_exclude": [
    "module",
    "function",
    "builtin_function_or_method",
    "instance",
    "_Feature"
   ],
   "window_display": false
  }
 },
 "nbformat": 4,
 "nbformat_minor": 4
}
