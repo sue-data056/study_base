{
 "cells": [
  {
   "cell_type": "code",
   "execution_count": 25,
   "metadata": {
    "ExecuteTime": {
     "end_time": "2020-11-03T08:04:43.690746Z",
     "start_time": "2020-11-03T08:04:43.263059Z"
    }
   },
   "outputs": [],
   "source": [
    "import matplotlib.pyplot as plt\n",
    "import seaborn as sns"
   ]
  },
  {
   "cell_type": "markdown",
   "metadata": {
    "ExecuteTime": {
     "end_time": "2020-11-03T07:20:35.703817Z",
     "start_time": "2020-11-03T07:20:35.698624Z"
    }
   },
   "source": [
    "## CountVectorizer\n",
    "- 자연어에 대한 벡터화 진행"
   ]
  },
  {
   "cell_type": "code",
   "execution_count": 8,
   "metadata": {
    "ExecuteTime": {
     "end_time": "2020-11-03T07:51:22.361861Z",
     "start_time": "2020-11-03T07:51:22.305404Z"
    }
   },
   "outputs": [],
   "source": [
    "perfume_df = pd.read_csv(\"perfume_df.csv\")"
   ]
  },
  {
   "cell_type": "code",
   "execution_count": 61,
   "metadata": {
    "ExecuteTime": {
     "end_time": "2020-11-03T09:03:52.923253Z",
     "start_time": "2020-11-03T09:03:52.890204Z"
    }
   },
   "outputs": [],
   "source": [
    "perfume_df = perfume_df.drop(columns=\"corpus1\")"
   ]
  },
  {
   "cell_type": "code",
   "execution_count": 9,
   "metadata": {
    "ExecuteTime": {
     "end_time": "2020-11-03T07:51:22.664088Z",
     "start_time": "2020-11-03T07:51:22.641743Z"
    }
   },
   "outputs": [],
   "source": [
    "from sklearn.feature_extraction.text import CountVectorizer"
   ]
  },
  {
   "cell_type": "code",
   "execution_count": 68,
   "metadata": {
    "ExecuteTime": {
     "end_time": "2020-11-03T09:07:26.589352Z",
     "start_time": "2020-11-03T09:07:26.351710Z"
    }
   },
   "outputs": [],
   "source": [
    "count_vect = CountVectorizer(stop_words='english', analyzer='word', max_df=20)\n",
    "note_mat = count_vect.fit_transform(perfume_df[\"corpus\"])\n",
    "perfume_count = note_mat.toarray() # 데이터가 없는 곳에는 0으로 넣어주기\n",
    "perfume_count_df = pd.DataFrame(perfume_count)"
   ]
  },
  {
   "cell_type": "code",
   "execution_count": 114,
   "metadata": {
    "ExecuteTime": {
     "end_time": "2020-11-03T10:09:18.044037Z",
     "start_time": "2020-11-03T10:09:17.949558Z"
    }
   },
   "outputs": [
    {
     "name": "stdout",
     "output_type": "stream",
     "text": [
      "False    12498\n",
      "True        30\n",
      "dtype: int64\n"
     ]
    }
   ],
   "source": [
    "print((perfume_count_df.sum() > 30).value_counts())\n",
    "col_idx = perfume_count_df.sum() > 30"
   ]
  },
  {
   "cell_type": "code",
   "execution_count": 115,
   "metadata": {
    "ExecuteTime": {
     "end_time": "2020-11-03T10:09:18.600894Z",
     "start_time": "2020-11-03T10:09:18.595885Z"
    }
   },
   "outputs": [],
   "source": [
    "perfume_count_df1 = perfume_count_df.loc[:,perfume_count_df.columns[col_idx]]"
   ]
  },
  {
   "cell_type": "markdown",
   "metadata": {},
   "source": [
    "## Clustering"
   ]
  },
  {
   "cell_type": "markdown",
   "metadata": {},
   "source": [
    "### AGNES : 계층적 클러스터링 알고리즘"
   ]
  },
  {
   "cell_type": "code",
   "execution_count": 116,
   "metadata": {
    "ExecuteTime": {
     "end_time": "2020-11-03T10:09:19.172203Z",
     "start_time": "2020-11-03T10:09:19.168796Z"
    }
   },
   "outputs": [],
   "source": [
    "from sklearn.cluster import AgglomerativeClustering\n",
    "from sklearn import metrics"
   ]
  },
  {
   "cell_type": "code",
   "execution_count": 117,
   "metadata": {
    "ExecuteTime": {
     "end_time": "2020-11-03T10:09:19.819118Z",
     "start_time": "2020-11-03T10:09:19.680308Z"
    }
   },
   "outputs": [
    {
     "name": "stdout",
     "output_type": "stream",
     "text": [
      "n_clusters = 3, silhouette score 0.685278\n",
      "n_clusters = 4, silhouette score 0.605438\n",
      "n_clusters = 5, silhouette score 0.535327\n",
      "n_clusters = 6, silhouette score 0.537362\n",
      "n_clusters = 7, silhouette score 0.545763\n",
      "n_clusters = 8, silhouette score 0.553045\n",
      "n_clusters = 9, silhouette score 0.520874\n",
      "n_clusters = 10, silhouette score 0.526944\n"
     ]
    }
   ],
   "source": [
    "n_clusters = [3,4,5, 6, 7, 8, 9, 10]\n",
    "\n",
    "for num in n_clusters:\n",
    "    HCA = AgglomerativeClustering(n_clusters = num, affinity = 'euclidean', linkage = 'ward',\n",
    "                               compute_full_tree = True)\n",
    "    cluster_labels = HCA.fit_predict(perfume_count_df1)\n",
    "    S = metrics.silhouette_score(perfume_count_df1, cluster_labels)\n",
    "    print(\"n_clusters = {:d}, silhouette score {:1f}\".format(num, S))"
   ]
  },
  {
   "cell_type": "code",
   "execution_count": null,
   "metadata": {},
   "outputs": [],
   "source": [
    "n_clusters = [3,4,5, 6, 7, 8, 9, 10]\n",
    "\n",
    "for num in n_clusters:\n",
    "    HCA = AgglomerativeClustering(n_clusters = num, affinity = 'euclidean', linkage = 'ward',\n",
    "                               compute_full_tree = True)\n",
    "    cluster_labels = HCA.fit_predict(perfume_count_df1)\n",
    "    S = metrics.silhouette_score(perfume_count_df1, cluster_labels)\n",
    "    print(\"n_clusters = {:d}, silhouette score {:1f}\".format(num, S))"
   ]
  },
  {
   "cell_type": "markdown",
   "metadata": {},
   "source": [
    "### k-means"
   ]
  },
  {
   "cell_type": "code",
   "execution_count": 121,
   "metadata": {
    "ExecuteTime": {
     "end_time": "2020-11-03T10:13:59.467303Z",
     "start_time": "2020-11-03T10:13:59.460737Z"
    }
   },
   "outputs": [],
   "source": [
    "from sklearn.cluster import KMeans"
   ]
  },
  {
   "cell_type": "code",
   "execution_count": 123,
   "metadata": {
    "ExecuteTime": {
     "end_time": "2020-11-03T10:15:54.039761Z",
     "start_time": "2020-11-03T10:15:53.591925Z"
    }
   },
   "outputs": [
    {
     "name": "stdout",
     "output_type": "stream",
     "text": [
      "4739.815602836866\n",
      "n_clusters = 2, silhouette score 0.780117\n",
      "4523.949290293046\n",
      "n_clusters = 3, silhouette score 0.516595\n",
      "4137.444713478613\n",
      "n_clusters = 4, silhouette score 0.613756\n",
      "3921.8456486042796\n",
      "n_clusters = 5, silhouette score 0.537491\n",
      "3732.056147832275\n",
      "n_clusters = 6, silhouette score 0.544797\n",
      "3534.007059105052\n",
      "n_clusters = 7, silhouette score 0.553308\n",
      "3487.544884250922\n",
      "n_clusters = 8, silhouette score 0.494051\n"
     ]
    }
   ],
   "source": [
    "n_clusters = [2, 3, 4, 5, 6, 7, 8]\n",
    "\n",
    "for k in n_clusters:\n",
    "    kmeans = KMeans(n_clusters = k, random_state = 42).fit(perfume_count_df1)\n",
    "    cluster_labels = kmeans.predict(perfume_count_df1)\n",
    "    S = metrics.silhouette_score(perfume_count_df1, cluster_labels)\n",
    "    print(kmeans.inertia_)\n",
    "    print(\"n_clusters = {:d}, silhouette score {:1f}\".format(k, S))"
   ]
  },
  {
   "cell_type": "markdown",
   "metadata": {},
   "source": [
    "### DBSCAN"
   ]
  },
  {
   "cell_type": "code",
   "execution_count": 124,
   "metadata": {
    "ExecuteTime": {
     "end_time": "2020-11-03T10:16:51.722184Z",
     "start_time": "2020-11-03T10:16:51.718454Z"
    }
   },
   "outputs": [],
   "source": [
    "from sklearn.cluster import DBSCAN"
   ]
  },
  {
   "cell_type": "code",
   "execution_count": 154,
   "metadata": {
    "ExecuteTime": {
     "end_time": "2020-11-03T10:23:07.719641Z",
     "start_time": "2020-11-03T10:23:07.690635Z"
    }
   },
   "outputs": [],
   "source": [
    "dbscan = DBSCAN(eps=10, min_samples=50).fit(perfume_count_df1)"
   ]
  },
  {
   "cell_type": "code",
   "execution_count": 155,
   "metadata": {
    "ExecuteTime": {
     "end_time": "2020-11-03T10:23:08.309623Z",
     "start_time": "2020-11-03T10:23:08.297870Z"
    }
   },
   "outputs": [
    {
     "name": "stdout",
     "output_type": "stream",
     "text": [
      "silhouette score 0.843286\n"
     ]
    }
   ],
   "source": [
    "S = metrics.silhouette_score(perfume_count_df1, dbscan.labels_)\n",
    "print(\"silhouette score {:1f}\".format(S))"
   ]
  },
  {
   "cell_type": "code",
   "execution_count": 162,
   "metadata": {
    "ExecuteTime": {
     "end_time": "2020-11-03T10:42:36.638575Z",
     "start_time": "2020-11-03T10:42:36.628678Z"
    }
   },
   "outputs": [],
   "source": [
    "from matplotlib import cm\n",
    "\n",
    "def plotSilhouette(X, y_km):\n",
    "    cluster_labels = np.unique(y_km)\n",
    "    n_clusters = cluster_labels.shape[0]\n",
    "    silhouette_vals = metrics.silhouette_samples(X, y_km, metric=\"euclidean\")\n",
    "    y_ax_lower, y_ax_upper = 0, 0\n",
    "    yticks = []\n",
    "    \n",
    "    for i, c in enumerate(cluster_labels):\n",
    "        c_silhouette_vals = silhouette_vals[y_km == c]\n",
    "        c_silhouette_vals.sort()\n",
    "        y_ax_upper += len(c_silhouette_vals)\n",
    "        color = cm.jet(i/n_clusters)\n",
    "        \n",
    "        plt.barh(range(y_ax_lower, y_ax_upper), c_silhouette_vals, height=1.0, edgecolor='none', color=color)\n",
    "        yticks.append((y_ax_lower + y_ax_upper)/2)\n",
    "        y_ax_lower += len(c_silhouette_vals)\n",
    "        \n",
    "    silhouette_avg = np.mean(silhouette_vals)\n",
    "    plt.axvline(silhouette_avg, color='red', linestyle='--')\n",
    "    plt.yticks(yticks, cluster_labels+1)\n",
    "    plt.ylabel('cluster')\n",
    "    plt.xlabel('# of silhouette')\n",
    "    plt.show()"
   ]
  },
  {
   "cell_type": "code",
   "execution_count": 163,
   "metadata": {
    "ExecuteTime": {
     "end_time": "2020-11-03T10:42:46.261443Z",
     "start_time": "2020-11-03T10:42:37.296313Z"
    }
   },
   "outputs": [
    {
     "data": {
      "image/png": "[encoded data removed]",
      "text/plain": [
       "<Figure size 432x288 with 1 Axes>"
      ]
     },
     "metadata": {
      "image/png": {
       "height": 261,
       "width": 376
      },
      "needs_background": "light"
     },
     "output_type": "display_data"
    },
    {
     "data": {
      "image/png": "[encoded data removed]",
      "text/plain": [
       "<Figure size 432x288 with 1 Axes>"
      ]
     },
     "metadata": {
      "image/png": {
       "height": 261,
       "width": 376
      },
      "needs_background": "light"
     },
     "output_type": "display_data"
    },
    {
     "data": {
      "image/png": "[encoded data removed]",
      "text/plain": [
       "<Figure size 432x288 with 1 Axes>"
      ]
     },
     "metadata": {
      "image/png": {
       "height": 261,
       "width": 376
      },
      "needs_background": "light"
     },
     "output_type": "display_data"
    },
    {
     "data": {
      "image/png": "[encoded data removed]",
      "text/plain": [
       "<Figure size 432x288 with 1 Axes>"
      ]
     },
     "metadata": {
      "image/png": {
       "height": 261,
       "width": 376
      },
      "needs_background": "light"
     },
     "output_type": "display_data"
    },
    {
     "data": {
      "image/png": "[encoded data removed]",
      "text/plain": [
       "<Figure size 432x288 with 1 Axes>"
      ]
     },
     "metadata": {
      "image/png": {
       "height": 261,
       "width": 376
      },
      "needs_background": "light"
     },
     "output_type": "display_data"
    },
    {
     "data": {
      "image/png": "[encoded data removed]",
      "text/plain": [
       "<Figure size 432x288 with 1 Axes>"
      ]
     },
     "metadata": {
      "image/png": {
       "height": 261,
       "width": 376
      },
      "needs_background": "light"
     },
     "output_type": "display_data"
    },
    {
     "data": {
      "image/png": "[encoded data removed]",
      "text/plain": [
       "<Figure size 432x288 with 1 Axes>"
      ]
     },
     "metadata": {
      "image/png": {
       "height": 261,
       "width": 376
      },
      "needs_background": "light"
     },
     "output_type": "display_data"
    }
   ],
   "source": [
    "n_clusters = [2, 3, 4, 5, 6, 7, 8]\n",
    "\n",
    "for k in n_clusters:\n",
    "    km = KMeans(n_clusters = k, random_state = 42)\n",
    "    y_km = km.fit_predict(perfume_count_df1)\n",
    "    plotSilhouette(perfume_count_df1, y_km)"
   ]
  },
  {
   "cell_type": "code",
   "execution_count": null,
   "metadata": {},
   "outputs": [],
   "source": []
  }
 ],
 "metadata": {
  "kernelspec": {
   "display_name": "Python 3",
   "language": "python",
   "name": "python3"
  },
  "language_info": {
   "codemirror_mode": {
    "name": "ipython",
    "version": 3
   },
   "file_extension": ".py",
   "mimetype": "text/x-python",
   "name": "python",
   "nbconvert_exporter": "python",
   "pygments_lexer": "ipython3",
   "version": "3.7.6"
  },
  "toc": {
   "base_numbering": 1,
   "nav_menu": {},
   "number_sections": true,
   "sideBar": true,
   "skip_h1_title": true,
   "title_cell": "Table of Contents",
   "title_sidebar": "Contents",
   "toc_cell": false,
   "toc_position": {
    "height": "calc(100% - 180px)",
    "left": "10px",
    "top": "150px",
    "width": "165px"
   },
   "toc_section_display": true,
   "toc_window_display": true
  },
  "varInspector": {
   "cols": {
    "lenName": 16,
    "lenType": 16,
    "lenVar": 40
   },
   "kernels_config": {
    "python": {
     "delete_cmd_postfix": "",
     "delete_cmd_prefix": "del ",
     "library": "var_list.py",
     "varRefreshCmd": "print(var_dic_list())"
    },
    "r": {
     "delete_cmd_postfix": ") ",
     "delete_cmd_prefix": "rm(",
     "library": "var_list.r",
     "varRefreshCmd": "cat(var_dic_list()) "
    }
   },
   "types_to_exclude": [
    "module",
    "function",
    "builtin_function_or_method",
    "instance",
    "_Feature"
   ],
   "window_display": false
  }
 },
 "nbformat": 4,
 "nbformat_minor": 4
}
