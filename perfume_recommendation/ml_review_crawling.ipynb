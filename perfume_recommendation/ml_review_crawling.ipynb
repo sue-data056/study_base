{
 "cells": [
  {
   "cell_type": "markdown",
   "metadata": {},
   "source": [
    "# Review data crawling"
   ]
  },
  {
   "cell_type": "code",
   "execution_count": 20,
   "metadata": {
    "ExecuteTime": {
     "end_time": "2020-11-01T04:52:01.602546Z",
     "start_time": "2020-11-01T04:52:01.597654Z"
    }
   },
   "outputs": [],
   "source": [
    "import requests\n",
    "from bs4 import BeautifulSoup as bs\n",
    "import time\n",
    "import json"
   ]
  },
  {
   "cell_type": "code",
   "execution_count": 76,
   "metadata": {
    "ExecuteTime": {
     "end_time": "2020-10-31T16:30:48.894827Z",
     "start_time": "2020-10-31T16:30:48.889180Z"
    }
   },
   "outputs": [],
   "source": [
    "review_df = pd.DataFrame()"
   ]
  },
  {
   "cell_type": "code",
   "execution_count": null,
   "metadata": {},
   "outputs": [],
   "source": [
    "for page_num in range(3446,5351):\n",
    "    print(\"=========== {} 페이지 진행중 ===========\".format(page_num))\n",
    "    url = \"https://www.basenotes.net/fragrancereviews/page/{}\".format(page_num)\n",
    "    request = requests.get(url=url)\n",
    "    soup = bs(request.text, 'html.parser')\n",
    "    \n",
    "    ## good한 것\n",
    "    review3 = soup.find_all(\"div\", {\"class\":\"reviewmain review3\"})\n",
    "    users_3 = [x.select_one(\"a\").get(\"href\").split(\"/\")[-1] for x in review3]\n",
    "    perfumes_3 = [x.select_one(\"h2 > a\").get(\"href\").split(\"/\")[-1][:10] for x in review3]\n",
    "    rate_3 = [3]*len(perfumes_3)\n",
    "    item_3 = pd.DataFrame({\"userID\":users_3, \"perfumeID\":perfumes_3, \"rate\":rate_3})\n",
    "    \n",
    "    ## soso한 것\n",
    "    review2 = soup.find_all(\"div\", {\"class\":\"reviewmain review2\"})\n",
    "    users_2 = [x.select_one(\"a\").get(\"href\").split(\"/\")[-1] for x in review2]\n",
    "    perfumes_2 = [x.select_one(\"h2 > a\").get(\"href\").split(\"/\")[-1][:10] for x in review2]\n",
    "    rate_2 = [2]*len(perfumes_2)\n",
    "    item_2 = pd.DataFrame({\"userID\":users_2, \"perfumeID\":perfumes_2, \"rate\":rate_2})\n",
    "    \n",
    "    ## bad 한 것\n",
    "    review1 = soup.find_all(\"div\", {\"class\":\"reviewmain review1\"})\n",
    "    users_1 = [x.select_one(\"a\").get(\"href\").split(\"/\")[-1] for x in review1]\n",
    "    perfumes_1 = [x.select_one(\"h2 > a\").get(\"href\").split(\"/\")[-1][:10] for x in review1]\n",
    "    rate_1 = [1]*len(perfumes_1)\n",
    "    item_1 = pd.DataFrame({\"userID\":users_1, \"perfumeID\":perfumes_1, \"rate\":rate_1})\n",
    "    \n",
    "    review_df = pd.concat([review_df, item_1, item_2, item_3], axis=0)\n",
    "    \n",
    "review_df"
   ]
  },
  {
   "cell_type": "code",
   "execution_count": 117,
   "metadata": {
    "ExecuteTime": {
     "end_time": "2020-11-01T04:31:47.390720Z",
     "start_time": "2020-11-01T04:31:46.971034Z"
    }
   },
   "outputs": [],
   "source": [
    "review_df.to_csv(\"review_final_final.csv\", index=False)"
   ]
  },
  {
   "cell_type": "code",
   "execution_count": 24,
   "metadata": {
    "ExecuteTime": {
     "end_time": "2020-11-02T05:21:59.119067Z",
     "start_time": "2020-11-02T05:21:59.008162Z"
    }
   },
   "outputs": [
    {
     "data": {
      "text/html": [
       "<div>\n",
       "<style scoped>\n",
       "    .dataframe tbody tr th:only-of-type {\n",
       "        vertical-align: middle;\n",
       "    }\n",
       "\n",
       "    .dataframe tbody tr th {\n",
       "        vertical-align: top;\n",
       "    }\n",
       "\n",
       "    .dataframe thead th {\n",
       "        text-align: right;\n",
       "    }\n",
       "</style>\n",
       "<table border=\"1\" class=\"dataframe\">\n",
       "  <thead>\n",
       "    <tr style=\"text-align: right;\">\n",
       "      <th></th>\n",
       "      <th>userID</th>\n",
       "      <th>perfumeID</th>\n",
       "      <th>rate</th>\n",
       "    </tr>\n",
       "  </thead>\n",
       "  <tbody>\n",
       "    <tr>\n",
       "      <th>0</th>\n",
       "      <td>13391242</td>\n",
       "      <td>ID26162042</td>\n",
       "      <td>2.0</td>\n",
       "    </tr>\n",
       "    <tr>\n",
       "      <th>1</th>\n",
       "      <td>13381457</td>\n",
       "      <td>ID26120578</td>\n",
       "      <td>2.0</td>\n",
       "    </tr>\n",
       "    <tr>\n",
       "      <th>2</th>\n",
       "      <td>26195006</td>\n",
       "      <td>ID26162042</td>\n",
       "      <td>2.0</td>\n",
       "    </tr>\n",
       "    <tr>\n",
       "      <th>3</th>\n",
       "      <td>26226431</td>\n",
       "      <td>ID26121487</td>\n",
       "      <td>2.0</td>\n",
       "    </tr>\n",
       "    <tr>\n",
       "      <th>4</th>\n",
       "      <td>26195006</td>\n",
       "      <td>ID26124934</td>\n",
       "      <td>2.0</td>\n",
       "    </tr>\n",
       "    <tr>\n",
       "      <th>...</th>\n",
       "      <td>...</td>\n",
       "      <td>...</td>\n",
       "      <td>...</td>\n",
       "    </tr>\n",
       "    <tr>\n",
       "      <th>160178</th>\n",
       "      <td>1993</td>\n",
       "      <td>ID26120398</td>\n",
       "      <td>3.0</td>\n",
       "    </tr>\n",
       "    <tr>\n",
       "      <th>160179</th>\n",
       "      <td>1993</td>\n",
       "      <td>ID26120028</td>\n",
       "      <td>3.0</td>\n",
       "    </tr>\n",
       "    <tr>\n",
       "      <th>160180</th>\n",
       "      <td>1993</td>\n",
       "      <td>ID26121716</td>\n",
       "      <td>3.0</td>\n",
       "    </tr>\n",
       "    <tr>\n",
       "      <th>160181</th>\n",
       "      <td>1993</td>\n",
       "      <td>ID26121301</td>\n",
       "      <td>3.0</td>\n",
       "    </tr>\n",
       "    <tr>\n",
       "      <th>160182</th>\n",
       "      <td>1993</td>\n",
       "      <td>ID26120240</td>\n",
       "      <td>3.0</td>\n",
       "    </tr>\n",
       "  </tbody>\n",
       "</table>\n",
       "<p>160183 rows × 3 columns</p>\n",
       "</div>"
      ],
      "text/plain": [
       "          userID   perfumeID  rate\n",
       "0       13391242  ID26162042   2.0\n",
       "1       13381457  ID26120578   2.0\n",
       "2       26195006  ID26162042   2.0\n",
       "3       26226431  ID26121487   2.0\n",
       "4       26195006  ID26124934   2.0\n",
       "...          ...         ...   ...\n",
       "160178      1993  ID26120398   3.0\n",
       "160179      1993  ID26120028   3.0\n",
       "160180      1993  ID26121716   3.0\n",
       "160181      1993  ID26121301   3.0\n",
       "160182      1993  ID26120240   3.0\n",
       "\n",
       "[160183 rows x 3 columns]"
      ]
     },
     "execution_count": 24,
     "metadata": {},
     "output_type": "execute_result"
    }
   ],
   "source": [
    "pd.read_csv(\"review_final_final.csv\")"
   ]
  }
 ],
 "metadata": {
  "kernelspec": {
   "display_name": "Python 3",
   "language": "python",
   "name": "python3"
  },
  "language_info": {
   "codemirror_mode": {
    "name": "ipython",
    "version": 3
   },
   "file_extension": ".py",
   "mimetype": "text/x-python",
   "name": "python",
   "nbconvert_exporter": "python",
   "pygments_lexer": "ipython3",
   "version": "3.7.6"
  },
  "toc": {
   "base_numbering": 1,
   "nav_menu": {},
   "number_sections": true,
   "sideBar": true,
   "skip_h1_title": true,
   "title_cell": "Table of Contents",
   "title_sidebar": "Contents",
   "toc_cell": false,
   "toc_position": {},
   "toc_section_display": true,
   "toc_window_display": true
  },
  "varInspector": {
   "cols": {
    "lenName": 16,
    "lenType": 16,
    "lenVar": 40
   },
   "kernels_config": {
    "python": {
     "delete_cmd_postfix": "",
     "delete_cmd_prefix": "del ",
     "library": "var_list.py",
     "varRefreshCmd": "print(var_dic_list())"
    },
    "r": {
     "delete_cmd_postfix": ") ",
     "delete_cmd_prefix": "rm(",
     "library": "var_list.r",
     "varRefreshCmd": "cat(var_dic_list()) "
    }
   },
   "types_to_exclude": [
    "module",
    "function",
    "builtin_function_or_method",
    "instance",
    "_Feature"
   ],
   "window_display": false
  }
 },
 "nbformat": 4,
 "nbformat_minor": 4
}
