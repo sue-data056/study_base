{
 "cells": [
  {
   "cell_type": "markdown",
   "metadata": {},
   "source": [
    "#### 네이버 기사 제목 데이터 크롤링\n",
    "- selenium 을 이용한 텍스트 데이터 수집\n",
    "- thread 를 사용한 데이터 수집 (크롤링을 더 빠르게 하는 방법 : request와 response 중간의 ideal time도 다음 request하는 시간으로 사용 )\n",
    "- 단점 : 끝나는 시점을 정확히 알 수 없음 (=비동기 방식 / 그냥 방식이 동기 방식)"
   ]
  },
  {
   "cell_type": "code",
   "execution_count": 2,
   "metadata": {},
   "outputs": [],
   "source": [
    "from selenium import webdriver"
   ]
  },
  {
   "cell_type": "code",
   "execution_count": 7,
   "metadata": {},
   "outputs": [],
   "source": [
    "page = 2\n",
    "url = \"https://news.naver.com/main/main.nhn?\\\n",
    "mode=LSD&mid=shm&sid1=105#&date=%2000:00:00&page={}\".format(page)"
   ]
  },
  {
   "cell_type": "code",
   "execution_count": 8,
   "metadata": {},
   "outputs": [],
   "source": [
    "driver = webdriver.Chrome()\n",
    "driver.get(url)"
   ]
  },
  {
   "cell_type": "code",
   "execution_count": 16,
   "metadata": {},
   "outputs": [
    {
     "data": {
      "text/plain": [
       "20"
      ]
     },
     "execution_count": 16,
     "metadata": {},
     "output_type": "execute_result"
    }
   ],
   "source": [
    "articles = driver.find_elements_by_css_selector(\"#section_body li\")\n",
    "len(articles)"
   ]
  },
  {
   "cell_type": "code",
   "execution_count": 17,
   "metadata": {},
   "outputs": [
    {
     "data": {
      "text/plain": [
       "<selenium.webdriver.remote.webelement.WebElement (session=\"0c0efeae4de4cf440fc20e97db4a9f07\", element=\"1f5422a0-b250-4966-aa6f-af5655d8b914\")>"
      ]
     },
     "execution_count": 17,
     "metadata": {},
     "output_type": "execute_result"
    }
   ],
   "source": [
    "articles[0]"
   ]
  },
  {
   "cell_type": "code",
   "execution_count": 21,
   "metadata": {},
   "outputs": [
    {
     "data": {
      "text/plain": [
       "'[`디지털-뉴노멀`의 미래를 묻다] 5년후 10배 커지는 시장… 글로벌 선점경쟁'"
      ]
     },
     "execution_count": 21,
     "metadata": {},
     "output_type": "execute_result"
    }
   ],
   "source": [
    "articles[0].find_element_by_css_selector(\"dt:not(.photo) > a\").text"
   ]
  },
  {
   "cell_type": "code",
   "execution_count": 22,
   "metadata": {},
   "outputs": [],
   "source": [
    "article_list = []\n",
    "\n",
    "for article in articles:\n",
    "    title = article.find_element_by_css_selector(\"dt:not(.photo) > a\").text\n",
    "    article_list.append(title)"
   ]
  },
  {
   "cell_type": "code",
   "execution_count": 23,
   "metadata": {},
   "outputs": [
    {
     "data": {
      "text/plain": [
       "['[`디지털-뉴노멀`의 미래를 묻다] 5년후 10배 커지는 시장… 글로벌 선점경쟁',\n",
       " '美 통화감독청장 \"디지털화폐 더는 무시할 수 없다\"',\n",
       " \"[김기자의 두잇(IT)] 작은귀에도 '빠지지 않는' 갤럭시 버즈 라이브\",\n",
       " '미하엘 헤크마이어 머크 수석부사장 “디스플레이, 인간-데이터 잇는 핵심 인터페이스”',\n",
       " \"[살까말까] 음식물 처리기, '음쓰' 걱정 날려줄까\",\n",
       " '카카오페이지, 대만법인 설립…네이버 1위 아성에 도전',\n",
       " '마이데이터, 기존 업체 우선심사...득과 실은?',\n",
       " \"애플 '아이폰12' LG 'Q92'…5G폰 선택지 넓어진다\",\n",
       " '[달콤한 사이언스] 코로나 우습게 봐선 안되는 이유...재감염 가능성과 심각한 후유증 때문',\n",
       " '카카오, 역대 최대 규모 개발자 공채…세자릿수 뽑는다(종합)',\n",
       " '정부-의료계, 대화 물꼬 텄지만…의료 공백 우려는 `여전`',\n",
       " '굿바이, 스물다섯…인터넷익스플로러',\n",
       " '당신의 개와 고양이, 신종 코로나에 무사한가요?',\n",
       " \"블랙베리 이어 노키아도 '꿈틀'...인도 저가폰 시장 공략\",\n",
       " 'IT업계, 엔터테인먼트 영토확장 불 붙었다',\n",
       " \"정부 주도 'K-OTT 협의체' 가동…'공룡' 넷플릭스 대항마 나올까\",\n",
       " \"'서머너즈 워'에 '스트리트 파이터' 접목…게임도 콜라보 시대\",\n",
       " '\"4.5조원 日 웹툰 잡아라\"…카카오·네이버, 시장공략 가속',\n",
       " '5G 스마트폰 시장 출사표 던진 구글, 이번에는 다를까',\n",
       " '뉴스 개인브랜딩 강화하는 네이버… 기자명 클릭수 2배로']"
      ]
     },
     "execution_count": 23,
     "metadata": {},
     "output_type": "execute_result"
    }
   ],
   "source": [
    "article_list"
   ]
  },
  {
   "cell_type": "code",
   "execution_count": 24,
   "metadata": {},
   "outputs": [],
   "source": [
    "driver.quit()"
   ]
  },
  {
   "cell_type": "code",
   "execution_count": 25,
   "metadata": {},
   "outputs": [],
   "source": [
    "# 함수로 만들기\n",
    "article_list = []\n",
    "\n",
    "def get_articles(page):\n",
    "    driver = webdriver.Chrome()\n",
    "    url = \"https://news.naver.com/main/main.nhn?\\\n",
    "mode=LSD&mid=shm&sid1=105#&date=%2000:00:00&page={}\".format(page)\n",
    "    driver.get(url)\n",
    "    articles = driver.find_elements_by_css_selector(\"#section_body li\")\n",
    "    for article in articles:\n",
    "        title = article.find_element_by_css_selector(\"dt:not(.photo) > a\").text\n",
    "        article_list.append(title)\n",
    "    print(\"crawling : {}\".format(page))\n",
    "    driver.quit()"
   ]
  },
  {
   "cell_type": "code",
   "execution_count": 26,
   "metadata": {},
   "outputs": [
    {
     "name": "stdout",
     "output_type": "stream",
     "text": [
      "crawling : 1\n",
      "crawling : 2\n",
      "crawling : 3\n",
      "crawling : 4\n",
      "CPU times: user 202 ms, sys: 45.7 ms, total: 248 ms\n",
      "Wall time: 18.8 s\n"
     ]
    }
   ],
   "source": [
    "%%time\n",
    "for page in range(1, 5):\n",
    "    get_articles(page)"
   ]
  },
  {
   "cell_type": "code",
   "execution_count": 28,
   "metadata": {},
   "outputs": [
    {
     "data": {
      "text/plain": [
       "80"
      ]
     },
     "execution_count": 28,
     "metadata": {},
     "output_type": "execute_result"
    }
   ],
   "source": [
    "len(article_list) # 20개씩 4페이지이니까"
   ]
  },
  {
   "cell_type": "markdown",
   "metadata": {},
   "source": [
    "#### thread 사용"
   ]
  },
  {
   "cell_type": "code",
   "execution_count": 29,
   "metadata": {},
   "outputs": [],
   "source": [
    "import threading"
   ]
  },
  {
   "cell_type": "code",
   "execution_count": 33,
   "metadata": {},
   "outputs": [],
   "source": [
    "article_list = []\n",
    "\n",
    "for page in range(1, 5):\n",
    "    th = threading.Thread(target=get_articles, args=(page,))  # page 뒤에 , 를 붙이는 이유는 \n",
    "                                             # 연산자 우선순위 ()가 아닌 튜플로 선언해 주기 위해서\n",
    "    #target에 실행시킬 함수를 넣는 것\n",
    "    th.start()"
   ]
  },
  {
   "cell_type": "code",
   "execution_count": 34,
   "metadata": {},
   "outputs": [
    {
     "name": "stdout",
     "output_type": "stream",
     "text": [
      "1 2 3 4 5 6 7 crawling : 2\n",
      "8 crawling : 3\n",
      "9 10 crawling : 1\n",
      "crawling : 4\n",
      "11 "
     ]
    }
   ],
   "source": [
    "import time\n",
    "sec = 0\n",
    "while len(article_list) < 80:\n",
    "    time.sleep(1)\n",
    "    sec += 1\n",
    "    print(sec, end=\" \")\n",
    "    \n",
    "# 위에꺼랑 동시에 실행시키면 초가 보이겠죠"
   ]
  },
  {
   "cell_type": "code",
   "execution_count": null,
   "metadata": {},
   "outputs": [],
   "source": []
  }
 ],
 "metadata": {
  "kernelspec": {
   "display_name": "Python 3",
   "language": "python",
   "name": "python3"
  },
  "language_info": {
   "codemirror_mode": {
    "name": "ipython",
    "version": 3
   },
   "file_extension": ".py",
   "mimetype": "text/x-python",
   "name": "python",
   "nbconvert_exporter": "python",
   "pygments_lexer": "ipython3",
   "version": "3.7.6"
  },
  "toc": {
   "base_numbering": 1,
   "nav_menu": {},
   "number_sections": true,
   "sideBar": true,
   "skip_h1_title": false,
   "title_cell": "Table of Contents",
   "title_sidebar": "Contents",
   "toc_cell": false,
   "toc_position": {},
   "toc_section_display": true,
   "toc_window_display": false
  }
 },
 "nbformat": 4,
 "nbformat_minor": 2
}
